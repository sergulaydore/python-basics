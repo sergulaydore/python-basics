{
 "metadata": {
  "name": "",
  "signature": "sha256:46de05e7e9fd865d261f693ccf1fed218fcd2e07605937bffcb42ca8a7aa38cd"
 },
 "nbformat": 3,
 "nbformat_minor": 0,
 "worksheets": [
  {
   "cells": [
    {
     "cell_type": "heading",
     "level": 1,
     "metadata": {},
     "source": [
      "Chapter 26: OOP: The Big Picture"
     ]
    },
    {
     "cell_type": "markdown",
     "metadata": {},
     "source": [
      "OOP is mostly about an argument named self, and a search for attributes in trees of linked objects called inheritance. Objects at the bottom of the tree inheirt attributes from objects higher up in the tree."
     ]
    },
    {
     "cell_type": "heading",
     "level": 1,
     "metadata": {},
     "source": [
      "Chapter 27: Class Coding Basics"
     ]
    },
    {
     "cell_type": "code",
     "collapsed": false,
     "input": [
      "class FirstClass:             # Define a class object\n",
      "    def setdata(self, value): # Define class's methods\n",
      "        self.data = value     # self is the instance\n",
      "    def display(self):\n",
      "        print(self.data)      # self.data: per instance"
     ],
     "language": "python",
     "metadata": {},
     "outputs": [],
     "prompt_number": 1
    },
    {
     "cell_type": "code",
     "collapsed": false,
     "input": [
      "x =  FirstClass()     # Make two instances\n",
      "y = FirstClass()      # Each is a new namespace"
     ],
     "language": "python",
     "metadata": {},
     "outputs": [],
     "prompt_number": 2
    },
    {
     "cell_type": "code",
     "collapsed": false,
     "input": [
      "x.setdata('King Arthur')     # Call methods: self is x\n",
      "y.setdata(3.14159)           # Runs: FirstClass.setdata(y, 3.14159)"
     ],
     "language": "python",
     "metadata": {},
     "outputs": [],
     "prompt_number": 3
    },
    {
     "cell_type": "code",
     "collapsed": false,
     "input": [
      "x.display()  # self.data differs in each instance"
     ],
     "language": "python",
     "metadata": {},
     "outputs": [
      {
       "output_type": "stream",
       "stream": "stdout",
       "text": [
        "King Arthur\n"
       ]
      }
     ],
     "prompt_number": 4
    },
    {
     "cell_type": "code",
     "collapsed": false,
     "input": [
      "y.display()  # Runs: FirstClass.display(y)"
     ],
     "language": "python",
     "metadata": {},
     "outputs": [
      {
       "output_type": "stream",
       "stream": "stdout",
       "text": [
        "3.14159\n"
       ]
      }
     ],
     "prompt_number": 5
    },
    {
     "cell_type": "code",
     "collapsed": false,
     "input": [
      "x.anothername = 'spam' # Can set new attributes"
     ],
     "language": "python",
     "metadata": {},
     "outputs": [],
     "prompt_number": 6
    },
    {
     "cell_type": "markdown",
     "metadata": {},
     "source": [
      "In Python, instances inherit from classes, and classes inherit from super classes."
     ]
    },
    {
     "cell_type": "markdown",
     "metadata": {},
     "source": [
      "The class that inherits is usually called a subclass, and the class that is inherited from is its superclass."
     ]
    },
    {
     "cell_type": "code",
     "collapsed": false,
     "input": [
      "class SecondClass(FirstClass):           # Inherits setdata\n",
      "    def display(self):                   # Changes display\n",
      "        print 'Current value = %s' %self.data "
     ],
     "language": "python",
     "metadata": {},
     "outputs": [],
     "prompt_number": 7
    },
    {
     "cell_type": "code",
     "collapsed": false,
     "input": [
      "z =  SecondClass()\n",
      "z.setdata(42)      # Finds setdata in FirstClass\n",
      "z.display()        # Fins overridden method in SecondClass"
     ],
     "language": "python",
     "metadata": {},
     "outputs": [
      {
       "output_type": "stream",
       "stream": "stdout",
       "text": [
        "Current value = 42\n"
       ]
      }
     ],
     "prompt_number": 8
    },
    {
     "cell_type": "markdown",
     "metadata": {},
     "source": [
      "Overloading lets objects coded with class intercept and respond to operations that work ob built-in types: addition, slicing, printing, qualification, and so on."
     ]
    },
    {
     "cell_type": "code",
     "collapsed": false,
     "input": [
      "class ThirdClass(SecondClass):      # Inherit from SecondClass\n",
      "    def __init__(self, value):      # On \"ThirdClass(value)\"\n",
      "        self.data = value\n",
      "    def __add__(self, other):       # On \"self + other\"\n",
      "        return ThirdClass(self.data + other)\n",
      "    def __str__(self):              # On \"print(self)\", \"str()\"\n",
      "        return '[ThirdClass: %s]'%self.data\n",
      "    def mul(self, other):           # In-place change: named\n",
      "        self.data *= other"
     ],
     "language": "python",
     "metadata": {},
     "outputs": [],
     "prompt_number": 10
    },
    {
     "cell_type": "code",
     "collapsed": false,
     "input": [
      "a = ThirdClass('abc') # __init__ called"
     ],
     "language": "python",
     "metadata": {},
     "outputs": [],
     "prompt_number": 12
    },
    {
     "cell_type": "code",
     "collapsed": false,
     "input": [
      "a.display()           # Inherited method called"
     ],
     "language": "python",
     "metadata": {},
     "outputs": [
      {
       "output_type": "stream",
       "stream": "stdout",
       "text": [
        "Current value = abc\n"
       ]
      }
     ],
     "prompt_number": 13
    },
    {
     "cell_type": "code",
     "collapsed": false,
     "input": [
      "print(a)   # __str__:returns display string"
     ],
     "language": "python",
     "metadata": {},
     "outputs": [
      {
       "output_type": "stream",
       "stream": "stdout",
       "text": [
        "[ThirdClass: abc]\n"
       ]
      }
     ],
     "prompt_number": 14
    },
    {
     "cell_type": "code",
     "collapsed": false,
     "input": [
      "b = a + 'xyz' #__add__: makes a new instance"
     ],
     "language": "python",
     "metadata": {},
     "outputs": [],
     "prompt_number": 15
    },
    {
     "cell_type": "code",
     "collapsed": false,
     "input": [
      "b.display() # b has all ThirdClass methods"
     ],
     "language": "python",
     "metadata": {},
     "outputs": [
      {
       "output_type": "stream",
       "stream": "stdout",
       "text": [
        "Current value = abcxyz\n"
       ]
      }
     ],
     "prompt_number": 16
    },
    {
     "cell_type": "code",
     "collapsed": false,
     "input": [
      "print(b) #__str__: returns display string"
     ],
     "language": "python",
     "metadata": {},
     "outputs": [
      {
       "output_type": "stream",
       "stream": "stdout",
       "text": [
        "[ThirdClass: abcxyz]\n"
       ]
      }
     ],
     "prompt_number": 17
    },
    {
     "cell_type": "code",
     "collapsed": false,
     "input": [
      "a.mul(3) # changes instance in place"
     ],
     "language": "python",
     "metadata": {},
     "outputs": [],
     "prompt_number": 18
    },
    {
     "cell_type": "code",
     "collapsed": false,
     "input": [
      "print(a)"
     ],
     "language": "python",
     "metadata": {},
     "outputs": [
      {
       "output_type": "stream",
       "stream": "stdout",
       "text": [
        "[ThirdClass: abcabcabc]\n"
       ]
      }
     ],
     "prompt_number": 19
    },
    {
     "cell_type": "heading",
     "level": 3,
     "metadata": {},
     "source": [
      "Example for Inheritance:"
     ]
    },
    {
     "cell_type": "code",
     "collapsed": false,
     "input": [
      "class rec: pass # Empty namespace object"
     ],
     "language": "python",
     "metadata": {},
     "outputs": [],
     "prompt_number": 22
    },
    {
     "cell_type": "code",
     "collapsed": false,
     "input": [
      "rec.name = 'Bob' # Just objects with attributes\n",
      "rec.age = 40"
     ],
     "language": "python",
     "metadata": {},
     "outputs": [],
     "prompt_number": 23
    },
    {
     "cell_type": "code",
     "collapsed": false,
     "input": [
      "print(rec.name)"
     ],
     "language": "python",
     "metadata": {},
     "outputs": [
      {
       "output_type": "stream",
       "stream": "stdout",
       "text": [
        "Bob\n"
       ]
      }
     ],
     "prompt_number": 24
    },
    {
     "cell_type": "markdown",
     "metadata": {},
     "source": [
      "Watch what happens when we create two instances, though"
     ]
    },
    {
     "cell_type": "code",
     "collapsed": false,
     "input": [
      "x = rec()   # Instances inherit class names\n",
      "y = rec()"
     ],
     "language": "python",
     "metadata": {},
     "outputs": [],
     "prompt_number": 25
    },
    {
     "cell_type": "markdown",
     "metadata": {},
     "source": [
      "Because they remember the class from which they were made, though, they will obtain the attributes we attached to the class by inheritance:"
     ]
    },
    {
     "cell_type": "code",
     "collapsed": false,
     "input": [
      "x.name, y.name  # name is stored on the class only"
     ],
     "language": "python",
     "metadata": {},
     "outputs": [
      {
       "metadata": {},
       "output_type": "pyout",
       "prompt_number": 26,
       "text": [
        "('Bob', 'Bob')"
       ]
      }
     ],
     "prompt_number": 26
    },
    {
     "cell_type": "markdown",
     "metadata": {},
     "source": [
      "__dict__ literally is an isntance's attribute namespace"
     ]
    },
    {
     "cell_type": "code",
     "collapsed": false,
     "input": [
      "list(rec.__dict__.keys())"
     ],
     "language": "python",
     "metadata": {},
     "outputs": [
      {
       "metadata": {},
       "output_type": "pyout",
       "prompt_number": 27,
       "text": [
        "['age', '__module__', '__doc__', 'name']"
       ]
      }
     ],
     "prompt_number": 27
    },
    {
     "cell_type": "code",
     "collapsed": false,
     "input": [
      "list(x.__dict__.keys())"
     ],
     "language": "python",
     "metadata": {},
     "outputs": [
      {
       "metadata": {},
       "output_type": "pyout",
       "prompt_number": 28,
       "text": [
        "[]"
       ]
      }
     ],
     "prompt_number": 28
    },
    {
     "cell_type": "code",
     "collapsed": false,
     "input": [
      "x.name='Sergul'"
     ],
     "language": "python",
     "metadata": {},
     "outputs": [],
     "prompt_number": 29
    },
    {
     "cell_type": "code",
     "collapsed": false,
     "input": [
      "list(x.__dict__.keys())"
     ],
     "language": "python",
     "metadata": {},
     "outputs": [
      {
       "metadata": {},
       "output_type": "pyout",
       "prompt_number": 30,
       "text": [
        "['name']"
       ]
      }
     ],
     "prompt_number": 30
    },
    {
     "cell_type": "code",
     "collapsed": false,
     "input": [
      "x.__class__ # Instance to class link"
     ],
     "language": "python",
     "metadata": {},
     "outputs": [
      {
       "metadata": {},
       "output_type": "pyout",
       "prompt_number": 31,
       "text": [
        "__main__.rec"
       ]
      }
     ],
     "prompt_number": 31
    },
    {
     "cell_type": "code",
     "collapsed": false,
     "input": [
      "rec.__bases__ "
     ],
     "language": "python",
     "metadata": {},
     "outputs": [
      {
       "metadata": {},
       "output_type": "pyout",
       "prompt_number": 32,
       "text": [
        "()"
       ]
      }
     ],
     "prompt_number": 32
    },
    {
     "cell_type": "heading",
     "level": 1,
     "metadata": {},
     "source": [
      "Chapter 28: A More Realistic Example"
     ]
    },
    {
     "cell_type": "code",
     "collapsed": false,
     "input": [
      "# person.py\n",
      "class Person:  # Start a class ClassName(object):\n",
      "\t\"\"\"docstring for ClassName\"\"\"\n",
      "\tdef __init__(self, name, job=None, pay=0):         # Constructor takes three arguments\n",
      "\t\tself.name = name                               # Fill out fileds when created\n",
      "\t\tself.job = job                                 # self is the new instance object\n",
      "\t\tself.pay = pay   \n",
      "\tdef lastName(self):\t\t\t\t\t\t\t\t   # Behavior methods\n",
      "\t\treturn self.name.split()[-1]\t\t\t\t   # self is implied subject\n",
      "\tdef giveRaise(self, percent):\n",
      "\t\tself.pay = int(self.pay * (1+percent))\t\n",
      "\tdef __repr__(self):                                # Added method\n",
      "\t\treturn '[Person: %s, %s]' % (self.name, self.pay)  # String to point\t\t\n",
      "\n",
      "class Manager(Person):       # Define a subclass of a person\n",
      "\tdef __init__(self, name, pay): # Redefine constructor\n",
      "\t\tPerson.__init__(self, name, 'mgr', pay) # Run original with 'mgr' \n",
      "\tdef giveRaise(self, percent, bonus=.10):  # redefine to customize\n",
      "\t\t# self.pay = int(self.pay * (1+ percent + bonus)) # bad way\n",
      "\t\tPerson.giveRaise(self, percent + bonus) # good: augmented original\n",
      "\n",
      "class Department:\n",
      "\tdef __init__(self, *args):\n",
      "\t\tself.members = list(args)\n",
      "\tdef addMember(self, person):\n",
      "\t\tself.members.append(person)\n",
      "\tdef giveRaises(self, percent):\n",
      "\t\tfor person in self.members:\n",
      "\t\t\tperson.giveRaise(percent)\n",
      "\tdef showAll(self):\n",
      "\t\tfor person in self.members:\n",
      "\t\t\tprint person \n",
      "if __name__ == '__main__':                             # When run for testing only             \n",
      "\t\tbob = Person('Bob Smith')                              # Test the class\n",
      "\t\tsue = Person('Sue Jones', job = 'dev', pay = 100000)   # Runs __init__ automatically\n",
      "\t\t# print(bob.name, bob.pay)                               # Fetch attached attributes\n",
      "\t\t# print(sue.name, sue.pay)                               # sue's and bob's attrs differ\n",
      "\t\t# print(bob.lastName(), sue.lastName())                  # Use the new methods\n",
      "\t\t# sue.giveRaise(.10)                                     # instead of hardcoding\n",
      "\t\t# print(sue.pay) \n",
      "\t\t# print(sue)\n",
      "\t\ttom = Manager('Tom Jones', 50000) # Make a manager: __init__ # Job name not needed\n",
      "\t\t# tom.giveRaise(.10) # Runs custom version\n",
      "\t\t# print tom.lastName() # runs inherited method\n",
      "\t\t# print tom # runs inherited __repr__\n",
      "\n",
      "\t\t# \"\"\" Polymorphism in action \"\"\"\n",
      "\t\t# print '---All three---'\n",
      "\t\t# for obj in (bob, sue, tom): # Process pbjects generically\n",
      "\t\t# \tobj.giveRaise(.10) # Run this object's giveRaise\n",
      "\t\t# \tprint obj # Run the common __repr__\n",
      "\t\tdevelopment = Department(bob, sue) # Embed ojects in a composite\n",
      "\t\tdevelopment.addMember(tom)\n",
      "\t\tdevelopment.giveRaises(.10) # Runs embedded objects' giveRaise\n",
      "\t\tdevelopment.showAll() # Runs embedded objects' __repr__"
     ],
     "language": "python",
     "metadata": {},
     "outputs": []
    },
    {
     "cell_type": "code",
     "collapsed": false,
     "input": [
      "from person import Person"
     ],
     "language": "python",
     "metadata": {},
     "outputs": [],
     "prompt_number": 1
    },
    {
     "cell_type": "code",
     "collapsed": false,
     "input": [
      "bob = Person('Bob Smith')"
     ],
     "language": "python",
     "metadata": {},
     "outputs": [],
     "prompt_number": 2
    },
    {
     "cell_type": "code",
     "collapsed": false,
     "input": [
      "bob # show bob's __repr__ (not __str__)"
     ],
     "language": "python",
     "metadata": {},
     "outputs": [
      {
       "metadata": {},
       "output_type": "pyout",
       "prompt_number": 3,
       "text": [
        "[Person: Bob Smith, 0]"
       ]
      }
     ],
     "prompt_number": 3
    },
    {
     "cell_type": "code",
     "collapsed": false,
     "input": [
      "print bob # Ditto: print => __str__ or __repr__"
     ],
     "language": "python",
     "metadata": {},
     "outputs": [
      {
       "output_type": "stream",
       "stream": "stdout",
       "text": [
        "[Person: Bob Smith, 0]\n"
       ]
      }
     ],
     "prompt_number": 4
    },
    {
     "cell_type": "code",
     "collapsed": false,
     "input": [
      "bob.__class__ # Show bob's class and its name"
     ],
     "language": "python",
     "metadata": {},
     "outputs": [
      {
       "metadata": {},
       "output_type": "pyout",
       "prompt_number": 5,
       "text": [
        "person.Person"
       ]
      }
     ],
     "prompt_number": 5
    },
    {
     "cell_type": "code",
     "collapsed": false,
     "input": [
      "bob.__class__.__name__"
     ],
     "language": "python",
     "metadata": {},
     "outputs": [
      {
       "metadata": {},
       "output_type": "pyout",
       "prompt_number": 6,
       "text": [
        "'Person'"
       ]
      }
     ],
     "prompt_number": 6
    },
    {
     "cell_type": "code",
     "collapsed": false,
     "input": [
      "bob.__dict__.keys() # Attributes are really dict keys"
     ],
     "language": "python",
     "metadata": {},
     "outputs": [
      {
       "metadata": {},
       "output_type": "pyout",
       "prompt_number": 7,
       "text": [
        "['pay', 'job', 'name']"
       ]
      }
     ],
     "prompt_number": 7
    },
    {
     "cell_type": "code",
     "collapsed": false,
     "input": [
      "for key in bob.__dict__:\n",
      "    print key , '=>', bob.__dict__[key] # Index manually"
     ],
     "language": "python",
     "metadata": {},
     "outputs": [
      {
       "output_type": "stream",
       "stream": "stdout",
       "text": [
        "pay => 0\n",
        "job => None\n",
        "name => Bob Smith\n"
       ]
      }
     ],
     "prompt_number": 8
    },
    {
     "cell_type": "code",
     "collapsed": false,
     "input": [
      "for key in bob.__dict__:\n",
      "    print key, '=>', getattr(bob, key) # obj.attr, but attr is a var"
     ],
     "language": "python",
     "metadata": {},
     "outputs": [
      {
       "output_type": "stream",
       "stream": "stdout",
       "text": [
        "pay => 0\n",
        "job => None\n",
        "name => Bob Smith\n"
       ]
      }
     ],
     "prompt_number": 9
    },
    {
     "cell_type": "code",
     "collapsed": false,
     "input": [
      "# classtools.py\n",
      "\"\"\" Assorted class utilities and tools \"\"\"\n",
      "class AttrDisplay:\n",
      "\t\"\"\"\n",
      "\tProvides an inheritable display overload method that shows\n",
      "\tinstances with their class names and a name = value pair for\n",
      "\teach attribute stored on the instance itself (but not attrts\n",
      "\tinherited from its classes). Can be mixed into any class,\n",
      "\tand will work on any instance.\n",
      "\t\"\"\"\n",
      "\tdef gatherAttrs(self):\n",
      "\t\tattrs = []\n",
      "\t\tfor key in sorted(self.__dict__):\n",
      "\t\t\tattrs.append('%s=%s' % (key, getattr(self, key)))\n",
      "\t\treturn ', '.join(attrs)\n",
      "\n",
      "\tdef __repr__(self):\n",
      "\t\treturn  '[%s: %s]' % (self.__class__.__name__, self.gatherAttrs())\n",
      "\n",
      "if __name__ == '__main__':\n",
      "\n",
      "\tclass TopTest(AttrDisplay):\n",
      "\t\tcount = 0\n",
      "\t\tdef __init__(self):\n",
      "\t\t\tself.attr1 = TopTest.count\n",
      "\t\t\tself.attr2 = TopTest.count + 1\n",
      "\t\t\tTopTest.count += 2\n",
      "\n",
      "\tclass SubTest(TopTest):\n",
      "\t\tpass\n",
      "\n",
      "\tX, Y = TopTest(), SubTest() # Make two instances\n",
      "\tprint X # Show all instance attributes\n",
      "\tprint Y # SHow lowest class name "
     ],
     "language": "python",
     "metadata": {},
     "outputs": []
    },
    {
     "cell_type": "code",
     "collapsed": false,
     "input": [
      "bob.__dict__.keys() # Instance attrs only"
     ],
     "language": "python",
     "metadata": {},
     "outputs": [
      {
       "metadata": {},
       "output_type": "pyout",
       "prompt_number": 10,
       "text": [
        "['pay', 'job', 'name']"
       ]
      }
     ],
     "prompt_number": 10
    },
    {
     "cell_type": "code",
     "collapsed": false,
     "input": [
      "dir(bob) # Plus inherited attrs in classes"
     ],
     "language": "python",
     "metadata": {},
     "outputs": [
      {
       "metadata": {},
       "output_type": "pyout",
       "prompt_number": 12,
       "text": [
        "['__doc__',\n",
        " '__init__',\n",
        " '__module__',\n",
        " '__repr__',\n",
        " 'giveRaise',\n",
        " 'job',\n",
        " 'lastName',\n",
        " 'name',\n",
        " 'pay']"
       ]
      }
     ],
     "prompt_number": 12
    },
    {
     "cell_type": "code",
     "collapsed": false,
     "input": [
      "\"\"\"\n",
      "Record and process information about people.\n",
      "Run this file directly to test its classes.\n",
      "\"\"\"\n",
      "\n",
      "from classtools import AttrDisplay # Use generic display tool\n",
      "\n",
      "class Person(AttrDisplay):  # Start a class ClassName(object):\n",
      "\t\"\"\"Create and process person records\"\"\"\n",
      "\tdef __init__(self, name, job=None, pay=0):         # Constructor takes three arguments\n",
      "\t\tself.name = name                               # Fill out fileds when created\n",
      "\t\tself.job = job                                 # self is the new instance object\n",
      "\t\tself.pay = pay   \n",
      "\tdef lastName(self):\t\t\t\t\t\t\t\t   # Behavior methods\n",
      "\t\treturn self.name.split()[-1]\t\t\t\t   # self is implied subject\n",
      "\tdef giveRaise(self, percent):\n",
      "\t\tself.pay = int(self.pay * (1+percent))\t\n",
      "\t# def __repr__(self):                                # Added method\n",
      "\t# \treturn '[Person: %s, %s]' % (self.name, self.pay)  # String to point\t\t\n",
      "\n",
      "class Manager(Person):       # Define a subclass of a person\n",
      "\tdef __init__(self, name, pay): # Redefine constructor\n",
      "\t\tPerson.__init__(self, name, 'mgr', pay) # Run original with 'mgr' \n",
      "\tdef giveRaise(self, percent, bonus=.10):  # redefine to customize\n",
      "\t\t# self.pay = int(self.pay * (1+ percent + bonus)) # bad way\n",
      "\t\tPerson.giveRaise(self, percent + bonus) # good: augmented original\n",
      "\n",
      "\n",
      "if __name__ == '__main__':                             # When run for testing only             \n",
      "\t\tbob = Person('Bob Smith')                              # Test the class\n",
      "\t\tsue = Person('Sue Jones', job = 'dev', pay = 100000)   # Runs __init__ automatically\n",
      "\t\tprint bob\n",
      "\t\tprint sue\n",
      "\t\tprint bob.lastName(), sue.lastName()\n",
      "\t\tsue.giveRaise(.10)\n",
      "\t\tprint sue\n",
      "\t\ttom = Manager('Tom Jones', 50000) # Make a manager: __init__ # Job name not needed\n",
      "\t\ttom.giveRaise(.10) # Runs custom version\n",
      "\t\tprint tom.lastName() # runs inherited method\n",
      "\t\tprint tom # runs inherited __repr__"
     ],
     "language": "python",
     "metadata": {},
     "outputs": []
    },
    {
     "cell_type": "heading",
     "level": 5,
     "metadata": {},
     "source": [
      "Storing Objects on a Shelve Database"
     ]
    },
    {
     "cell_type": "code",
     "collapsed": false,
     "input": [
      "from person import Person, Manager  # Loas our classes\n",
      "bob = Person('Bob Smith') # Re-create objects to be stored\n",
      "sue = Person('Sue Jones', job='dev', pay=100000)\n",
      "tom = Manager('Tom Jones', 50000)\n",
      "\n",
      "import shelve\n",
      "db = shelve.open('persondb')  # Filename where objects are stored\n",
      "for obj in (bob, sue, tom):  # Use object's name attr as key\n",
      "\tdb[obj.name] = obj       # Store object on shelve by key\n",
      "db.close()                   # close after making changes"
     ],
     "language": "python",
     "metadata": {},
     "outputs": []
    },
    {
     "cell_type": "code",
     "collapsed": false,
     "input": [
      "import shelve"
     ],
     "language": "python",
     "metadata": {},
     "outputs": [],
     "prompt_number": 13
    },
    {
     "cell_type": "code",
     "collapsed": false,
     "input": [
      "db = shelve.open('persondb') # Reopen the shelve"
     ],
     "language": "python",
     "metadata": {},
     "outputs": [],
     "prompt_number": 14
    },
    {
     "cell_type": "code",
     "collapsed": false,
     "input": [
      "len(db)"
     ],
     "language": "python",
     "metadata": {},
     "outputs": [
      {
       "metadata": {},
       "output_type": "pyout",
       "prompt_number": 15,
       "text": [
        "3"
       ]
      }
     ],
     "prompt_number": 15
    },
    {
     "cell_type": "code",
     "collapsed": false,
     "input": [
      "db.keys()"
     ],
     "language": "python",
     "metadata": {},
     "outputs": [
      {
       "metadata": {},
       "output_type": "pyout",
       "prompt_number": 16,
       "text": [
        "['Bob Smith', 'Sue Jones', 'Tom Jones']"
       ]
      }
     ],
     "prompt_number": 16
    },
    {
     "cell_type": "code",
     "collapsed": false,
     "input": [
      "bob = db['Bob Smith']"
     ],
     "language": "python",
     "metadata": {},
     "outputs": [],
     "prompt_number": 17
    },
    {
     "cell_type": "code",
     "collapsed": false,
     "input": [
      "bob"
     ],
     "language": "python",
     "metadata": {},
     "outputs": [
      {
       "metadata": {},
       "output_type": "pyout",
       "prompt_number": 18,
       "text": [
        "[Person: Bob Smith, 0]"
       ]
      }
     ],
     "prompt_number": 18
    },
    {
     "cell_type": "heading",
     "level": 1,
     "metadata": {},
     "source": [
      "Chapter 29: Class Coding Details"
     ]
    },
    {
     "cell_type": "code",
     "collapsed": false,
     "input": [
      "class SharedData:\n",
      "    spam = 42 # Generates a class data attribute"
     ],
     "language": "python",
     "metadata": {},
     "outputs": [],
     "prompt_number": 1
    },
    {
     "cell_type": "code",
     "collapsed": false,
     "input": [
      "x = SharedData() # Make two instances"
     ],
     "language": "python",
     "metadata": {},
     "outputs": [],
     "prompt_number": 2
    },
    {
     "cell_type": "code",
     "collapsed": false,
     "input": [
      "y = SharedData()"
     ],
     "language": "python",
     "metadata": {},
     "outputs": [],
     "prompt_number": 3
    },
    {
     "cell_type": "code",
     "collapsed": false,
     "input": [
      "x.spam, y.spam # They inherit and share 'spam'"
     ],
     "language": "python",
     "metadata": {},
     "outputs": [
      {
       "metadata": {},
       "output_type": "pyout",
       "prompt_number": 4,
       "text": [
        "(42, 42)"
       ]
      }
     ],
     "prompt_number": 4
    },
    {
     "cell_type": "markdown",
     "metadata": {},
     "source": [
      "We can change it by going through the class name, and we can refer to it through either instances or the class."
     ]
    },
    {
     "cell_type": "code",
     "collapsed": false,
     "input": [
      "SharedData.spam = 99"
     ],
     "language": "python",
     "metadata": {},
     "outputs": [],
     "prompt_number": 7
    },
    {
     "cell_type": "code",
     "collapsed": false,
     "input": [
      "x.spam, y.spam, SharedData.spam"
     ],
     "language": "python",
     "metadata": {},
     "outputs": [
      {
       "metadata": {},
       "output_type": "pyout",
       "prompt_number": 8,
       "text": [
        "(99, 99, 99)"
       ]
      }
     ],
     "prompt_number": 8
    },
    {
     "cell_type": "markdown",
     "metadata": {},
     "source": [
      "Now, watch what happens if we assign the name spam through an instance instead of the class:"
     ]
    },
    {
     "cell_type": "code",
     "collapsed": false,
     "input": [
      "x.spam = 88"
     ],
     "language": "python",
     "metadata": {},
     "outputs": [],
     "prompt_number": 9
    },
    {
     "cell_type": "code",
     "collapsed": false,
     "input": [
      "x.spam, y.spam, SharedData.spam"
     ],
     "language": "python",
     "metadata": {},
     "outputs": [
      {
       "metadata": {},
       "output_type": "pyout",
       "prompt_number": 10,
       "text": [
        "(88, 99, 99)"
       ]
      }
     ],
     "prompt_number": 10
    },
    {
     "cell_type": "markdown",
     "metadata": {},
     "source": [
      "More comprehensive example of this behavior"
     ]
    },
    {
     "cell_type": "code",
     "collapsed": false,
     "input": [
      "class MixedNames: # Define class\n",
      "    data = 'spam' # Assign a class attribute\n",
      "    def __init__(self, value): # Assign method name\n",
      "        self.data = value   # Assign instance attr\n",
      "    def display(self):\n",
      "        print self.data, MixedNames.data # Instance attr, class attr"
     ],
     "language": "python",
     "metadata": {},
     "outputs": [],
     "prompt_number": 11
    },
    {
     "cell_type": "code",
     "collapsed": false,
     "input": [
      "x = MixedNames(1) # Make two instance objects"
     ],
     "language": "python",
     "metadata": {},
     "outputs": [],
     "prompt_number": 12
    },
    {
     "cell_type": "code",
     "collapsed": false,
     "input": [
      "y = MixedNames(2) # Each has its own data"
     ],
     "language": "python",
     "metadata": {},
     "outputs": [],
     "prompt_number": 13
    },
    {
     "cell_type": "code",
     "collapsed": false,
     "input": [
      "x.display(); y.display() # self.data differs, MizedNames.data is the same"
     ],
     "language": "python",
     "metadata": {},
     "outputs": [
      {
       "output_type": "stream",
       "stream": "stdout",
       "text": [
        "1 spam\n",
        "2 spam\n"
       ]
      }
     ],
     "prompt_number": 16
    },
    {
     "cell_type": "heading",
     "level": 5,
     "metadata": {},
     "source": [
      "Method Example"
     ]
    },
    {
     "cell_type": "code",
     "collapsed": false,
     "input": [
      "class NextClass: # Define class\n",
      "    def printer(self, text): # Define method\n",
      "        self.message = text # Change instance\n",
      "        print self.message # Access instance"
     ],
     "language": "python",
     "metadata": {},
     "outputs": [],
     "prompt_number": 23
    },
    {
     "cell_type": "code",
     "collapsed": false,
     "input": [
      "x = NextClass() # Make instance"
     ],
     "language": "python",
     "metadata": {},
     "outputs": [],
     "prompt_number": 24
    },
    {
     "cell_type": "code",
     "collapsed": false,
     "input": [
      "x.printer('instance call') # call its method"
     ],
     "language": "python",
     "metadata": {},
     "outputs": [
      {
       "output_type": "stream",
       "stream": "stdout",
       "text": [
        "instance call\n"
       ]
      }
     ],
     "prompt_number": 25
    },
    {
     "cell_type": "code",
     "collapsed": false,
     "input": [
      "x.message # instance changed"
     ],
     "language": "python",
     "metadata": {},
     "outputs": [
      {
       "metadata": {},
       "output_type": "pyout",
       "prompt_number": 26,
       "text": [
        "'instance call'"
       ]
      }
     ],
     "prompt_number": 26
    },
    {
     "cell_type": "markdown",
     "metadata": {},
     "source": [
      "We can also call printer by going through the class name, provided we pass an instance to the self argument explicitly:"
     ]
    },
    {
     "cell_type": "code",
     "collapsed": false,
     "input": [
      "NextClass.printer(x, 'class call') # Direct class call"
     ],
     "language": "python",
     "metadata": {},
     "outputs": [
      {
       "output_type": "stream",
       "stream": "stdout",
       "text": [
        "class call\n"
       ]
      }
     ],
     "prompt_number": 27
    },
    {
     "cell_type": "code",
     "collapsed": false,
     "input": [
      "x.message # Instance changed again"
     ],
     "language": "python",
     "metadata": {},
     "outputs": [
      {
       "metadata": {},
       "output_type": "pyout",
       "prompt_number": 28,
       "text": [
        "'class call'"
       ]
      }
     ],
     "prompt_number": 28
    },
    {
     "cell_type": "markdown",
     "metadata": {},
     "source": [
      "By default, in fact, you get an error message if you try to call a method without any instance:"
     ]
    },
    {
     "cell_type": "code",
     "collapsed": false,
     "input": [
      "NextClass.printer('bad call')"
     ],
     "language": "python",
     "metadata": {},
     "outputs": [
      {
       "ename": "TypeError",
       "evalue": "unbound method printer() must be called with NextClass instance as first argument (got str instance instead)",
       "output_type": "pyerr",
       "traceback": [
        "\u001b[0;31m---------------------------------------------------------------------------\u001b[0m\n\u001b[0;31mTypeError\u001b[0m                                 Traceback (most recent call last)",
        "\u001b[0;32m<ipython-input-45-de7676183ba5>\u001b[0m in \u001b[0;36m<module>\u001b[0;34m()\u001b[0m\n\u001b[0;32m----> 1\u001b[0;31m \u001b[0mNextClass\u001b[0m\u001b[0;34m.\u001b[0m\u001b[0mprinter\u001b[0m\u001b[0;34m(\u001b[0m\u001b[0;34m'bad call'\u001b[0m\u001b[0;34m)\u001b[0m\u001b[0;34m\u001b[0m\u001b[0m\n\u001b[0m",
        "\u001b[0;31mTypeError\u001b[0m: unbound method printer() must be called with NextClass instance as first argument (got str instance instead)"
       ]
      }
     ],
     "prompt_number": 45
    },
    {
     "cell_type": "heading",
     "level": 5,
     "metadata": {},
     "source": [
      "Specializing Inherited Methods"
     ]
    },
    {
     "cell_type": "code",
     "collapsed": false,
     "input": [
      "class Super:\n",
      "    def method(self):\n",
      "        print 'in Super.method'"
     ],
     "language": "python",
     "metadata": {},
     "outputs": [],
     "prompt_number": 31
    },
    {
     "cell_type": "code",
     "collapsed": false,
     "input": [
      "class Sub(Super):\n",
      "    def method(self): # Override method\n",
      "        print ('starting Sub.method') # Add actions here\n",
      "        Super.method(self) # Run default action\n",
      "        print 'ending Sub.method'"
     ],
     "language": "python",
     "metadata": {},
     "outputs": [],
     "prompt_number": 32
    },
    {
     "cell_type": "code",
     "collapsed": false,
     "input": [
      "x = Super() # Make a Super instance"
     ],
     "language": "python",
     "metadata": {},
     "outputs": [],
     "prompt_number": 33
    },
    {
     "cell_type": "code",
     "collapsed": false,
     "input": [
      "x.method() # Runs Super.method"
     ],
     "language": "python",
     "metadata": {},
     "outputs": [
      {
       "output_type": "stream",
       "stream": "stdout",
       "text": [
        "in Super.method\n"
       ]
      }
     ],
     "prompt_number": 34
    },
    {
     "cell_type": "code",
     "collapsed": false,
     "input": [
      "x = Sub() # Make a Sub instance"
     ],
     "language": "python",
     "metadata": {},
     "outputs": [],
     "prompt_number": 35
    },
    {
     "cell_type": "code",
     "collapsed": false,
     "input": [
      "x.method() # Runs Sub.method, calls Super.method"
     ],
     "language": "python",
     "metadata": {},
     "outputs": [
      {
       "output_type": "stream",
       "stream": "stdout",
       "text": [
        "starting Sub.method\n",
        "in Super.method\n",
        "ending Sub.method\n"
       ]
      }
     ],
     "prompt_number": 36
    },
    {
     "cell_type": "heading",
     "level": 5,
     "metadata": {},
     "source": [
      "Class Interface Techniques"
     ]
    },
    {
     "cell_type": "code",
     "collapsed": false,
     "input": [
      "class Super:\n",
      "    def method(self):\n",
      "        print 'in Super.method' # Default behavior\n",
      "    def delegate(self):\n",
      "        self.action() # Expected to be defined\n",
      "        \n",
      "class Inheritor(Super): # Inherit method verbatim\n",
      "    pass\n",
      "\n",
      "class Replacer(Super): # Replace method completely\n",
      "    def method(self):\n",
      "        print 'in Replacer.method'\n",
      "        \n",
      "class Extender(Super): # Extend methid behavior\n",
      "    def method(self):\n",
      "        print 'starting Extender.method'\n",
      "        Super.method(self)\n",
      "        print 'ending Extender.method'\n",
      "        \n",
      "class Provider(Super): # Fill in a required method\n",
      "    def action(self):\n",
      "        print 'in Provider.action'"
     ],
     "language": "python",
     "metadata": {},
     "outputs": [],
     "prompt_number": 37
    },
    {
     "cell_type": "code",
     "collapsed": false,
     "input": [
      "for klass in (Inheritor, Replacer, Extender):\n",
      "    print '\\n' + klass.__name__ + '...'\n",
      "    klass().method()"
     ],
     "language": "python",
     "metadata": {},
     "outputs": [
      {
       "output_type": "stream",
       "stream": "stdout",
       "text": [
        "\n",
        "Inheritor...\n",
        "in Super.method\n",
        "\n",
        "Replacer...\n",
        "in Replacer.method\n",
        "\n",
        "Extender...\n",
        "starting Extender.method\n",
        "in Super.method\n",
        "ending Extender.method\n"
       ]
      }
     ],
     "prompt_number": 43
    },
    {
     "cell_type": "code",
     "collapsed": false,
     "input": [
      "print '\\nProvider ...'\n",
      "x = Provider()\n",
      "x.delegate()"
     ],
     "language": "python",
     "metadata": {},
     "outputs": [
      {
       "output_type": "stream",
       "stream": "stdout",
       "text": [
        "\n",
        "Provider ...\n",
        "in Provider.action\n"
       ]
      }
     ],
     "prompt_number": 47
    },
    {
     "cell_type": "heading",
     "level": 5,
     "metadata": {},
     "source": [
      "Namespace Dictionaries: Review"
     ]
    },
    {
     "cell_type": "code",
     "collapsed": false,
     "input": [
      "class Super:\n",
      "    def hello(self):\n",
      "        self.data1 = 'spam'"
     ],
     "language": "python",
     "metadata": {},
     "outputs": [],
     "prompt_number": 49
    },
    {
     "cell_type": "code",
     "collapsed": false,
     "input": [
      "class Sub(Super):\n",
      "    def hola(self):\n",
      "        self.data2 = 'eggs'"
     ],
     "language": "python",
     "metadata": {},
     "outputs": [],
     "prompt_number": 50
    },
    {
     "cell_type": "code",
     "collapsed": false,
     "input": [
      "X = Sub()"
     ],
     "language": "python",
     "metadata": {},
     "outputs": [],
     "prompt_number": 51
    },
    {
     "cell_type": "code",
     "collapsed": false,
     "input": [
      "X.__dict__ # Instance namespece dict"
     ],
     "language": "python",
     "metadata": {},
     "outputs": [
      {
       "metadata": {},
       "output_type": "pyout",
       "prompt_number": 52,
       "text": [
        "{}"
       ]
      }
     ],
     "prompt_number": 52
    },
    {
     "cell_type": "code",
     "collapsed": false,
     "input": [
      "X.__class__ # Class of instance"
     ],
     "language": "python",
     "metadata": {},
     "outputs": [
      {
       "metadata": {},
       "output_type": "pyout",
       "prompt_number": 53,
       "text": [
        "__main__.Sub"
       ]
      }
     ],
     "prompt_number": 53
    },
    {
     "cell_type": "code",
     "collapsed": false,
     "input": [
      "Sub.__bases__ # Superclasses of class"
     ],
     "language": "python",
     "metadata": {},
     "outputs": [
      {
       "metadata": {},
       "output_type": "pyout",
       "prompt_number": 54,
       "text": [
        "(__main__.Super,)"
       ]
      }
     ],
     "prompt_number": 54
    },
    {
     "cell_type": "code",
     "collapsed": false,
     "input": [
      "Super.__bases__"
     ],
     "language": "python",
     "metadata": {},
     "outputs": [
      {
       "metadata": {},
       "output_type": "pyout",
       "prompt_number": 55,
       "text": [
        "()"
       ]
      }
     ],
     "prompt_number": 55
    },
    {
     "cell_type": "code",
     "collapsed": false,
     "input": [
      "Y = Sub()"
     ],
     "language": "python",
     "metadata": {},
     "outputs": [],
     "prompt_number": 56
    },
    {
     "cell_type": "code",
     "collapsed": false,
     "input": [
      "X.hello()"
     ],
     "language": "python",
     "metadata": {},
     "outputs": [],
     "prompt_number": 57
    },
    {
     "cell_type": "code",
     "collapsed": false,
     "input": [
      "X.__dict__"
     ],
     "language": "python",
     "metadata": {},
     "outputs": [
      {
       "metadata": {},
       "output_type": "pyout",
       "prompt_number": 59,
       "text": [
        "{'data1': 'spam'}"
       ]
      }
     ],
     "prompt_number": 59
    },
    {
     "cell_type": "code",
     "collapsed": false,
     "input": [
      "X.hola()"
     ],
     "language": "python",
     "metadata": {},
     "outputs": [],
     "prompt_number": 60
    },
    {
     "cell_type": "code",
     "collapsed": false,
     "input": [
      "X.__dict__"
     ],
     "language": "python",
     "metadata": {},
     "outputs": [
      {
       "metadata": {},
       "output_type": "pyout",
       "prompt_number": 61,
       "text": [
        "{'data1': 'spam', 'data2': 'eggs'}"
       ]
      }
     ],
     "prompt_number": 61
    },
    {
     "cell_type": "code",
     "collapsed": false,
     "input": [
      "Sub.__dict__.keys()"
     ],
     "language": "python",
     "metadata": {},
     "outputs": [
      {
       "metadata": {},
       "output_type": "pyout",
       "prompt_number": 62,
       "text": [
        "['__module__', '__doc__', 'hola']"
       ]
      }
     ],
     "prompt_number": 62
    },
    {
     "cell_type": "code",
     "collapsed": false,
     "input": [
      "Super.__dict__.keys()"
     ],
     "language": "python",
     "metadata": {},
     "outputs": [
      {
       "metadata": {},
       "output_type": "pyout",
       "prompt_number": 63,
       "text": [
        "['__module__', 'hello', '__doc__']"
       ]
      }
     ],
     "prompt_number": 63
    },
    {
     "cell_type": "code",
     "collapsed": false,
     "input": [
      "Y.__dict__"
     ],
     "language": "python",
     "metadata": {},
     "outputs": [
      {
       "metadata": {},
       "output_type": "pyout",
       "prompt_number": 64,
       "text": [
        "{}"
       ]
      }
     ],
     "prompt_number": 64
    },
    {
     "cell_type": "code",
     "collapsed": false,
     "input": [
      "X.data1, X.__dict__['data1']"
     ],
     "language": "python",
     "metadata": {},
     "outputs": [
      {
       "metadata": {},
       "output_type": "pyout",
       "prompt_number": 65,
       "text": [
        "('spam', 'spam')"
       ]
      }
     ],
     "prompt_number": 65
    },
    {
     "cell_type": "code",
     "collapsed": false,
     "input": [
      "X.data3 = 'toast'"
     ],
     "language": "python",
     "metadata": {},
     "outputs": [],
     "prompt_number": 66
    },
    {
     "cell_type": "code",
     "collapsed": false,
     "input": [
      "X.__dict__"
     ],
     "language": "python",
     "metadata": {},
     "outputs": [
      {
       "metadata": {},
       "output_type": "pyout",
       "prompt_number": 67,
       "text": [
        "{'data1': 'spam', 'data2': 'eggs', 'data3': 'toast'}"
       ]
      }
     ],
     "prompt_number": 67
    },
    {
     "cell_type": "code",
     "collapsed": false,
     "input": [
      "X.__dict__['data3'] = 'ham'"
     ],
     "language": "python",
     "metadata": {},
     "outputs": [],
     "prompt_number": 68
    },
    {
     "cell_type": "code",
     "collapsed": false,
     "input": [
      "X.data3"
     ],
     "language": "python",
     "metadata": {},
     "outputs": [
      {
       "metadata": {},
       "output_type": "pyout",
       "prompt_number": 69,
       "text": [
        "'ham'"
       ]
      }
     ],
     "prompt_number": 69
    },
    {
     "cell_type": "code",
     "collapsed": false,
     "input": [
      "dir(X)"
     ],
     "language": "python",
     "metadata": {},
     "outputs": [
      {
       "metadata": {},
       "output_type": "pyout",
       "prompt_number": 70,
       "text": [
        "['__doc__', '__module__', 'data1', 'data2', 'data3', 'hello', 'hola']"
       ]
      }
     ],
     "prompt_number": 70
    },
    {
     "cell_type": "heading",
     "level": 5,
     "metadata": {},
     "source": [
      "Namespace Links: A tree climber"
     ]
    },
    {
     "cell_type": "code",
     "collapsed": false,
     "input": [
      "def classtree(cls, indent):\n",
      "    print '.'*indent + cls.__name__ # print class name here\n",
      "    for supercls in cls.__bases__: # Recur to all superclasses\n",
      "        classtree(supercls, indent + 3) # May visit super > once\n",
      "        \n",
      "def instancetree(inst):\n",
      "    print 'Tree of %s' %inst # show instance\n",
      "    classtree(inst.__class__, 3) # climb to its class\n",
      "    \n",
      "def selftest():\n",
      "    class A: pass\n",
      "    class B(A): pass\n",
      "    class C(A): pass\n",
      "    class D(B, C) : pass\n",
      "    class E: pass\n",
      "    class F(D, E): pass\n",
      "    instancetree(B())\n",
      "    instancetree(F())"
     ],
     "language": "python",
     "metadata": {},
     "outputs": [],
     "prompt_number": 73
    },
    {
     "cell_type": "code",
     "collapsed": false,
     "input": [
      "selftest()"
     ],
     "language": "python",
     "metadata": {},
     "outputs": [
      {
       "output_type": "stream",
       "stream": "stdout",
       "text": [
        "Tree of <__main__.B instance at 0x103f62b00>\n",
        "...B\n",
        "......A\n",
        "Tree of <__main__.F instance at 0x103f62b00>\n",
        "...F\n",
        "......D\n",
        ".........B\n",
        "............A\n",
        ".........C\n",
        "............A\n",
        "......E\n"
       ]
      }
     ],
     "prompt_number": 74
    },
    {
     "cell_type": "code",
     "collapsed": false,
     "input": [
      "class Emp: pass"
     ],
     "language": "python",
     "metadata": {},
     "outputs": [],
     "prompt_number": 76
    },
    {
     "cell_type": "code",
     "collapsed": false,
     "input": [
      "class Person(Emp): pass"
     ],
     "language": "python",
     "metadata": {},
     "outputs": [],
     "prompt_number": 77
    },
    {
     "cell_type": "code",
     "collapsed": false,
     "input": [
      "bob = Person()"
     ],
     "language": "python",
     "metadata": {},
     "outputs": [],
     "prompt_number": 78
    },
    {
     "cell_type": "code",
     "collapsed": false,
     "input": [
      "instancetree(bob)"
     ],
     "language": "python",
     "metadata": {},
     "outputs": [
      {
       "output_type": "stream",
       "stream": "stdout",
       "text": [
        "Tree of <__main__.Person instance at 0x103f0e9e0>\n",
        "...Person\n",
        "......Emp\n"
       ]
      }
     ],
     "prompt_number": 79
    },
    {
     "cell_type": "code",
     "collapsed": false,
     "input": [
      "bob"
     ],
     "language": "python",
     "metadata": {},
     "outputs": [
      {
       "metadata": {},
       "output_type": "pyout",
       "prompt_number": 80,
       "text": [
        "<__main__.Person instance at 0x103f0e9e0>"
       ]
      }
     ],
     "prompt_number": 80
    },
    {
     "cell_type": "heading",
     "level": 1,
     "metadata": {},
     "source": [
      "Chapter 30: Operator Overloading"
     ]
    },
    {
     "cell_type": "markdown",
     "metadata": {},
     "source": [
      "Python automatically invokes your methods when instances of the class appear in built-in operations, and you method's returm value beco,es the result of the corresponding operation."
     ]
    },
    {
     "cell_type": "heading",
     "level": 3,
     "metadata": {},
     "source": [
      "Constructors and Expressions: __init__ and __sub__"
     ]
    },
    {
     "cell_type": "code",
     "collapsed": false,
     "input": [
      "class Number:\n",
      "    def __init__(self, start): # On Number(start)\n",
      "        self.data = start\n",
      "    def __sub__(self, other): # On instance - other\n",
      "        return Number(self.data-other) # result is a new instance"
     ],
     "language": "python",
     "metadata": {},
     "outputs": [],
     "prompt_number": 1
    },
    {
     "cell_type": "code",
     "collapsed": false,
     "input": [
      "\n",
      "X = Number(5) # Number.__init__(X, 5)"
     ],
     "language": "python",
     "metadata": {},
     "outputs": [],
     "prompt_number": 2
    },
    {
     "cell_type": "code",
     "collapsed": false,
     "input": [
      "Y = X-2 # Number.__sub__(X, 2)"
     ],
     "language": "python",
     "metadata": {},
     "outputs": [],
     "prompt_number": 3
    },
    {
     "cell_type": "code",
     "collapsed": false,
     "input": [
      "Y.data # Y is new Number instance"
     ],
     "language": "python",
     "metadata": {},
     "outputs": [
      {
       "metadata": {},
       "output_type": "pyout",
       "prompt_number": 4,
       "text": [
        "3"
       ]
      }
     ],
     "prompt_number": 4
    },
    {
     "cell_type": "markdown",
     "metadata": {},
     "source": [
      "All overloading methods have namesthat start and end with two underscores to keep them distinct from other names you define in your classes."
     ]
    },
    {
     "cell_type": "heading",
     "level": 2,
     "metadata": {},
     "source": [
      "Indexing and Slicing: __getitem__ and __setitem__"
     ]
    },
    {
     "cell_type": "markdown",
     "metadata": {},
     "source": [
      "When an instance X appears in an indexing expression like X[i], Python calls thw __getitem__ method inherited by the instance."
     ]
    },
    {
     "cell_type": "code",
     "collapsed": false,
     "input": [
      "class Indexer:\n",
      "    def __getitem__(self, index):\n",
      "        return index ** 2"
     ],
     "language": "python",
     "metadata": {},
     "outputs": [],
     "prompt_number": 5
    },
    {
     "cell_type": "code",
     "collapsed": false,
     "input": [
      "X = Indexer()"
     ],
     "language": "python",
     "metadata": {},
     "outputs": [],
     "prompt_number": 6
    },
    {
     "cell_type": "code",
     "collapsed": false,
     "input": [
      "X[2] # X[i] calls X.__getitem__(i)"
     ],
     "language": "python",
     "metadata": {},
     "outputs": [
      {
       "metadata": {},
       "output_type": "pyout",
       "prompt_number": 7,
       "text": [
        "4"
       ]
      }
     ],
     "prompt_number": 7
    },
    {
     "cell_type": "code",
     "collapsed": false,
     "input": [
      "for i in range(5):\n",
      "    print X[i],"
     ],
     "language": "python",
     "metadata": {},
     "outputs": [
      {
       "output_type": "stream",
       "stream": "stdout",
       "text": [
        "0 1 4 9 16\n"
       ]
      }
     ],
     "prompt_number": 8
    },
    {
     "cell_type": "heading",
     "level": 2,
     "metadata": {},
     "source": [
      "Intercepting Slides"
     ]
    },
    {
     "cell_type": "code",
     "collapsed": false,
     "input": [
      "class Indexer:\n",
      "    data = [5, 6, 7, 8, 9]\n",
      "    def __getitem__(self, index): # Called for index or slice\n",
      "        print 'getitem', index\n",
      "        return self.data[index] # Perform index or slice"
     ],
     "language": "python",
     "metadata": {},
     "outputs": [],
     "prompt_number": 9
    },
    {
     "cell_type": "code",
     "collapsed": false,
     "input": [
      "X = Indexer()"
     ],
     "language": "python",
     "metadata": {},
     "outputs": [],
     "prompt_number": 10
    },
    {
     "cell_type": "code",
     "collapsed": false,
     "input": [
      "X[0] # Indexing sends __getitem__ an integer"
     ],
     "language": "python",
     "metadata": {},
     "outputs": [
      {
       "output_type": "stream",
       "stream": "stdout",
       "text": [
        "getitem 0\n"
       ]
      },
      {
       "metadata": {},
       "output_type": "pyout",
       "prompt_number": 11,
       "text": [
        "5"
       ]
      }
     ],
     "prompt_number": 11
    },
    {
     "cell_type": "code",
     "collapsed": false,
     "input": [
      "X[1]"
     ],
     "language": "python",
     "metadata": {},
     "outputs": [
      {
       "output_type": "stream",
       "stream": "stdout",
       "text": [
        "getitem 1\n"
       ]
      },
      {
       "metadata": {},
       "output_type": "pyout",
       "prompt_number": 12,
       "text": [
        "6"
       ]
      }
     ],
     "prompt_number": 12
    },
    {
     "cell_type": "code",
     "collapsed": false,
     "input": [
      "X[-1]"
     ],
     "language": "python",
     "metadata": {},
     "outputs": [
      {
       "output_type": "stream",
       "stream": "stdout",
       "text": [
        "getitem -1\n"
       ]
      },
      {
       "metadata": {},
       "output_type": "pyout",
       "prompt_number": 13,
       "text": [
        "9"
       ]
      }
     ],
     "prompt_number": 13
    },
    {
     "cell_type": "markdown",
     "metadata": {},
     "source": [
      "When called for slicing, though, the method receives a slice object, which is simply passed along to the embedded list indexer in a new index expression:"
     ]
    },
    {
     "cell_type": "code",
     "collapsed": false,
     "input": [
      "X[2:4] # Slicing sends __getitem__ a slice object"
     ],
     "language": "python",
     "metadata": {},
     "outputs": [
      {
       "output_type": "stream",
       "stream": "stdout",
       "text": [
        "getitem slice(2, 4, None)\n"
       ]
      },
      {
       "metadata": {},
       "output_type": "pyout",
       "prompt_number": 15,
       "text": [
        "[7, 8]"
       ]
      }
     ],
     "prompt_number": 15
    },
    {
     "cell_type": "code",
     "collapsed": false,
     "input": [
      "X[1:]"
     ],
     "language": "python",
     "metadata": {},
     "outputs": [
      {
       "output_type": "stream",
       "stream": "stdout",
       "text": [
        "getitem slice(1, 9223372036854775807, None)\n"
       ]
      },
      {
       "metadata": {},
       "output_type": "pyout",
       "prompt_number": 16,
       "text": [
        "[6, 7, 8, 9]"
       ]
      }
     ],
     "prompt_number": 16
    },
    {
     "cell_type": "markdown",
     "metadata": {},
     "source": [
      "Where needed, __getitem__ can test the type of its argument, and extract slice object bounds."
     ]
    },
    {
     "cell_type": "code",
     "collapsed": false,
     "input": [
      "class Indexer:\n",
      "    def __getitem__(self, index):\n",
      "        if isinstance(index, int): # Test usage mode\n",
      "            print 'indexing', index\n",
      "        else:\n",
      "            print 'slicing', index.start, index.stop, index.step"
     ],
     "language": "python",
     "metadata": {},
     "outputs": [],
     "prompt_number": 17
    },
    {
     "cell_type": "code",
     "collapsed": false,
     "input": [
      "X = Indexer()"
     ],
     "language": "python",
     "metadata": {},
     "outputs": [],
     "prompt_number": 18
    },
    {
     "cell_type": "code",
     "collapsed": false,
     "input": [
      "X[99]"
     ],
     "language": "python",
     "metadata": {},
     "outputs": [
      {
       "output_type": "stream",
       "stream": "stdout",
       "text": [
        "indexing 99\n"
       ]
      }
     ],
     "prompt_number": 19
    },
    {
     "cell_type": "code",
     "collapsed": false,
     "input": [
      "X[1:99:2]"
     ],
     "language": "python",
     "metadata": {},
     "outputs": [
      {
       "output_type": "stream",
       "stream": "stdout",
       "text": [
        "slicing 1 99 2\n"
       ]
      }
     ],
     "prompt_number": 20
    },
    {
     "cell_type": "code",
     "collapsed": false,
     "input": [
      "X[1:]"
     ],
     "language": "python",
     "metadata": {},
     "outputs": [
      {
       "output_type": "stream",
       "stream": "stdout",
       "text": [
        "slicing 1 9223372036854775807 None\n"
       ]
      }
     ],
     "prompt_number": 21
    },
    {
     "cell_type": "markdown",
     "metadata": {},
     "source": [
      "If used, the __setitem__ index assignment method similarly intercepts both index and slice assignments."
     ]
    },
    {
     "cell_type": "heading",
     "level": 2,
     "metadata": {},
     "source": [
      "Slicing and Indexing in Python 2.X"
     ]
    },
    {
     "cell_type": "code",
     "collapsed": false,
     "input": [
      "class Slicer:\n",
      "    def __getitem__(self, index): print index\n",
      "    def __getslice__(self, i, j): print i,j\n",
      "    def __setslice__(self, i, j, seq): print i, j, seq"
     ],
     "language": "python",
     "metadata": {},
     "outputs": [],
     "prompt_number": 22
    },
    {
     "cell_type": "code",
     "collapsed": false,
     "input": [
      "Slicer()[1] # Runs __getitem__ with int"
     ],
     "language": "python",
     "metadata": {},
     "outputs": [
      {
       "output_type": "stream",
       "stream": "stdout",
       "text": [
        "1\n"
       ]
      }
     ],
     "prompt_number": 23
    },
    {
     "cell_type": "code",
     "collapsed": false,
     "input": [
      "Slicer()[1:9] # Runs __getslice__ if present, else __getitem"
     ],
     "language": "python",
     "metadata": {},
     "outputs": [
      {
       "output_type": "stream",
       "stream": "stdout",
       "text": [
        "1 9\n"
       ]
      }
     ],
     "prompt_number": 24
    },
    {
     "cell_type": "code",
     "collapsed": false,
     "input": [
      "Slicer()[1:9:2] # Runs __getitem__ with slice()"
     ],
     "language": "python",
     "metadata": {},
     "outputs": [
      {
       "output_type": "stream",
       "stream": "stdout",
       "text": [
        "slice(1, 9, 2)\n"
       ]
      }
     ],
     "prompt_number": 25
    },
    {
     "cell_type": "markdown",
     "metadata": {},
     "source": [
      "These slice-specific methods are removed in 3.X, so even in 2.X you should generally use __getitem__ and __setitem__."
     ]
    },
    {
     "cell_type": "heading",
     "level": 2,
     "metadata": {},
     "source": [
      "Index Iteration: __getitem__"
     ]
    },
    {
     "cell_type": "code",
     "collapsed": false,
     "input": [
      "class StepperIndex:\n",
      "    def __getitem__(self, i):\n",
      "        return self.data[i]"
     ],
     "language": "python",
     "metadata": {},
     "outputs": [],
     "prompt_number": 26
    },
    {
     "cell_type": "code",
     "collapsed": false,
     "input": [
      "X = StepperIndex() # X is a StepperIndex object"
     ],
     "language": "python",
     "metadata": {},
     "outputs": [],
     "prompt_number": 27
    },
    {
     "cell_type": "code",
     "collapsed": false,
     "input": [
      "X.data = 'Spam'"
     ],
     "language": "python",
     "metadata": {},
     "outputs": [],
     "prompt_number": 28
    },
    {
     "cell_type": "code",
     "collapsed": false,
     "input": [
      "X[1]"
     ],
     "language": "python",
     "metadata": {},
     "outputs": [
      {
       "metadata": {},
       "output_type": "pyout",
       "prompt_number": 30,
       "text": [
        "'p'"
       ]
      }
     ],
     "prompt_number": 30
    },
    {
     "cell_type": "code",
     "collapsed": false,
     "input": [
      "for item in X: # for loops call __getite__\n",
      "    print item,"
     ],
     "language": "python",
     "metadata": {},
     "outputs": [
      {
       "output_type": "stream",
       "stream": "stdout",
       "text": [
        "S p a m\n"
       ]
      }
     ],
     "prompt_number": 31
    },
    {
     "cell_type": "code",
     "collapsed": false,
     "input": [
      "'p' in X # call __getitem__ too"
     ],
     "language": "python",
     "metadata": {},
     "outputs": [
      {
       "metadata": {},
       "output_type": "pyout",
       "prompt_number": 32,
       "text": [
        "True"
       ]
      }
     ],
     "prompt_number": 32
    },
    {
     "cell_type": "code",
     "collapsed": false,
     "input": [
      "[c for c in X] # List comprehension"
     ],
     "language": "python",
     "metadata": {},
     "outputs": [
      {
       "metadata": {},
       "output_type": "pyout",
       "prompt_number": 33,
       "text": [
        "['S', 'p', 'a', 'm']"
       ]
      }
     ],
     "prompt_number": 33
    },
    {
     "cell_type": "code",
     "collapsed": false,
     "input": [
      "map(str.upper, X) # Map calls"
     ],
     "language": "python",
     "metadata": {},
     "outputs": [
      {
       "metadata": {},
       "output_type": "pyout",
       "prompt_number": 34,
       "text": [
        "['S', 'P', 'A', 'M']"
       ]
      }
     ],
     "prompt_number": 34
    },
    {
     "cell_type": "code",
     "collapsed": false,
     "input": [
      "(a, b, c, d) = X # Sequence assignments"
     ],
     "language": "python",
     "metadata": {},
     "outputs": [],
     "prompt_number": 35
    },
    {
     "cell_type": "code",
     "collapsed": false,
     "input": [
      "list(X), tuple(X), ''.join(X) # And so on ..."
     ],
     "language": "python",
     "metadata": {},
     "outputs": [
      {
       "metadata": {},
       "output_type": "pyout",
       "prompt_number": 36,
       "text": [
        "(['S', 'p', 'a', 'm'], ('S', 'p', 'a', 'm'), 'Spam')"
       ]
      }
     ],
     "prompt_number": 36
    },
    {
     "cell_type": "code",
     "collapsed": false,
     "input": [
      "X"
     ],
     "language": "python",
     "metadata": {},
     "outputs": [
      {
       "metadata": {},
       "output_type": "pyout",
       "prompt_number": 37,
       "text": [
        "<__main__.StepperIndex instance at 0x1045c1cb0>"
       ]
      }
     ],
     "prompt_number": 37
    },
    {
     "cell_type": "heading",
     "level": 2,
     "metadata": {},
     "source": [
      "Iterable Objects: __iter__ and __next__"
     ]
    },
    {
     "cell_type": "markdown",
     "metadata": {},
     "source": [
      "Today, all iteration contexts in Python will try the __iter__ method first, before trying __getitem__."
     ]
    },
    {
     "cell_type": "heading",
     "level": 2,
     "metadata": {},
     "source": [
      "User-defined Iterables"
     ]
    },
    {
     "cell_type": "code",
     "collapsed": false,
     "input": [
      "class Squares:\n",
      "    def __init__(self, start, stop): # Save state when created\n",
      "        self.value = start-1\n",
      "        self.stop = stop\n",
      "    def __iter__(self): # Get iterator object on iter\n",
      "        return self\n",
      "    def next(self): # Return a square on each iteration\n",
      "        if self.value == self.stop: # also called by next built in\n",
      "            raise StopIteration\n",
      "        self.value += 1\n",
      "        return self.value ** 2\n",
      "        "
     ],
     "language": "python",
     "metadata": {},
     "outputs": [],
     "prompt_number": 44
    },
    {
     "cell_type": "code",
     "collapsed": false,
     "input": [
      "for i in Squares(1, 5): # for calls iter, which calls __iter__\n",
      "    print i, # each iteration calls __next__"
     ],
     "language": "python",
     "metadata": {},
     "outputs": [
      {
       "output_type": "stream",
       "stream": "stdout",
       "text": [
        "1 4 9 16 25\n"
       ]
      }
     ],
     "prompt_number": 46
    },
    {
     "cell_type": "code",
     "collapsed": false,
     "input": [
      "X = Squares(1, 5) # iterate manually: what loops do"
     ],
     "language": "python",
     "metadata": {},
     "outputs": [],
     "prompt_number": 49
    },
    {
     "cell_type": "code",
     "collapsed": false,
     "input": [
      "I = iter(X) # iter calls __iter__"
     ],
     "language": "python",
     "metadata": {},
     "outputs": [],
     "prompt_number": 50
    },
    {
     "cell_type": "code",
     "collapsed": false,
     "input": [
      "next(I) # next calls next"
     ],
     "language": "python",
     "metadata": {},
     "outputs": [
      {
       "metadata": {},
       "output_type": "pyout",
       "prompt_number": 51,
       "text": [
        "1"
       ]
      }
     ],
     "prompt_number": 51
    },
    {
     "cell_type": "code",
     "collapsed": false,
     "input": [
      "next(I)"
     ],
     "language": "python",
     "metadata": {},
     "outputs": [
      {
       "metadata": {},
       "output_type": "pyout",
       "prompt_number": 52,
       "text": [
        "4"
       ]
      }
     ],
     "prompt_number": 52
    },
    {
     "cell_type": "code",
     "collapsed": false,
     "input": [
      "next(I)"
     ],
     "language": "python",
     "metadata": {},
     "outputs": [
      {
       "metadata": {},
       "output_type": "pyout",
       "prompt_number": 53,
       "text": [
        "9"
       ]
      }
     ],
     "prompt_number": 53
    },
    {
     "cell_type": "code",
     "collapsed": false,
     "input": [
      "next(I)"
     ],
     "language": "python",
     "metadata": {},
     "outputs": [
      {
       "metadata": {},
       "output_type": "pyout",
       "prompt_number": 54,
       "text": [
        "16"
       ]
      }
     ],
     "prompt_number": 54
    },
    {
     "cell_type": "code",
     "collapsed": false,
     "input": [
      "next(I)"
     ],
     "language": "python",
     "metadata": {},
     "outputs": [
      {
       "metadata": {},
       "output_type": "pyout",
       "prompt_number": 55,
       "text": [
        "25"
       ]
      }
     ],
     "prompt_number": 55
    },
    {
     "cell_type": "code",
     "collapsed": false,
     "input": [
      "next(I)"
     ],
     "language": "python",
     "metadata": {},
     "outputs": [
      {
       "ename": "StopIteration",
       "evalue": "",
       "output_type": "pyerr",
       "traceback": [
        "\u001b[0;31m---------------------------------------------------------------------------\u001b[0m\n\u001b[0;31mStopIteration\u001b[0m                             Traceback (most recent call last)",
        "\u001b[0;32m<ipython-input-56-032af8264890>\u001b[0m in \u001b[0;36m<module>\u001b[0;34m()\u001b[0m\n\u001b[0;32m----> 1\u001b[0;31m \u001b[0mnext\u001b[0m\u001b[0;34m(\u001b[0m\u001b[0mI\u001b[0m\u001b[0;34m)\u001b[0m\u001b[0;34m\u001b[0m\u001b[0m\n\u001b[0m",
        "\u001b[0;31mStopIteration\u001b[0m: "
       ]
      }
     ],
     "prompt_number": 56
    },
    {
     "cell_type": "markdown",
     "metadata": {},
     "source": [
      "They are really designed for iteration, not for random indexing."
     ]
    },
    {
     "cell_type": "code",
     "collapsed": false,
     "input": [
      "X = Squares(1, 5)"
     ],
     "language": "python",
     "metadata": {},
     "outputs": [],
     "prompt_number": 57
    },
    {
     "cell_type": "code",
     "collapsed": false,
     "input": [
      "X[1]"
     ],
     "language": "python",
     "metadata": {},
     "outputs": [
      {
       "ename": "AttributeError",
       "evalue": "Squares instance has no attribute '__getitem__'",
       "output_type": "pyerr",
       "traceback": [
        "\u001b[0;31m---------------------------------------------------------------------------\u001b[0m\n\u001b[0;31mAttributeError\u001b[0m                            Traceback (most recent call last)",
        "\u001b[0;32m<ipython-input-58-5fd293755e99>\u001b[0m in \u001b[0;36m<module>\u001b[0;34m()\u001b[0m\n\u001b[0;32m----> 1\u001b[0;31m \u001b[0mX\u001b[0m\u001b[0;34m[\u001b[0m\u001b[0;36m1\u001b[0m\u001b[0;34m]\u001b[0m\u001b[0;34m\u001b[0m\u001b[0m\n\u001b[0m",
        "\u001b[0;31mAttributeError\u001b[0m: Squares instance has no attribute '__getitem__'"
       ]
      }
     ],
     "prompt_number": 58
    },
    {
     "cell_type": "code",
     "collapsed": false,
     "input": [
      "list(X)[1]"
     ],
     "language": "python",
     "metadata": {},
     "outputs": [
      {
       "metadata": {},
       "output_type": "pyout",
       "prompt_number": 59,
       "text": [
        "4"
       ]
      }
     ],
     "prompt_number": 59
    },
    {
     "cell_type": "markdown",
     "metadata": {},
     "source": [
      "You generally need to make a new iterable instance object for each new iteration."
     ]
    },
    {
     "cell_type": "code",
     "collapsed": false,
     "input": [
      "X = Squares(1,5) # Make an iterable with state"
     ],
     "language": "python",
     "metadata": {},
     "outputs": [],
     "prompt_number": 60
    },
    {
     "cell_type": "code",
     "collapsed": false,
     "input": [
      "[n for n in X] # Exhausts items: __iter__ returns itself"
     ],
     "language": "python",
     "metadata": {},
     "outputs": [
      {
       "metadata": {},
       "output_type": "pyout",
       "prompt_number": 61,
       "text": [
        "[1, 4, 9, 16, 25]"
       ]
      }
     ],
     "prompt_number": 61
    },
    {
     "cell_type": "code",
     "collapsed": false,
     "input": [
      "[n for n in X] # Now, it's empty: __iter__ returns same self"
     ],
     "language": "python",
     "metadata": {},
     "outputs": [
      {
       "metadata": {},
       "output_type": "pyout",
       "prompt_number": 62,
       "text": [
        "[]"
       ]
      }
     ],
     "prompt_number": 62
    },
    {
     "cell_type": "markdown",
     "metadata": {},
     "source": [
      "To support multiple iterations more directly, we could recode this example with an extra class or other technique."
     ]
    },
    {
     "cell_type": "markdown",
     "metadata": {},
     "source": [
      "COnverting to a list supports multiple scans as well, but adds time and space performance costs."
     ]
    },
    {
     "cell_type": "code",
     "collapsed": false,
     "input": [
      "X = Squares(1, 5)"
     ],
     "language": "python",
     "metadata": {},
     "outputs": [],
     "prompt_number": 63
    },
    {
     "cell_type": "code",
     "collapsed": false,
     "input": [
      "tuple(X), tuple(X) # Iterator exhausted in second tuple()"
     ],
     "language": "python",
     "metadata": {},
     "outputs": [
      {
       "metadata": {},
       "output_type": "pyout",
       "prompt_number": 64,
       "text": [
        "((1, 4, 9, 16, 25), ())"
       ]
      }
     ],
     "prompt_number": 64
    },
    {
     "cell_type": "code",
     "collapsed": false,
     "input": [
      "X = list(Squares(1, 5))"
     ],
     "language": "python",
     "metadata": {},
     "outputs": [],
     "prompt_number": 65
    },
    {
     "cell_type": "code",
     "collapsed": false,
     "input": [
      "tuple(X), tuple(X)"
     ],
     "language": "python",
     "metadata": {},
     "outputs": [
      {
       "metadata": {},
       "output_type": "pyout",
       "prompt_number": 66,
       "text": [
        "((1, 4, 9, 16, 25), (1, 4, 9, 16, 25))"
       ]
      }
     ],
     "prompt_number": 66
    },
    {
     "cell_type": "markdown",
     "metadata": {},
     "source": [
      "Notice that the preceding example would probably be simpler if it was coded with generator functions or expressions."
     ]
    },
    {
     "cell_type": "code",
     "collapsed": false,
     "input": [
      "def gsquares(start, stop):\n",
      "    for i in range(start, stop+1):\n",
      "        yield i**2"
     ],
     "language": "python",
     "metadata": {},
     "outputs": [],
     "prompt_number": 67
    },
    {
     "cell_type": "code",
     "collapsed": false,
     "input": [
      "for i in gsquares(1, 5):\n",
      "    print i,"
     ],
     "language": "python",
     "metadata": {},
     "outputs": [
      {
       "output_type": "stream",
       "stream": "stdout",
       "text": [
        "1 4 9 16 25\n"
       ]
      }
     ],
     "prompt_number": 68
    },
    {
     "cell_type": "heading",
     "level": 2,
     "metadata": {},
     "source": [
      "Multiple Iterators on One Subject"
     ]
    },
    {
     "cell_type": "code",
     "collapsed": false,
     "input": [
      "S = 'ace'"
     ],
     "language": "python",
     "metadata": {},
     "outputs": [],
     "prompt_number": 69
    },
    {
     "cell_type": "code",
     "collapsed": false,
     "input": [
      "for x in S:\n",
      "    for y in S:\n",
      "        print x+y,"
     ],
     "language": "python",
     "metadata": {},
     "outputs": [
      {
       "output_type": "stream",
       "stream": "stdout",
       "text": [
        "aa ac ae ca cc ce ea ec ee\n"
       ]
      }
     ],
     "prompt_number": 70
    },
    {
     "cell_type": "markdown",
     "metadata": {},
     "source": [
      "To achieve the multiple-iterator effect, __iter__ simply needs to define a new stateful object for the iterator, instead of returning self for each request."
     ]
    },
    {
     "cell_type": "code",
     "collapsed": false,
     "input": [
      "class SkipObject:\n",
      "    def __init__(self, wrapped): # Save item to be used\n",
      "        self.wrapped = wrapped\n",
      "    def __iter__(self):\n",
      "        return SkipIterator(self.wrapped) # New iterator each time\n",
      "    \n",
      "class SkipIterator:\n",
      "    def __init__(self, wrapped):\n",
      "        self.wrapped = wrapped # Iterator state information\n",
      "        self.offset = 0\n",
      "    def next(self):\n",
      "        if self.offset >= len(self.wrapped): # terminate iterations\n",
      "            raise StopIteration\n",
      "        else:\n",
      "            item = self.wrapped[self.offset] # else return and skip\n",
      "            self.offset += 2\n",
      "            return item"
     ],
     "language": "python",
     "metadata": {},
     "outputs": [],
     "prompt_number": 71
    },
    {
     "cell_type": "code",
     "collapsed": false,
     "input": [
      "alpha = 'abcdef'"
     ],
     "language": "python",
     "metadata": {},
     "outputs": [],
     "prompt_number": 72
    },
    {
     "cell_type": "code",
     "collapsed": false,
     "input": [
      "skipper = SkipObject(alpha) # Make container object"
     ],
     "language": "python",
     "metadata": {},
     "outputs": [],
     "prompt_number": 73
    },
    {
     "cell_type": "code",
     "collapsed": false,
     "input": [
      "I = iter(skipper)"
     ],
     "language": "python",
     "metadata": {},
     "outputs": [],
     "prompt_number": 74
    },
    {
     "cell_type": "code",
     "collapsed": false,
     "input": [
      "print next(I), next(I), next(I)"
     ],
     "language": "python",
     "metadata": {},
     "outputs": [
      {
       "output_type": "stream",
       "stream": "stdout",
       "text": [
        "a c e\n"
       ]
      }
     ],
     "prompt_number": 75
    },
    {
     "cell_type": "code",
     "collapsed": false,
     "input": [
      "for x in skipper: # for calls __iter__ autamatically\n",
      "    for y in skipper: # Nested fors call _iter__ again each time\n",
      "        print x+y, # Each iterator has its own state, offset"
     ],
     "language": "python",
     "metadata": {},
     "outputs": [
      {
       "output_type": "stream",
       "stream": "stdout",
       "text": [
        "aa ac ae ca cc ce ea ec ee\n"
       ]
      }
     ],
     "prompt_number": 76
    },
    {
     "cell_type": "markdown",
     "metadata": {},
     "source": [
      "Each active loop has its own position in the string because each obtains an independent iterator object that records its own state information."
     ]
    },
    {
     "cell_type": "heading",
     "level": 2,
     "metadata": {},
     "source": [
      "Coding Alternative: __iter__ plus yield"
     ]
    },
    {
     "cell_type": "code",
     "collapsed": false,
     "input": [
      "def gen(x):\n",
      "    for i in range(x): yield i**2"
     ],
     "language": "python",
     "metadata": {},
     "outputs": [],
     "prompt_number": 77
    },
    {
     "cell_type": "code",
     "collapsed": false,
     "input": [
      "G = gen(5) # Create a generator with __iter__ and __next__"
     ],
     "language": "python",
     "metadata": {},
     "outputs": [],
     "prompt_number": 78
    },
    {
     "cell_type": "code",
     "collapsed": false,
     "input": [
      "G.__iter__() == G # Both methods exist on the same object"
     ],
     "language": "python",
     "metadata": {},
     "outputs": [
      {
       "metadata": {},
       "output_type": "pyout",
       "prompt_number": 79,
       "text": [
        "True"
       ]
      }
     ],
     "prompt_number": 79
    },
    {
     "cell_type": "code",
     "collapsed": false,
     "input": [
      "I = iter(G) # Runs __iter__: generator returns itself"
     ],
     "language": "python",
     "metadata": {},
     "outputs": [],
     "prompt_number": 80
    },
    {
     "cell_type": "code",
     "collapsed": false,
     "input": [
      "next(I), next(I) # Runs next"
     ],
     "language": "python",
     "metadata": {},
     "outputs": [
      {
       "metadata": {},
       "output_type": "pyout",
       "prompt_number": 81,
       "text": [
        "(0, 1)"
       ]
      }
     ],
     "prompt_number": 81
    },
    {
     "cell_type": "code",
     "collapsed": false,
     "input": [
      "list(gen(5)) # Iteration contexts automatically run iter and next"
     ],
     "language": "python",
     "metadata": {},
     "outputs": [
      {
       "metadata": {},
       "output_type": "pyout",
       "prompt_number": 82,
       "text": [
        "[0, 1, 4, 9, 16]"
       ]
      }
     ],
     "prompt_number": 82
    },
    {
     "cell_type": "markdown",
     "metadata": {},
     "source": [
      "The following is equivalent to the initial Squares user-defined iterable we coded earlier."
     ]
    },
    {
     "cell_type": "code",
     "collapsed": false,
     "input": [
      "class Squares: # __iter__ + yield generator\n",
      "    def __init__(self, start, stop): #  next is automatic\n",
      "        self.start = start\n",
      "        self.stop = stop\n",
      "    def __iter__(self):\n",
      "        for value in range(self.start, self.stop + 1):\n",
      "            yield value ** 2"
     ],
     "language": "python",
     "metadata": {},
     "outputs": [],
     "prompt_number": 83
    },
    {
     "cell_type": "code",
     "collapsed": false,
     "input": [
      "for i in Squares(1, 5): print i,"
     ],
     "language": "python",
     "metadata": {},
     "outputs": [
      {
       "output_type": "stream",
       "stream": "stdout",
       "text": [
        "1 4 9 16 25\n"
       ]
      }
     ],
     "prompt_number": 84
    },
    {
     "cell_type": "code",
     "collapsed": false,
     "input": [
      "S = Squares(1, 5) # Runs __init__: class saves instance state"
     ],
     "language": "python",
     "metadata": {},
     "outputs": [],
     "prompt_number": 85
    },
    {
     "cell_type": "code",
     "collapsed": false,
     "input": [
      "S"
     ],
     "language": "python",
     "metadata": {},
     "outputs": [
      {
       "metadata": {},
       "output_type": "pyout",
       "prompt_number": 86,
       "text": [
        "<__main__.Squares instance at 0x10717ae60>"
       ]
      }
     ],
     "prompt_number": 86
    },
    {
     "cell_type": "code",
     "collapsed": false,
     "input": [
      "I = iter(S)"
     ],
     "language": "python",
     "metadata": {},
     "outputs": [],
     "prompt_number": 88
    },
    {
     "cell_type": "code",
     "collapsed": false,
     "input": [
      "I"
     ],
     "language": "python",
     "metadata": {},
     "outputs": [
      {
       "metadata": {},
       "output_type": "pyout",
       "prompt_number": 89,
       "text": [
        "<generator object __iter__ at 0x10717cbe0>"
       ]
      }
     ],
     "prompt_number": 89
    },
    {
     "cell_type": "code",
     "collapsed": false,
     "input": [
      "next(I)"
     ],
     "language": "python",
     "metadata": {},
     "outputs": [
      {
       "metadata": {},
       "output_type": "pyout",
       "prompt_number": 90,
       "text": [
        "1"
       ]
      }
     ],
     "prompt_number": 90
    },
    {
     "cell_type": "code",
     "collapsed": false,
     "input": [
      "next(I) # runs generator's next"
     ],
     "language": "python",
     "metadata": {},
     "outputs": [
      {
       "metadata": {},
       "output_type": "pyout",
       "prompt_number": 91,
       "text": [
        "4"
       ]
      }
     ],
     "prompt_number": 91
    },
    {
     "cell_type": "code",
     "collapsed": false,
     "input": [
      "next(I)"
     ],
     "language": "python",
     "metadata": {},
     "outputs": [
      {
       "ename": "StopIteration",
       "evalue": "",
       "output_type": "pyerr",
       "traceback": [
        "\u001b[0;31m---------------------------------------------------------------------------\u001b[0m\n\u001b[0;31mStopIteration\u001b[0m                             Traceback (most recent call last)",
        "\u001b[0;32m<ipython-input-95-032af8264890>\u001b[0m in \u001b[0;36m<module>\u001b[0;34m()\u001b[0m\n\u001b[0;32m----> 1\u001b[0;31m \u001b[0mnext\u001b[0m\u001b[0;34m(\u001b[0m\u001b[0mI\u001b[0m\u001b[0;34m)\u001b[0m\u001b[0;34m\u001b[0m\u001b[0m\n\u001b[0m",
        "\u001b[0;31mStopIteration\u001b[0m: "
       ]
      }
     ],
     "prompt_number": 95
    },
    {
     "cell_type": "code",
     "collapsed": false,
     "input": [
      "S = Squares(1, 5)"
     ],
     "language": "python",
     "metadata": {},
     "outputs": [],
     "prompt_number": 96
    },
    {
     "cell_type": "code",
     "collapsed": false,
     "input": [
      "I = iter(S)"
     ],
     "language": "python",
     "metadata": {},
     "outputs": [],
     "prompt_number": 97
    },
    {
     "cell_type": "code",
     "collapsed": false,
     "input": [
      "next(I), next(I)"
     ],
     "language": "python",
     "metadata": {},
     "outputs": [
      {
       "metadata": {},
       "output_type": "pyout",
       "prompt_number": 99,
       "text": [
        "(9, 16)"
       ]
      }
     ],
     "prompt_number": 99
    },
    {
     "cell_type": "code",
     "collapsed": false,
     "input": [
      "J = iter(S) # with yield, multiple iterators automatic"
     ],
     "language": "python",
     "metadata": {},
     "outputs": [],
     "prompt_number": 100
    },
    {
     "cell_type": "code",
     "collapsed": false,
     "input": [
      "next(J)"
     ],
     "language": "python",
     "metadata": {},
     "outputs": [
      {
       "metadata": {},
       "output_type": "pyout",
       "prompt_number": 101,
       "text": [
        "1"
       ]
      }
     ],
     "prompt_number": 101
    },
    {
     "cell_type": "code",
     "collapsed": false,
     "input": [
      "next(I) # I is independent of J: own local state"
     ],
     "language": "python",
     "metadata": {},
     "outputs": [
      {
       "ename": "StopIteration",
       "evalue": "",
       "output_type": "pyerr",
       "traceback": [
        "\u001b[0;31m---------------------------------------------------------------------------\u001b[0m\n\u001b[0;31mStopIteration\u001b[0m                             Traceback (most recent call last)",
        "\u001b[0;32m<ipython-input-103-f3d610a8bd2b>\u001b[0m in \u001b[0;36m<module>\u001b[0;34m()\u001b[0m\n\u001b[0;32m----> 1\u001b[0;31m \u001b[0mnext\u001b[0m\u001b[0;34m(\u001b[0m\u001b[0mI\u001b[0m\u001b[0;34m)\u001b[0m \u001b[0;31m# I is independent of J: own local state\u001b[0m\u001b[0;34m\u001b[0m\u001b[0m\n\u001b[0m",
        "\u001b[0;31mStopIteration\u001b[0m: "
       ]
      }
     ],
     "prompt_number": 103
    },
    {
     "cell_type": "code",
     "collapsed": false,
     "input": [
      "class SkipObject: # Another __iter__ + yield iterator\n",
      "    def __init__(self, wrapped): # Instance scope retained normally\n",
      "        self.wrapped = wrapped # Local scope state saved auto\n",
      "    def __iter__(self):\n",
      "        offset = 0\n",
      "        while offset < len(self.wrapped):\n",
      "            item = self.wrapped[offset]\n",
      "            offset += 2\n",
      "            yield item"
     ],
     "language": "python",
     "metadata": {},
     "outputs": [],
     "prompt_number": 104
    },
    {
     "cell_type": "code",
     "collapsed": false,
     "input": [
      "skipper = SkipObject('abcdef')"
     ],
     "language": "python",
     "metadata": {},
     "outputs": [],
     "prompt_number": 105
    },
    {
     "cell_type": "code",
     "collapsed": false,
     "input": [
      "I = iter(skipper)"
     ],
     "language": "python",
     "metadata": {},
     "outputs": [],
     "prompt_number": 106
    },
    {
     "cell_type": "code",
     "collapsed": false,
     "input": [
      "next(I)"
     ],
     "language": "python",
     "metadata": {},
     "outputs": [
      {
       "metadata": {},
       "output_type": "pyout",
       "prompt_number": 107,
       "text": [
        "'a'"
       ]
      }
     ],
     "prompt_number": 107
    },
    {
     "cell_type": "code",
     "collapsed": false,
     "input": [
      "next(I)"
     ],
     "language": "python",
     "metadata": {},
     "outputs": [
      {
       "metadata": {},
       "output_type": "pyout",
       "prompt_number": 108,
       "text": [
        "'c'"
       ]
      }
     ],
     "prompt_number": 108
    },
    {
     "cell_type": "code",
     "collapsed": false,
     "input": [
      "for x in skipper: # Each for calls __iter__: new auto generator\n",
      "    for y in skipper:\n",
      "        print x+y"
     ],
     "language": "python",
     "metadata": {},
     "outputs": [
      {
       "output_type": "stream",
       "stream": "stdout",
       "text": [
        "aa\n",
        "ac\n",
        "ae\n",
        "ca\n",
        "cc\n",
        "ce\n",
        "ea\n",
        "ec\n",
        "ee\n"
       ]
      }
     ],
     "prompt_number": 109
    },
    {
     "cell_type": "heading",
     "level": 3,
     "metadata": {},
     "source": [
      "Membership: __contains__, __iter__, and __getitem__"
     ]
    },
    {
     "cell_type": "code",
     "collapsed": false,
     "input": [
      "class Iters:\n",
      "    def __init__(self, value):\n",
      "        self.data = value\n",
      "    \n",
      "    def __getitem__(self, i): # Falback for iteration\n",
      "        print 'get[%s]' %i, # Also for index, slice\n",
      "        return self.data[i]\n",
      "    \n",
      "    def __iter__(self): # Preferred for iteration\n",
      "        print 'iter=> ', # Allows only one active iterator\n",
      "        self.ix = 0\n",
      "        return self\n",
      "    \n",
      "    def next(self):\n",
      "        print 'next:',\n",
      "        if self.ix == len(self.data): raise StopIteration\n",
      "        item = self.data[self.ix]\n",
      "        self.ix += 1\n",
      "        return item\n",
      "    \n",
      "    def __contains__(self, x): # Preferred for in\n",
      "        print 'contains: ',\n",
      "        return x in self.data\n",
      "    "
     ],
     "language": "python",
     "metadata": {},
     "outputs": [],
     "prompt_number": 110
    },
    {
     "cell_type": "code",
     "collapsed": false,
     "input": [
      "X = Iters([1, 2, 3, 4, 5]) # Make instance"
     ],
     "language": "python",
     "metadata": {},
     "outputs": [],
     "prompt_number": 111
    },
    {
     "cell_type": "code",
     "collapsed": false,
     "input": [
      "print 3 in X # Membership"
     ],
     "language": "python",
     "metadata": {},
     "outputs": [
      {
       "output_type": "stream",
       "stream": "stdout",
       "text": [
        "contains:  True\n"
       ]
      }
     ],
     "prompt_number": 112
    },
    {
     "cell_type": "code",
     "collapsed": false,
     "input": [
      "for i in X: # for loops\n",
      "    print i, \"|\","
     ],
     "language": "python",
     "metadata": {},
     "outputs": [
      {
       "output_type": "stream",
       "stream": "stdout",
       "text": [
        "iter=>  next: 1 | next: 2 | next: 3 | next: 4 | next: 5 | next:\n"
       ]
      }
     ],
     "prompt_number": 113
    },
    {
     "cell_type": "markdown",
     "metadata": {},
     "source": [
      "the following is equivalent but allows multiple scans"
     ]
    },
    {
     "cell_type": "code",
     "collapsed": false,
     "input": [
      "class Iters:\n",
      "    def __init__(self, value):\n",
      "        self.data = value\n",
      "        \n",
      "    def __getitem__(self, i):\n",
      "        print 'get[%s]' %i,\n",
      "        return self.data[i]\n",
      "    \n",
      "    def __iter__(self): \n",
      "        print 'iter => next: ',\n",
      "        for x in self.data:\n",
      "            yield x\n",
      "            print 'next:'\n",
      "            \n",
      "    def __contains__(self, x):\n",
      "        print 'contains: ',\n",
      "        return x in self.data"
     ],
     "language": "python",
     "metadata": {},
     "outputs": [],
     "prompt_number": 116
    },
    {
     "cell_type": "heading",
     "level": 2,
     "metadata": {},
     "source": [
      "Attribute Access: __getattr__ and _setattr__"
     ]
    },
    {
     "cell_type": "code",
     "collapsed": false,
     "input": [
      "class Empty:\n",
      "    def __getattr__(self, attrname): # On self.undefined\n",
      "        if attrname == 'age':\n",
      "            return 40\n",
      "        else:\n",
      "            raise AttributeError(attrname)"
     ],
     "language": "python",
     "metadata": {},
     "outputs": [],
     "prompt_number": 117
    },
    {
     "cell_type": "code",
     "collapsed": false,
     "input": [
      "X = Empty()"
     ],
     "language": "python",
     "metadata": {},
     "outputs": [],
     "prompt_number": 118
    },
    {
     "cell_type": "code",
     "collapsed": false,
     "input": [
      "X.age"
     ],
     "language": "python",
     "metadata": {},
     "outputs": [
      {
       "metadata": {},
       "output_type": "pyout",
       "prompt_number": 119,
       "text": [
        "40"
       ]
      }
     ],
     "prompt_number": 119
    },
    {
     "cell_type": "code",
     "collapsed": false,
     "input": [
      "X.name"
     ],
     "language": "python",
     "metadata": {},
     "outputs": [
      {
       "ename": "AttributeError",
       "evalue": "name",
       "output_type": "pyerr",
       "traceback": [
        "\u001b[0;31m---------------------------------------------------------------------------\u001b[0m\n\u001b[0;31mAttributeError\u001b[0m                            Traceback (most recent call last)",
        "\u001b[0;32m<ipython-input-120-cdb6521ca9de>\u001b[0m in \u001b[0;36m<module>\u001b[0;34m()\u001b[0m\n\u001b[0;32m----> 1\u001b[0;31m \u001b[0mX\u001b[0m\u001b[0;34m.\u001b[0m\u001b[0mname\u001b[0m\u001b[0;34m\u001b[0m\u001b[0m\n\u001b[0m",
        "\u001b[0;32m<ipython-input-117-0a53f1b2b5b0>\u001b[0m in \u001b[0;36m__getattr__\u001b[0;34m(self, attrname)\u001b[0m\n\u001b[1;32m      4\u001b[0m             \u001b[0;32mreturn\u001b[0m \u001b[0;36m40\u001b[0m\u001b[0;34m\u001b[0m\u001b[0m\n\u001b[1;32m      5\u001b[0m         \u001b[0;32melse\u001b[0m\u001b[0;34m:\u001b[0m\u001b[0;34m\u001b[0m\u001b[0m\n\u001b[0;32m----> 6\u001b[0;31m             \u001b[0;32mraise\u001b[0m \u001b[0mAttributeError\u001b[0m\u001b[0;34m(\u001b[0m\u001b[0mattrname\u001b[0m\u001b[0;34m)\u001b[0m\u001b[0;34m\u001b[0m\u001b[0m\n\u001b[0m",
        "\u001b[0;31mAttributeError\u001b[0m: name"
       ]
      }
     ],
     "prompt_number": 120
    },
    {
     "cell_type": "code",
     "collapsed": false,
     "input": [
      "class Accesscontrol:\n",
      "    def __setattr__(self, attr, value):\n",
      "        if attr == 'age':\n",
      "            self.__dict__[attr] = value + 10 # Not self.name = val or settatr\n",
      "        else:\n",
      "            raise AttributeError(attr + ' not allowed')"
     ],
     "language": "python",
     "metadata": {},
     "outputs": [],
     "prompt_number": 121
    },
    {
     "cell_type": "code",
     "collapsed": false,
     "input": [
      "X =  Accesscontrol()"
     ],
     "language": "python",
     "metadata": {},
     "outputs": [],
     "prompt_number": 122
    },
    {
     "cell_type": "code",
     "collapsed": false,
     "input": [
      "X.age = 40 # Calls __setatr__"
     ],
     "language": "python",
     "metadata": {},
     "outputs": [],
     "prompt_number": 123
    },
    {
     "cell_type": "code",
     "collapsed": false,
     "input": [
      "X.age"
     ],
     "language": "python",
     "metadata": {},
     "outputs": [
      {
       "metadata": {},
       "output_type": "pyout",
       "prompt_number": 124,
       "text": [
        "50"
       ]
      }
     ],
     "prompt_number": 124
    },
    {
     "cell_type": "code",
     "collapsed": false,
     "input": [
      "X.name = 'Bob'"
     ],
     "language": "python",
     "metadata": {},
     "outputs": [
      {
       "ename": "AttributeError",
       "evalue": "name not allowed",
       "output_type": "pyerr",
       "traceback": [
        "\u001b[0;31m---------------------------------------------------------------------------\u001b[0m\n\u001b[0;31mAttributeError\u001b[0m                            Traceback (most recent call last)",
        "\u001b[0;32m<ipython-input-125-562b3ced00b3>\u001b[0m in \u001b[0;36m<module>\u001b[0;34m()\u001b[0m\n\u001b[0;32m----> 1\u001b[0;31m \u001b[0mX\u001b[0m\u001b[0;34m.\u001b[0m\u001b[0mname\u001b[0m \u001b[0;34m=\u001b[0m \u001b[0;34m'Bob'\u001b[0m\u001b[0;34m\u001b[0m\u001b[0m\n\u001b[0m",
        "\u001b[0;32m<ipython-input-121-92866b518c9e>\u001b[0m in \u001b[0;36m__setattr__\u001b[0;34m(self, attr, value)\u001b[0m\n\u001b[1;32m      4\u001b[0m             \u001b[0mself\u001b[0m\u001b[0;34m.\u001b[0m\u001b[0m__dict__\u001b[0m\u001b[0;34m[\u001b[0m\u001b[0mattr\u001b[0m\u001b[0;34m]\u001b[0m \u001b[0;34m=\u001b[0m \u001b[0mvalue\u001b[0m \u001b[0;34m+\u001b[0m \u001b[0;36m10\u001b[0m \u001b[0;31m# Not self.name = val or settatr\u001b[0m\u001b[0;34m\u001b[0m\u001b[0m\n\u001b[1;32m      5\u001b[0m         \u001b[0;32melse\u001b[0m\u001b[0;34m:\u001b[0m\u001b[0;34m\u001b[0m\u001b[0m\n\u001b[0;32m----> 6\u001b[0;31m             \u001b[0;32mraise\u001b[0m \u001b[0mAttributeError\u001b[0m\u001b[0;34m(\u001b[0m\u001b[0mattr\u001b[0m \u001b[0;34m+\u001b[0m \u001b[0;34m' not allowed'\u001b[0m\u001b[0;34m)\u001b[0m\u001b[0;34m\u001b[0m\u001b[0m\n\u001b[0m",
        "\u001b[0;31mAttributeError\u001b[0m: name not allowed"
       ]
      }
     ],
     "prompt_number": 125
    },
    {
     "cell_type": "code",
     "collapsed": false,
     "input": [
      "class PrivateExc(Exception): pass "
     ],
     "language": "python",
     "metadata": {},
     "outputs": [],
     "prompt_number": 126
    },
    {
     "cell_type": "code",
     "collapsed": false,
     "input": [
      "class Privacy:\n",
      "    def __setattr__(self, attrname, value): # On self.attrname = value\n",
      "        if attrname in self.privates:\n",
      "            raise PrivateExc(attrname, self) # Make, raise user-define except\n",
      "        else:\n",
      "            self.__dict__[attrname] = value # Avoid loops by using dict key\n",
      "            \n",
      "class Test1(Privacy):\n",
      "    privates = ['age']\n",
      "    \n",
      "class Test2(Privacy):\n",
      "    privates = ['name', 'pay']\n",
      "    def __init__(self):\n",
      "        self.__dict__['name'] = 'Tom'"
     ],
     "language": "python",
     "metadata": {},
     "outputs": [],
     "prompt_number": 127
    },
    {
     "cell_type": "code",
     "collapsed": false,
     "input": [
      "x = Test1()\n",
      "y = Test2()"
     ],
     "language": "python",
     "metadata": {},
     "outputs": [],
     "prompt_number": 128
    },
    {
     "cell_type": "code",
     "collapsed": false,
     "input": [
      "x.name = 'Bob' # works"
     ],
     "language": "python",
     "metadata": {},
     "outputs": [],
     "prompt_number": 129
    },
    {
     "cell_type": "code",
     "collapsed": false,
     "input": [
      "y.name = 'Sue' # fails"
     ],
     "language": "python",
     "metadata": {},
     "outputs": [
      {
       "ename": "PrivateExc",
       "evalue": "('name', <__main__.Test2 instance at 0x10718a290>)",
       "output_type": "pyerr",
       "traceback": [
        "\u001b[0;31m---------------------------------------------------------------------------\u001b[0m\n\u001b[0;31mPrivateExc\u001b[0m                                Traceback (most recent call last)",
        "\u001b[0;32m<ipython-input-130-59da5ac61310>\u001b[0m in \u001b[0;36m<module>\u001b[0;34m()\u001b[0m\n\u001b[0;32m----> 1\u001b[0;31m \u001b[0my\u001b[0m\u001b[0;34m.\u001b[0m\u001b[0mname\u001b[0m \u001b[0;34m=\u001b[0m \u001b[0;34m'Sue'\u001b[0m \u001b[0;31m# fails\u001b[0m\u001b[0;34m\u001b[0m\u001b[0m\n\u001b[0m",
        "\u001b[0;32m<ipython-input-127-150fced42960>\u001b[0m in \u001b[0;36m__setattr__\u001b[0;34m(self, attrname, value)\u001b[0m\n\u001b[1;32m      2\u001b[0m     \u001b[0;32mdef\u001b[0m \u001b[0m__setattr__\u001b[0m\u001b[0;34m(\u001b[0m\u001b[0mself\u001b[0m\u001b[0;34m,\u001b[0m \u001b[0mattrname\u001b[0m\u001b[0;34m,\u001b[0m \u001b[0mvalue\u001b[0m\u001b[0;34m)\u001b[0m\u001b[0;34m:\u001b[0m \u001b[0;31m# On self.attrname = value\u001b[0m\u001b[0;34m\u001b[0m\u001b[0m\n\u001b[1;32m      3\u001b[0m         \u001b[0;32mif\u001b[0m \u001b[0mattrname\u001b[0m \u001b[0;32min\u001b[0m \u001b[0mself\u001b[0m\u001b[0;34m.\u001b[0m\u001b[0mprivates\u001b[0m\u001b[0;34m:\u001b[0m\u001b[0;34m\u001b[0m\u001b[0m\n\u001b[0;32m----> 4\u001b[0;31m             \u001b[0;32mraise\u001b[0m \u001b[0mPrivateExc\u001b[0m\u001b[0;34m(\u001b[0m\u001b[0mattrname\u001b[0m\u001b[0;34m,\u001b[0m \u001b[0mself\u001b[0m\u001b[0;34m)\u001b[0m \u001b[0;31m# Make, raise user-define except\u001b[0m\u001b[0;34m\u001b[0m\u001b[0m\n\u001b[0m\u001b[1;32m      5\u001b[0m         \u001b[0;32melse\u001b[0m\u001b[0;34m:\u001b[0m\u001b[0;34m\u001b[0m\u001b[0m\n\u001b[1;32m      6\u001b[0m             \u001b[0mself\u001b[0m\u001b[0;34m.\u001b[0m\u001b[0m__dict__\u001b[0m\u001b[0;34m[\u001b[0m\u001b[0mattrname\u001b[0m\u001b[0;34m]\u001b[0m \u001b[0;34m=\u001b[0m \u001b[0mvalue\u001b[0m \u001b[0;31m# Avoid loops by using dict key\u001b[0m\u001b[0;34m\u001b[0m\u001b[0m\n",
        "\u001b[0;31mPrivateExc\u001b[0m: ('name', <__main__.Test2 instance at 0x10718a290>)"
       ]
      }
     ],
     "prompt_number": 130
    },
    {
     "cell_type": "code",
     "collapsed": false,
     "input": [
      "print x.name"
     ],
     "language": "python",
     "metadata": {},
     "outputs": [
      {
       "output_type": "stream",
       "stream": "stdout",
       "text": [
        "Bob\n"
       ]
      }
     ],
     "prompt_number": 131
    },
    {
     "cell_type": "code",
     "collapsed": false,
     "input": [
      "y.age = 30 # works"
     ],
     "language": "python",
     "metadata": {},
     "outputs": [],
     "prompt_number": 132
    },
    {
     "cell_type": "code",
     "collapsed": false,
     "input": [
      "x.age = 40 # fails"
     ],
     "language": "python",
     "metadata": {},
     "outputs": [
      {
       "ename": "PrivateExc",
       "evalue": "('age', <__main__.Test1 instance at 0x10718a4d0>)",
       "output_type": "pyerr",
       "traceback": [
        "\u001b[0;31m---------------------------------------------------------------------------\u001b[0m\n\u001b[0;31mPrivateExc\u001b[0m                                Traceback (most recent call last)",
        "\u001b[0;32m<ipython-input-133-957199b28516>\u001b[0m in \u001b[0;36m<module>\u001b[0;34m()\u001b[0m\n\u001b[0;32m----> 1\u001b[0;31m \u001b[0mx\u001b[0m\u001b[0;34m.\u001b[0m\u001b[0mage\u001b[0m \u001b[0;34m=\u001b[0m \u001b[0;36m40\u001b[0m \u001b[0;31m# fails\u001b[0m\u001b[0;34m\u001b[0m\u001b[0m\n\u001b[0m",
        "\u001b[0;32m<ipython-input-127-150fced42960>\u001b[0m in \u001b[0;36m__setattr__\u001b[0;34m(self, attrname, value)\u001b[0m\n\u001b[1;32m      2\u001b[0m     \u001b[0;32mdef\u001b[0m \u001b[0m__setattr__\u001b[0m\u001b[0;34m(\u001b[0m\u001b[0mself\u001b[0m\u001b[0;34m,\u001b[0m \u001b[0mattrname\u001b[0m\u001b[0;34m,\u001b[0m \u001b[0mvalue\u001b[0m\u001b[0;34m)\u001b[0m\u001b[0;34m:\u001b[0m \u001b[0;31m# On self.attrname = value\u001b[0m\u001b[0;34m\u001b[0m\u001b[0m\n\u001b[1;32m      3\u001b[0m         \u001b[0;32mif\u001b[0m \u001b[0mattrname\u001b[0m \u001b[0;32min\u001b[0m \u001b[0mself\u001b[0m\u001b[0;34m.\u001b[0m\u001b[0mprivates\u001b[0m\u001b[0;34m:\u001b[0m\u001b[0;34m\u001b[0m\u001b[0m\n\u001b[0;32m----> 4\u001b[0;31m             \u001b[0;32mraise\u001b[0m \u001b[0mPrivateExc\u001b[0m\u001b[0;34m(\u001b[0m\u001b[0mattrname\u001b[0m\u001b[0;34m,\u001b[0m \u001b[0mself\u001b[0m\u001b[0;34m)\u001b[0m \u001b[0;31m# Make, raise user-define except\u001b[0m\u001b[0;34m\u001b[0m\u001b[0m\n\u001b[0m\u001b[1;32m      5\u001b[0m         \u001b[0;32melse\u001b[0m\u001b[0;34m:\u001b[0m\u001b[0;34m\u001b[0m\u001b[0m\n\u001b[1;32m      6\u001b[0m             \u001b[0mself\u001b[0m\u001b[0;34m.\u001b[0m\u001b[0m__dict__\u001b[0m\u001b[0;34m[\u001b[0m\u001b[0mattrname\u001b[0m\u001b[0;34m]\u001b[0m \u001b[0;34m=\u001b[0m \u001b[0mvalue\u001b[0m \u001b[0;31m# Avoid loops by using dict key\u001b[0m\u001b[0;34m\u001b[0m\u001b[0m\n",
        "\u001b[0;31mPrivateExc\u001b[0m: ('age', <__main__.Test1 instance at 0x10718a4d0>)"
       ]
      }
     ],
     "prompt_number": 133
    },
    {
     "cell_type": "code",
     "collapsed": false,
     "input": [
      "print y.age"
     ],
     "language": "python",
     "metadata": {},
     "outputs": [
      {
       "output_type": "stream",
       "stream": "stdout",
       "text": [
        "30\n"
       ]
      }
     ],
     "prompt_number": 134
    },
    {
     "cell_type": "heading",
     "level": 2,
     "metadata": {},
     "source": [
      "String Representations: __repr__ and __str__"
     ]
    },
    {
     "cell_type": "code",
     "collapsed": false,
     "input": [
      "class adder:\n",
      "    def __init__(self, value = 0):\n",
      "        self.data = value # Initialize data\n",
      "    def __add__(self, other):\n",
      "        self.data += other # Add other in place"
     ],
     "language": "python",
     "metadata": {},
     "outputs": [],
     "prompt_number": 135
    },
    {
     "cell_type": "code",
     "collapsed": false,
     "input": [
      "x = adder() # default displays"
     ],
     "language": "python",
     "metadata": {},
     "outputs": [],
     "prompt_number": 136
    },
    {
     "cell_type": "code",
     "collapsed": false,
     "input": [
      "print x"
     ],
     "language": "python",
     "metadata": {},
     "outputs": [
      {
       "output_type": "stream",
       "stream": "stdout",
       "text": [
        "<__main__.adder instance at 0x10718a878>\n"
       ]
      }
     ],
     "prompt_number": 137
    },
    {
     "cell_type": "code",
     "collapsed": false,
     "input": [
      "x"
     ],
     "language": "python",
     "metadata": {},
     "outputs": [
      {
       "metadata": {},
       "output_type": "pyout",
       "prompt_number": 138,
       "text": [
        "<__main__.adder instance at 0x10718a878>"
       ]
      }
     ],
     "prompt_number": 138
    },
    {
     "cell_type": "markdown",
     "metadata": {},
     "source": [
      "But coding or inheriting string representation methods allows us to customize the display."
     ]
    },
    {
     "cell_type": "code",
     "collapsed": false,
     "input": [
      "class addrepr(adder): # Inherit __init__, __add__\n",
      "    def __repr__(self): # Add string representation\n",
      "        return 'addrepr(%s)' % self.data # convert to as code string"
     ],
     "language": "python",
     "metadata": {},
     "outputs": [],
     "prompt_number": 139
    },
    {
     "cell_type": "code",
     "collapsed": false,
     "input": [
      "x = addrepr(2) # runs __init__"
     ],
     "language": "python",
     "metadata": {},
     "outputs": [],
     "prompt_number": 140
    },
    {
     "cell_type": "code",
     "collapsed": false,
     "input": [
      "x + 1 # runs __add__"
     ],
     "language": "python",
     "metadata": {},
     "outputs": [],
     "prompt_number": 141
    },
    {
     "cell_type": "code",
     "collapsed": false,
     "input": [
      "x # runs __repr__"
     ],
     "language": "python",
     "metadata": {},
     "outputs": [
      {
       "metadata": {},
       "output_type": "pyout",
       "prompt_number": 143,
       "text": [
        "addrepr(3)"
       ]
      }
     ],
     "prompt_number": 143
    },
    {
     "cell_type": "code",
     "collapsed": false,
     "input": [
      "print x"
     ],
     "language": "python",
     "metadata": {},
     "outputs": [
      {
       "output_type": "stream",
       "stream": "stdout",
       "text": [
        "addrepr(3)\n"
       ]
      }
     ],
     "prompt_number": 144
    },
    {
     "cell_type": "code",
     "collapsed": false,
     "input": [
      "str(x), repr(x) # runs __repr__ for both"
     ],
     "language": "python",
     "metadata": {},
     "outputs": [
      {
       "metadata": {},
       "output_type": "pyout",
       "prompt_number": 145,
       "text": [
        "('addrepr(3)', 'addrepr(3)')"
       ]
      }
     ],
     "prompt_number": 145
    },
    {
     "cell_type": "heading",
     "level": 1,
     "metadata": {},
     "source": [
      "Chapter 31: Designing with Classes"
     ]
    },
    {
     "cell_type": "heading",
     "level": 2,
     "metadata": {},
     "source": [
      "OOP and Inheritance: \"Is-a\" Relationship"
     ]
    },
    {
     "cell_type": "code",
     "collapsed": false,
     "input": [
      "class Employee:\n",
      "    def __init__(self, name, salary=0):\n",
      "        self.name = name\n",
      "        self.salary = salary\n",
      "    def giveRaise(self, percent):\n",
      "        self.salary = self.salary + (self.salary * percent)\n",
      "    def work(self):\n",
      "        print self.name, \"does stuff\"\n",
      "    def __repr__(self):\n",
      "        return \"<Employee: name = %s, salary = %s\" %(self.name, self.salary)\n",
      "    \n",
      "class Chef(Employee):\n",
      "    def __init__(self, name):\n",
      "        Employee.__init__(self, name, 50000)\n",
      "    def work(self):\n",
      "        print self.name, \"makes food\"\n",
      "        \n",
      "class Server(Employee):\n",
      "    def __init__(self, name):\n",
      "        Employee.__init__(self, name, 40000)\n",
      "    def work(self):\n",
      "        print self.name, \"interfaces with customer\"\n",
      "        \n",
      "class PizzaRobot(Chef):\n",
      "    def __init__(self, name):\n",
      "        Chef.__init__(self, name)\n",
      "    def work(self):\n",
      "        print self.name, \"makes pizza\""
     ],
     "language": "python",
     "metadata": {},
     "outputs": [],
     "prompt_number": 2
    },
    {
     "cell_type": "code",
     "collapsed": false,
     "input": [
      "bob = PizzaRobot('bob') # make a robot names bob"
     ],
     "language": "python",
     "metadata": {},
     "outputs": [],
     "prompt_number": 3
    },
    {
     "cell_type": "code",
     "collapsed": false,
     "input": [
      "print bob # Run inherited __repr__"
     ],
     "language": "python",
     "metadata": {},
     "outputs": [
      {
       "output_type": "stream",
       "stream": "stdout",
       "text": [
        "<Employee: name = bob, salary = 50000\n"
       ]
      }
     ],
     "prompt_number": 4
    },
    {
     "cell_type": "code",
     "collapsed": false,
     "input": [
      "bob.work() # Run type specific action"
     ],
     "language": "python",
     "metadata": {},
     "outputs": [
      {
       "output_type": "stream",
       "stream": "stdout",
       "text": [
        "bob makes pizza\n"
       ]
      }
     ],
     "prompt_number": 6
    },
    {
     "cell_type": "code",
     "collapsed": false,
     "input": [
      "bob.giveRaise(.20) # Give Bob a 20% raise"
     ],
     "language": "python",
     "metadata": {},
     "outputs": [],
     "prompt_number": 7
    },
    {
     "cell_type": "code",
     "collapsed": false,
     "input": [
      "print bob"
     ],
     "language": "python",
     "metadata": {},
     "outputs": [
      {
       "output_type": "stream",
       "stream": "stdout",
       "text": [
        "<Employee: name = bob, salary = 60000.0\n"
       ]
      }
     ],
     "prompt_number": 8
    },
    {
     "cell_type": "code",
     "collapsed": false,
     "input": [
      "for klass in Employee, Chef, Server, PizzaRobot:\n",
      "    obj = klass(klass.__name__)\n",
      "    obj.work()"
     ],
     "language": "python",
     "metadata": {},
     "outputs": [
      {
       "output_type": "stream",
       "stream": "stdout",
       "text": [
        "Employee does stuff\n",
        "Chef makes food\n",
        "Server interfaces with customer\n",
        "PizzaRobot makes pizza\n"
       ]
      }
     ],
     "prompt_number": 10
    },
    {
     "cell_type": "heading",
     "level": 2,
     "metadata": {},
     "source": [
      "OOP and Composition: \"Has-a\" Relationship"
     ]
    },
    {
     "cell_type": "code",
     "collapsed": false,
     "input": [
      "class Customer:\n",
      "    def __init__(self, name):\n",
      "        self.name = name\n",
      "    def order(self, server):\n",
      "        print self.name, \"orders from\", server\n",
      "    def pay(self, server):\n",
      "        print self.name, \"pays for item to\", server\n",
      "\n",
      "class Oven:\n",
      "    def bake(self):\n",
      "        print \"oven bakes\"\n",
      "        \n",
      "class PizzaShop:\n",
      "    def __init__(self):\n",
      "        self.server = Server('Pat') # Embed other objects\n",
      "        self.chef = PizzaRobot('Bob') # A robot named bob\n",
      "        self.oven = Oven()\n",
      "    def order(self, name):\n",
      "        customer = Customer(name) # Activate other objects\n",
      "        customer.order(self.server) # Customer orders from server\n",
      "        self.chef.work()\n",
      "        self.oven.bake()\n",
      "        customer.pay(self.server)"
     ],
     "language": "python",
     "metadata": {},
     "outputs": [],
     "prompt_number": 11
    },
    {
     "cell_type": "code",
     "collapsed": false,
     "input": [
      "scene = PizzaShop() # Make the composite\n",
      "scene.order('Homer') # Simulate Homer's order"
     ],
     "language": "python",
     "metadata": {},
     "outputs": [
      {
       "output_type": "stream",
       "stream": "stdout",
       "text": [
        "Homer orders from <Employee: name = Pat, salary = 40000\n",
        "Bob makes pizza\n",
        "oven bakes\n",
        "Homer pays for item to <Employee: name = Pat, salary = 40000\n"
       ]
      }
     ],
     "prompt_number": 12
    },
    {
     "cell_type": "heading",
     "level": 2,
     "metadata": {},
     "source": [
      "OOP and Delegation: \"Wrapper\" Proxy Objects"
     ]
    },
    {
     "cell_type": "code",
     "collapsed": false,
     "input": [
      "class Wrapper:\n",
      "    def __init__(self, object):\n",
      "        self.wrapped = object # Save object\n",
      "    def __getattr__(self, attrname):\n",
      "        print 'Trace: ' + attrname # Trace fetch\n",
      "        return getattr(self.wrapped, attrname) "
     ],
     "language": "python",
     "metadata": {},
     "outputs": [],
     "prompt_number": 13
    },
    {
     "cell_type": "code",
     "collapsed": false,
     "input": [
      "x = Wrapper([1, 2, 3]) # wrap a list"
     ],
     "language": "python",
     "metadata": {},
     "outputs": [],
     "prompt_number": 14
    },
    {
     "cell_type": "code",
     "collapsed": false,
     "input": [
      "x.append(4) # delegate to list method"
     ],
     "language": "python",
     "metadata": {},
     "outputs": [
      {
       "output_type": "stream",
       "stream": "stdout",
       "text": [
        "Trace: append\n"
       ]
      }
     ],
     "prompt_number": 23
    },
    {
     "cell_type": "code",
     "collapsed": false,
     "input": [
      "x.wrapped # print my member"
     ],
     "language": "python",
     "metadata": {},
     "outputs": [
      {
       "metadata": {},
       "output_type": "pyout",
       "prompt_number": 24,
       "text": [
        "[1, 2, 3, 4]"
       ]
      }
     ],
     "prompt_number": 24
    },
    {
     "cell_type": "heading",
     "level": 2,
     "metadata": {},
     "source": [
      "Methods Are Objects: Bound or Unbound"
     ]
    },
    {
     "cell_type": "code",
     "collapsed": false,
     "input": [
      "class Spam:\n",
      "    def doit(self, message):\n",
      "        print message"
     ],
     "language": "python",
     "metadata": {},
     "outputs": [],
     "prompt_number": 25
    },
    {
     "cell_type": "code",
     "collapsed": false,
     "input": [
      "object1 = Spam()"
     ],
     "language": "python",
     "metadata": {},
     "outputs": [],
     "prompt_number": 26
    },
    {
     "cell_type": "code",
     "collapsed": false,
     "input": [
      "object1.doit('hello world')"
     ],
     "language": "python",
     "metadata": {},
     "outputs": [
      {
       "output_type": "stream",
       "stream": "stdout",
       "text": [
        "hello world\n"
       ]
      }
     ],
     "prompt_number": 27
    },
    {
     "cell_type": "code",
     "collapsed": false,
     "input": [
      "object1 = Spam()\n",
      "x = object1.doit # Bound method object: instance + function\n",
      "x('hello world') # Same effect as object1.doit('...')"
     ],
     "language": "python",
     "metadata": {},
     "outputs": [
      {
       "output_type": "stream",
       "stream": "stdout",
       "text": [
        "hello world\n"
       ]
      }
     ],
     "prompt_number": 28
    },
    {
     "cell_type": "code",
     "collapsed": false,
     "input": [
      "object1 = Spam()\n",
      "t = Spam.doit # Unbound method object\n",
      "t(object1, 'howdy') # Pass in insatance"
     ],
     "language": "python",
     "metadata": {},
     "outputs": [
      {
       "output_type": "stream",
       "stream": "stdout",
       "text": [
        "howdy\n"
       ]
      }
     ],
     "prompt_number": 29
    },
    {
     "cell_type": "code",
     "collapsed": false,
     "input": [
      "class Eggs:\n",
      "    def m1(self, n):\n",
      "        print n\n",
      "    def m2(self):\n",
      "        x = self.m1 # Another bound method object\n",
      "        x(42) # Looks like a simple function"
     ],
     "language": "python",
     "metadata": {},
     "outputs": [],
     "prompt_number": 30
    },
    {
     "cell_type": "code",
     "collapsed": false,
     "input": [
      "Eggs().m2()"
     ],
     "language": "python",
     "metadata": {},
     "outputs": [
      {
       "output_type": "stream",
       "stream": "stdout",
       "text": [
        "42\n"
       ]
      }
     ],
     "prompt_number": 31
    },
    {
     "cell_type": "heading",
     "level": 2,
     "metadata": {},
     "source": [
      "Bound Methods and Other Callable Objects"
     ]
    },
    {
     "cell_type": "code",
     "collapsed": false,
     "input": [
      "class Number:\n",
      "    def __init__(self, base):\n",
      "        self.base = base\n",
      "    def double(self):\n",
      "        return self.base * 2\n",
      "    def triple(self):\n",
      "        return self.base * 3"
     ],
     "language": "python",
     "metadata": {},
     "outputs": [],
     "prompt_number": 32
    },
    {
     "cell_type": "code",
     "collapsed": false,
     "input": [
      "x = Number(2) # class instance objects\n",
      "y = Number(3) # state + methods\n",
      "z = Number(4)"
     ],
     "language": "python",
     "metadata": {},
     "outputs": [],
     "prompt_number": 33
    },
    {
     "cell_type": "code",
     "collapsed": false,
     "input": [
      "x.double() # Normal immediate calls"
     ],
     "language": "python",
     "metadata": {},
     "outputs": [
      {
       "metadata": {},
       "output_type": "pyout",
       "prompt_number": 34,
       "text": [
        "4"
       ]
      }
     ],
     "prompt_number": 34
    },
    {
     "cell_type": "code",
     "collapsed": false,
     "input": [
      "acts = [x.double, y.double, y.triple, z.double] # List of bound methods"
     ],
     "language": "python",
     "metadata": {},
     "outputs": [],
     "prompt_number": 35
    },
    {
     "cell_type": "code",
     "collapsed": false,
     "input": [
      "for act in acts: # Calls are deferred\n",
      "    print act() # calls as though functions"
     ],
     "language": "python",
     "metadata": {},
     "outputs": [
      {
       "output_type": "stream",
       "stream": "stdout",
       "text": [
        "4\n",
        "6\n",
        "9\n",
        "8\n"
       ]
      }
     ],
     "prompt_number": 36
    },
    {
     "cell_type": "heading",
     "level": 2,
     "metadata": {},
     "source": [
      "Classes are Objects: Generic Object Factories"
     ]
    },
    {
     "cell_type": "code",
     "collapsed": false,
     "input": [
      "def factory(aClass, *pargs, **kargs): # Varargs tuple, dict\n",
      "    return aClass(*pargs, **kargs) # Call aClass\n",
      "\n",
      "class Spam:\n",
      "    def doit(self, message):\n",
      "        print message\n",
      "        \n",
      "class Person:\n",
      "    def __init__(self, name, job=None):\n",
      "        self.name = name\n",
      "        self.job = job"
     ],
     "language": "python",
     "metadata": {},
     "outputs": [],
     "prompt_number": 38
    },
    {
     "cell_type": "code",
     "collapsed": false,
     "input": [
      "object1 = factory(Spam) # Make a Spam object"
     ],
     "language": "python",
     "metadata": {},
     "outputs": [],
     "prompt_number": 39
    },
    {
     "cell_type": "code",
     "collapsed": false,
     "input": [
      "object2 = factory(Person, \"Arthur\", \"King\") # make a person object"
     ],
     "language": "python",
     "metadata": {},
     "outputs": [],
     "prompt_number": 40
    },
    {
     "cell_type": "code",
     "collapsed": false,
     "input": [
      "object3 = factory(Person, name = 'Brian') # ditto, with keywords and default"
     ],
     "language": "python",
     "metadata": {},
     "outputs": [],
     "prompt_number": 41
    },
    {
     "cell_type": "code",
     "collapsed": false,
     "input": [
      "object1.doit(99)"
     ],
     "language": "python",
     "metadata": {},
     "outputs": [
      {
       "output_type": "stream",
       "stream": "stdout",
       "text": [
        "99\n"
       ]
      }
     ],
     "prompt_number": 42
    },
    {
     "cell_type": "code",
     "collapsed": false,
     "input": [
      "object2.name, object2.job"
     ],
     "language": "python",
     "metadata": {},
     "outputs": [
      {
       "metadata": {},
       "output_type": "pyout",
       "prompt_number": 43,
       "text": [
        "('Arthur', 'King')"
       ]
      }
     ],
     "prompt_number": 43
    },
    {
     "cell_type": "code",
     "collapsed": false,
     "input": [
      "object3.name, object3.job"
     ],
     "language": "python",
     "metadata": {},
     "outputs": [
      {
       "metadata": {},
       "output_type": "pyout",
       "prompt_number": 44,
       "text": [
        "('Brian', None)"
       ]
      }
     ],
     "prompt_number": 44
    }
   ],
   "metadata": {}
  }
 ]
}