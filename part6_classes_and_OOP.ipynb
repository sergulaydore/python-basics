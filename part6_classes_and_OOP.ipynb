{
 "metadata": {
  "name": "",
  "signature": "sha256:9e66f9400dab0b952ab99425b30b39827dfb6e0e58e3f8b76182ccb99a55be1c"
 },
 "nbformat": 3,
 "nbformat_minor": 0,
 "worksheets": [
  {
   "cells": [
    {
     "cell_type": "heading",
     "level": 1,
     "metadata": {},
     "source": [
      "Chapter 26: OOP: The Big Picture"
     ]
    },
    {
     "cell_type": "markdown",
     "metadata": {},
     "source": [
      "OOP is mostly about an argument named self, and a search for attributes in trees of linked objects called inheritance. Objects at the bottom of the tree inheirt attributes from objects higher up in the tree."
     ]
    },
    {
     "cell_type": "code",
     "collapsed": false,
     "input": [],
     "language": "python",
     "metadata": {},
     "outputs": []
    }
   ],
   "metadata": {}
  }
 ]
}