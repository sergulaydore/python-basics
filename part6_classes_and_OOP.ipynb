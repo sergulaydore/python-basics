{
 "metadata": {
  "name": "",
  "signature": "sha256:f829cf6d003f9e8ee0075b09e591dbb0322d8c1159af8ead36aac703927c3c1e"
 },
 "nbformat": 3,
 "nbformat_minor": 0,
 "worksheets": [
  {
   "cells": [
    {
     "cell_type": "heading",
     "level": 1,
     "metadata": {},
     "source": [
      "Chapter 26: OOP: The Big Picture"
     ]
    },
    {
     "cell_type": "markdown",
     "metadata": {},
     "source": [
      "OOP is mostly about an argument named self, and a search for attributes in trees of linked objects called inheritance. Objects at the bottom of the tree inheirt attributes from objects higher up in the tree."
     ]
    },
    {
     "cell_type": "heading",
     "level": 1,
     "metadata": {},
     "source": [
      "Chapter 27: Class Coding Basics"
     ]
    },
    {
     "cell_type": "code",
     "collapsed": false,
     "input": [
      "class FirstClass:             # Define a class object\n",
      "    def setdata(self, value): # Define class's methods\n",
      "        self.data = value     # self is the instance\n",
      "    def display(self):\n",
      "        print(self.data)      # self.data: per instance"
     ],
     "language": "python",
     "metadata": {},
     "outputs": [],
     "prompt_number": 1
    },
    {
     "cell_type": "code",
     "collapsed": false,
     "input": [
      "x =  FirstClass()     # Make two instances\n",
      "y = FirstClass()      # Each is a new namespace"
     ],
     "language": "python",
     "metadata": {},
     "outputs": [],
     "prompt_number": 2
    },
    {
     "cell_type": "code",
     "collapsed": false,
     "input": [
      "x.setdata('King Arthur')     # Call methods: self is x\n",
      "y.setdata(3.14159)           # Runs: FirstClass.setdata(y, 3.14159)"
     ],
     "language": "python",
     "metadata": {},
     "outputs": [],
     "prompt_number": 3
    },
    {
     "cell_type": "code",
     "collapsed": false,
     "input": [
      "x.display()  # self.data differs in each instance"
     ],
     "language": "python",
     "metadata": {},
     "outputs": [
      {
       "output_type": "stream",
       "stream": "stdout",
       "text": [
        "King Arthur\n"
       ]
      }
     ],
     "prompt_number": 4
    },
    {
     "cell_type": "code",
     "collapsed": false,
     "input": [
      "y.display()  # Runs: FirstClass.display(y)"
     ],
     "language": "python",
     "metadata": {},
     "outputs": [
      {
       "output_type": "stream",
       "stream": "stdout",
       "text": [
        "3.14159\n"
       ]
      }
     ],
     "prompt_number": 5
    },
    {
     "cell_type": "code",
     "collapsed": false,
     "input": [
      "x.anothername = 'spam' # Can set new attributes"
     ],
     "language": "python",
     "metadata": {},
     "outputs": [],
     "prompt_number": 6
    },
    {
     "cell_type": "markdown",
     "metadata": {},
     "source": [
      "In Python, instances inherit from classes, and classes inherit from super classes."
     ]
    },
    {
     "cell_type": "markdown",
     "metadata": {},
     "source": [
      "The class that inherits is usually called a subclass, and the class that is inherited from is its superclass."
     ]
    },
    {
     "cell_type": "code",
     "collapsed": false,
     "input": [
      "class SecondClass(FirstClass):           # Inherits setdata\n",
      "    def display(self):                   # Changes display\n",
      "        print 'Current value = %s' %self.data "
     ],
     "language": "python",
     "metadata": {},
     "outputs": [],
     "prompt_number": 7
    },
    {
     "cell_type": "code",
     "collapsed": false,
     "input": [
      "z =  SecondClass()\n",
      "z.setdata(42)      # Finds setdata in FirstClass\n",
      "z.display()        # Fins overridden method in SecondClass"
     ],
     "language": "python",
     "metadata": {},
     "outputs": [
      {
       "output_type": "stream",
       "stream": "stdout",
       "text": [
        "Current value = 42\n"
       ]
      }
     ],
     "prompt_number": 8
    },
    {
     "cell_type": "markdown",
     "metadata": {},
     "source": [
      "Overloading lets objects coded with class intercept and respond to operations that work ob built-in types: addition, slicing, printing, qualification, and so on."
     ]
    },
    {
     "cell_type": "code",
     "collapsed": false,
     "input": [
      "class ThirdClass(SecondClass):      # Inherit from SecondClass\n",
      "    def __init__(self, value):      # On \"ThirdClass(value)\"\n",
      "        self.data = value\n",
      "    def __add__(self, other):       # On \"self + other\"\n",
      "        return ThirdClass(self.data + other)\n",
      "    def __str__(self):              # On \"print(self)\", \"str()\"\n",
      "        return '[ThirdClass: %s]'%self.data\n",
      "    def mul(self, other):           # In-place change: named\n",
      "        self.data *= other"
     ],
     "language": "python",
     "metadata": {},
     "outputs": [],
     "prompt_number": 10
    },
    {
     "cell_type": "code",
     "collapsed": false,
     "input": [
      "a = ThirdClass('abc') # __init__ called"
     ],
     "language": "python",
     "metadata": {},
     "outputs": [],
     "prompt_number": 12
    },
    {
     "cell_type": "code",
     "collapsed": false,
     "input": [
      "a.display()           # Inherited method called"
     ],
     "language": "python",
     "metadata": {},
     "outputs": [
      {
       "output_type": "stream",
       "stream": "stdout",
       "text": [
        "Current value = abc\n"
       ]
      }
     ],
     "prompt_number": 13
    },
    {
     "cell_type": "code",
     "collapsed": false,
     "input": [
      "print(a)   # __str__:returns display string"
     ],
     "language": "python",
     "metadata": {},
     "outputs": [
      {
       "output_type": "stream",
       "stream": "stdout",
       "text": [
        "[ThirdClass: abc]\n"
       ]
      }
     ],
     "prompt_number": 14
    },
    {
     "cell_type": "code",
     "collapsed": false,
     "input": [
      "b = a + 'xyz' #__add__: makes a new instance"
     ],
     "language": "python",
     "metadata": {},
     "outputs": [],
     "prompt_number": 15
    },
    {
     "cell_type": "code",
     "collapsed": false,
     "input": [
      "b.display() # b has all ThirdClass methods"
     ],
     "language": "python",
     "metadata": {},
     "outputs": [
      {
       "output_type": "stream",
       "stream": "stdout",
       "text": [
        "Current value = abcxyz\n"
       ]
      }
     ],
     "prompt_number": 16
    },
    {
     "cell_type": "code",
     "collapsed": false,
     "input": [
      "print(b) #__str__: returns display string"
     ],
     "language": "python",
     "metadata": {},
     "outputs": [
      {
       "output_type": "stream",
       "stream": "stdout",
       "text": [
        "[ThirdClass: abcxyz]\n"
       ]
      }
     ],
     "prompt_number": 17
    },
    {
     "cell_type": "code",
     "collapsed": false,
     "input": [
      "a.mul(3) # changes instance in place"
     ],
     "language": "python",
     "metadata": {},
     "outputs": [],
     "prompt_number": 18
    },
    {
     "cell_type": "code",
     "collapsed": false,
     "input": [
      "print(a)"
     ],
     "language": "python",
     "metadata": {},
     "outputs": [
      {
       "output_type": "stream",
       "stream": "stdout",
       "text": [
        "[ThirdClass: abcabcabc]\n"
       ]
      }
     ],
     "prompt_number": 19
    },
    {
     "cell_type": "heading",
     "level": 3,
     "metadata": {},
     "source": [
      "Example for Inheritance:"
     ]
    },
    {
     "cell_type": "code",
     "collapsed": false,
     "input": [
      "class rec: pass # Empty namespace object"
     ],
     "language": "python",
     "metadata": {},
     "outputs": [],
     "prompt_number": 22
    },
    {
     "cell_type": "code",
     "collapsed": false,
     "input": [
      "rec.name = 'Bob' # Just objects with attributes\n",
      "rec.age = 40"
     ],
     "language": "python",
     "metadata": {},
     "outputs": [],
     "prompt_number": 23
    },
    {
     "cell_type": "code",
     "collapsed": false,
     "input": [
      "print(rec.name)"
     ],
     "language": "python",
     "metadata": {},
     "outputs": [
      {
       "output_type": "stream",
       "stream": "stdout",
       "text": [
        "Bob\n"
       ]
      }
     ],
     "prompt_number": 24
    },
    {
     "cell_type": "markdown",
     "metadata": {},
     "source": [
      "Watch what happens when we create two instances, though"
     ]
    },
    {
     "cell_type": "code",
     "collapsed": false,
     "input": [
      "x = rec()   # Instances inherit class names\n",
      "y = rec()"
     ],
     "language": "python",
     "metadata": {},
     "outputs": [],
     "prompt_number": 25
    },
    {
     "cell_type": "markdown",
     "metadata": {},
     "source": [
      "Because they remember the class from which they were made, though, they will obtain the attributes we attached to the class by inheritance:"
     ]
    },
    {
     "cell_type": "code",
     "collapsed": false,
     "input": [
      "x.name, y.name  # name is stored on the class only"
     ],
     "language": "python",
     "metadata": {},
     "outputs": [
      {
       "metadata": {},
       "output_type": "pyout",
       "prompt_number": 26,
       "text": [
        "('Bob', 'Bob')"
       ]
      }
     ],
     "prompt_number": 26
    },
    {
     "cell_type": "markdown",
     "metadata": {},
     "source": [
      "__dict__ literally is an isntance's attribute namespace"
     ]
    },
    {
     "cell_type": "code",
     "collapsed": false,
     "input": [
      "list(rec.__dict__.keys())"
     ],
     "language": "python",
     "metadata": {},
     "outputs": [
      {
       "metadata": {},
       "output_type": "pyout",
       "prompt_number": 27,
       "text": [
        "['age', '__module__', '__doc__', 'name']"
       ]
      }
     ],
     "prompt_number": 27
    },
    {
     "cell_type": "code",
     "collapsed": false,
     "input": [
      "list(x.__dict__.keys())"
     ],
     "language": "python",
     "metadata": {},
     "outputs": [
      {
       "metadata": {},
       "output_type": "pyout",
       "prompt_number": 28,
       "text": [
        "[]"
       ]
      }
     ],
     "prompt_number": 28
    },
    {
     "cell_type": "code",
     "collapsed": false,
     "input": [
      "x.name='Sergul'"
     ],
     "language": "python",
     "metadata": {},
     "outputs": [],
     "prompt_number": 29
    },
    {
     "cell_type": "code",
     "collapsed": false,
     "input": [
      "list(x.__dict__.keys())"
     ],
     "language": "python",
     "metadata": {},
     "outputs": [
      {
       "metadata": {},
       "output_type": "pyout",
       "prompt_number": 30,
       "text": [
        "['name']"
       ]
      }
     ],
     "prompt_number": 30
    },
    {
     "cell_type": "code",
     "collapsed": false,
     "input": [
      "x.__class__ # Instance to class link"
     ],
     "language": "python",
     "metadata": {},
     "outputs": [
      {
       "metadata": {},
       "output_type": "pyout",
       "prompt_number": 31,
       "text": [
        "__main__.rec"
       ]
      }
     ],
     "prompt_number": 31
    },
    {
     "cell_type": "code",
     "collapsed": false,
     "input": [
      "rec.__bases__ "
     ],
     "language": "python",
     "metadata": {},
     "outputs": [
      {
       "metadata": {},
       "output_type": "pyout",
       "prompt_number": 32,
       "text": [
        "()"
       ]
      }
     ],
     "prompt_number": 32
    },
    {
     "cell_type": "heading",
     "level": 1,
     "metadata": {},
     "source": [
      "Chapter 28: A More Realistic Example"
     ]
    },
    {
     "cell_type": "code",
     "collapsed": false,
     "input": [
      "# person.py\n",
      "class Person:  # Start a class ClassName(object):\n",
      "\t\"\"\"docstring for ClassName\"\"\"\n",
      "\tdef __init__(self, name, job=None, pay=0):         # Constructor takes three arguments\n",
      "\t\tself.name = name                               # Fill out fileds when created\n",
      "\t\tself.job = job                                 # self is the new instance object\n",
      "\t\tself.pay = pay   \n",
      "\tdef lastName(self):\t\t\t\t\t\t\t\t   # Behavior methods\n",
      "\t\treturn self.name.split()[-1]\t\t\t\t   # self is implied subject\n",
      "\tdef giveRaise(self, percent):\n",
      "\t\tself.pay = int(self.pay * (1+percent))\t\n",
      "\tdef __repr__(self):                                # Added method\n",
      "\t\treturn '[Person: %s, %s]' % (self.name, self.pay)  # String to point\t\t\n",
      "\n",
      "class Manager(Person):       # Define a subclass of a person\n",
      "\tdef __init__(self, name, pay): # Redefine constructor\n",
      "\t\tPerson.__init__(self, name, 'mgr', pay) # Run original with 'mgr' \n",
      "\tdef giveRaise(self, percent, bonus=.10):  # redefine to customize\n",
      "\t\t# self.pay = int(self.pay * (1+ percent + bonus)) # bad way\n",
      "\t\tPerson.giveRaise(self, percent + bonus) # good: augmented original\n",
      "\n",
      "class Department:\n",
      "\tdef __init__(self, *args):\n",
      "\t\tself.members = list(args)\n",
      "\tdef addMember(self, person):\n",
      "\t\tself.members.append(person)\n",
      "\tdef giveRaises(self, percent):\n",
      "\t\tfor person in self.members:\n",
      "\t\t\tperson.giveRaise(percent)\n",
      "\tdef showAll(self):\n",
      "\t\tfor person in self.members:\n",
      "\t\t\tprint person \n",
      "if __name__ == '__main__':                             # When run for testing only             \n",
      "\t\tbob = Person('Bob Smith')                              # Test the class\n",
      "\t\tsue = Person('Sue Jones', job = 'dev', pay = 100000)   # Runs __init__ automatically\n",
      "\t\t# print(bob.name, bob.pay)                               # Fetch attached attributes\n",
      "\t\t# print(sue.name, sue.pay)                               # sue's and bob's attrs differ\n",
      "\t\t# print(bob.lastName(), sue.lastName())                  # Use the new methods\n",
      "\t\t# sue.giveRaise(.10)                                     # instead of hardcoding\n",
      "\t\t# print(sue.pay) \n",
      "\t\t# print(sue)\n",
      "\t\ttom = Manager('Tom Jones', 50000) # Make a manager: __init__ # Job name not needed\n",
      "\t\t# tom.giveRaise(.10) # Runs custom version\n",
      "\t\t# print tom.lastName() # runs inherited method\n",
      "\t\t# print tom # runs inherited __repr__\n",
      "\n",
      "\t\t# \"\"\" Polymorphism in action \"\"\"\n",
      "\t\t# print '---All three---'\n",
      "\t\t# for obj in (bob, sue, tom): # Process pbjects generically\n",
      "\t\t# \tobj.giveRaise(.10) # Run this object's giveRaise\n",
      "\t\t# \tprint obj # Run the common __repr__\n",
      "\t\tdevelopment = Department(bob, sue) # Embed ojects in a composite\n",
      "\t\tdevelopment.addMember(tom)\n",
      "\t\tdevelopment.giveRaises(.10) # Runs embedded objects' giveRaise\n",
      "\t\tdevelopment.showAll() # Runs embedded objects' __repr__"
     ],
     "language": "python",
     "metadata": {},
     "outputs": []
    },
    {
     "cell_type": "code",
     "collapsed": false,
     "input": [
      "from person import Person"
     ],
     "language": "python",
     "metadata": {},
     "outputs": [],
     "prompt_number": 1
    },
    {
     "cell_type": "code",
     "collapsed": false,
     "input": [
      "bob = Person('Bob Smith')"
     ],
     "language": "python",
     "metadata": {},
     "outputs": [],
     "prompt_number": 2
    },
    {
     "cell_type": "code",
     "collapsed": false,
     "input": [
      "bob # show bob's __repr__ (not __str__)"
     ],
     "language": "python",
     "metadata": {},
     "outputs": [
      {
       "metadata": {},
       "output_type": "pyout",
       "prompt_number": 3,
       "text": [
        "[Person: Bob Smith, 0]"
       ]
      }
     ],
     "prompt_number": 3
    },
    {
     "cell_type": "code",
     "collapsed": false,
     "input": [
      "print bob # Ditto: print => __str__ or __repr__"
     ],
     "language": "python",
     "metadata": {},
     "outputs": [
      {
       "output_type": "stream",
       "stream": "stdout",
       "text": [
        "[Person: Bob Smith, 0]\n"
       ]
      }
     ],
     "prompt_number": 4
    },
    {
     "cell_type": "code",
     "collapsed": false,
     "input": [
      "bob.__class__ # Show bob's class and its name"
     ],
     "language": "python",
     "metadata": {},
     "outputs": [
      {
       "metadata": {},
       "output_type": "pyout",
       "prompt_number": 5,
       "text": [
        "person.Person"
       ]
      }
     ],
     "prompt_number": 5
    },
    {
     "cell_type": "code",
     "collapsed": false,
     "input": [
      "bob.__class__.__name__"
     ],
     "language": "python",
     "metadata": {},
     "outputs": [
      {
       "metadata": {},
       "output_type": "pyout",
       "prompt_number": 6,
       "text": [
        "'Person'"
       ]
      }
     ],
     "prompt_number": 6
    },
    {
     "cell_type": "code",
     "collapsed": false,
     "input": [
      "bob.__dict__.keys() # Attributes are really dict keys"
     ],
     "language": "python",
     "metadata": {},
     "outputs": [
      {
       "metadata": {},
       "output_type": "pyout",
       "prompt_number": 7,
       "text": [
        "['pay', 'job', 'name']"
       ]
      }
     ],
     "prompt_number": 7
    },
    {
     "cell_type": "code",
     "collapsed": false,
     "input": [
      "for key in bob.__dict__:\n",
      "    print key , '=>', bob.__dict__[key] # Index manually"
     ],
     "language": "python",
     "metadata": {},
     "outputs": [
      {
       "output_type": "stream",
       "stream": "stdout",
       "text": [
        "pay => 0\n",
        "job => None\n",
        "name => Bob Smith\n"
       ]
      }
     ],
     "prompt_number": 8
    },
    {
     "cell_type": "code",
     "collapsed": false,
     "input": [
      "for key in bob.__dict__:\n",
      "    print key, '=>', getattr(bob, key) # obj.attr, but attr is a var"
     ],
     "language": "python",
     "metadata": {},
     "outputs": [
      {
       "output_type": "stream",
       "stream": "stdout",
       "text": [
        "pay => 0\n",
        "job => None\n",
        "name => Bob Smith\n"
       ]
      }
     ],
     "prompt_number": 9
    },
    {
     "cell_type": "code",
     "collapsed": false,
     "input": [
      "# classtools.py\n",
      "\"\"\" Assorted class utilities and tools \"\"\"\n",
      "class AttrDisplay:\n",
      "\t\"\"\"\n",
      "\tProvides an inheritable display overload method that shows\n",
      "\tinstances with their class names and a name = value pair for\n",
      "\teach attribute stored on the instance itself (but not attrts\n",
      "\tinherited from its classes). Can be mixed into any class,\n",
      "\tand will work on any instance.\n",
      "\t\"\"\"\n",
      "\tdef gatherAttrs(self):\n",
      "\t\tattrs = []\n",
      "\t\tfor key in sorted(self.__dict__):\n",
      "\t\t\tattrs.append('%s=%s' % (key, getattr(self, key)))\n",
      "\t\treturn ', '.join(attrs)\n",
      "\n",
      "\tdef __repr__(self):\n",
      "\t\treturn  '[%s: %s]' % (self.__class__.__name__, self.gatherAttrs())\n",
      "\n",
      "if __name__ == '__main__':\n",
      "\n",
      "\tclass TopTest(AttrDisplay):\n",
      "\t\tcount = 0\n",
      "\t\tdef __init__(self):\n",
      "\t\t\tself.attr1 = TopTest.count\n",
      "\t\t\tself.attr2 = TopTest.count + 1\n",
      "\t\t\tTopTest.count += 2\n",
      "\n",
      "\tclass SubTest(TopTest):\n",
      "\t\tpass\n",
      "\n",
      "\tX, Y = TopTest(), SubTest() # Make two instances\n",
      "\tprint X # Show all instance attributes\n",
      "\tprint Y # SHow lowest class name "
     ],
     "language": "python",
     "metadata": {},
     "outputs": []
    },
    {
     "cell_type": "code",
     "collapsed": false,
     "input": [
      "bob.__dict__.keys() # Instance attrs only"
     ],
     "language": "python",
     "metadata": {},
     "outputs": [
      {
       "metadata": {},
       "output_type": "pyout",
       "prompt_number": 10,
       "text": [
        "['pay', 'job', 'name']"
       ]
      }
     ],
     "prompt_number": 10
    },
    {
     "cell_type": "code",
     "collapsed": false,
     "input": [
      "dir(bob) # Plus inherited attrs in classes"
     ],
     "language": "python",
     "metadata": {},
     "outputs": [
      {
       "metadata": {},
       "output_type": "pyout",
       "prompt_number": 12,
       "text": [
        "['__doc__',\n",
        " '__init__',\n",
        " '__module__',\n",
        " '__repr__',\n",
        " 'giveRaise',\n",
        " 'job',\n",
        " 'lastName',\n",
        " 'name',\n",
        " 'pay']"
       ]
      }
     ],
     "prompt_number": 12
    },
    {
     "cell_type": "code",
     "collapsed": false,
     "input": [
      "\"\"\"\n",
      "Record and process information about people.\n",
      "Run this file directly to test its classes.\n",
      "\"\"\"\n",
      "\n",
      "from classtools import AttrDisplay # Use generic display tool\n",
      "\n",
      "class Person(AttrDisplay):  # Start a class ClassName(object):\n",
      "\t\"\"\"Create and process person records\"\"\"\n",
      "\tdef __init__(self, name, job=None, pay=0):         # Constructor takes three arguments\n",
      "\t\tself.name = name                               # Fill out fileds when created\n",
      "\t\tself.job = job                                 # self is the new instance object\n",
      "\t\tself.pay = pay   \n",
      "\tdef lastName(self):\t\t\t\t\t\t\t\t   # Behavior methods\n",
      "\t\treturn self.name.split()[-1]\t\t\t\t   # self is implied subject\n",
      "\tdef giveRaise(self, percent):\n",
      "\t\tself.pay = int(self.pay * (1+percent))\t\n",
      "\t# def __repr__(self):                                # Added method\n",
      "\t# \treturn '[Person: %s, %s]' % (self.name, self.pay)  # String to point\t\t\n",
      "\n",
      "class Manager(Person):       # Define a subclass of a person\n",
      "\tdef __init__(self, name, pay): # Redefine constructor\n",
      "\t\tPerson.__init__(self, name, 'mgr', pay) # Run original with 'mgr' \n",
      "\tdef giveRaise(self, percent, bonus=.10):  # redefine to customize\n",
      "\t\t# self.pay = int(self.pay * (1+ percent + bonus)) # bad way\n",
      "\t\tPerson.giveRaise(self, percent + bonus) # good: augmented original\n",
      "\n",
      "\n",
      "if __name__ == '__main__':                             # When run for testing only             \n",
      "\t\tbob = Person('Bob Smith')                              # Test the class\n",
      "\t\tsue = Person('Sue Jones', job = 'dev', pay = 100000)   # Runs __init__ automatically\n",
      "\t\tprint bob\n",
      "\t\tprint sue\n",
      "\t\tprint bob.lastName(), sue.lastName()\n",
      "\t\tsue.giveRaise(.10)\n",
      "\t\tprint sue\n",
      "\t\ttom = Manager('Tom Jones', 50000) # Make a manager: __init__ # Job name not needed\n",
      "\t\ttom.giveRaise(.10) # Runs custom version\n",
      "\t\tprint tom.lastName() # runs inherited method\n",
      "\t\tprint tom # runs inherited __repr__"
     ],
     "language": "python",
     "metadata": {},
     "outputs": []
    },
    {
     "cell_type": "heading",
     "level": 5,
     "metadata": {},
     "source": [
      "Storing Objects on a Shelve Database"
     ]
    },
    {
     "cell_type": "code",
     "collapsed": false,
     "input": [
      "from person import Person, Manager  # Loas our classes\n",
      "bob = Person('Bob Smith') # Re-create objects to be stored\n",
      "sue = Person('Sue Jones', job='dev', pay=100000)\n",
      "tom = Manager('Tom Jones', 50000)\n",
      "\n",
      "import shelve\n",
      "db = shelve.open('persondb')  # Filename where objects are stored\n",
      "for obj in (bob, sue, tom):  # Use object's name attr as key\n",
      "\tdb[obj.name] = obj       # Store object on shelve by key\n",
      "db.close()                   # close after making changes"
     ],
     "language": "python",
     "metadata": {},
     "outputs": []
    },
    {
     "cell_type": "code",
     "collapsed": false,
     "input": [
      "import shelve"
     ],
     "language": "python",
     "metadata": {},
     "outputs": [],
     "prompt_number": 13
    },
    {
     "cell_type": "code",
     "collapsed": false,
     "input": [
      "db = shelve.open('persondb') # Reopen the shelve"
     ],
     "language": "python",
     "metadata": {},
     "outputs": [],
     "prompt_number": 14
    },
    {
     "cell_type": "code",
     "collapsed": false,
     "input": [
      "len(db)"
     ],
     "language": "python",
     "metadata": {},
     "outputs": [
      {
       "metadata": {},
       "output_type": "pyout",
       "prompt_number": 15,
       "text": [
        "3"
       ]
      }
     ],
     "prompt_number": 15
    },
    {
     "cell_type": "code",
     "collapsed": false,
     "input": [
      "db.keys()"
     ],
     "language": "python",
     "metadata": {},
     "outputs": [
      {
       "metadata": {},
       "output_type": "pyout",
       "prompt_number": 16,
       "text": [
        "['Bob Smith', 'Sue Jones', 'Tom Jones']"
       ]
      }
     ],
     "prompt_number": 16
    },
    {
     "cell_type": "code",
     "collapsed": false,
     "input": [
      "bob = db['Bob Smith']"
     ],
     "language": "python",
     "metadata": {},
     "outputs": [],
     "prompt_number": 17
    },
    {
     "cell_type": "code",
     "collapsed": false,
     "input": [
      "bob"
     ],
     "language": "python",
     "metadata": {},
     "outputs": [
      {
       "metadata": {},
       "output_type": "pyout",
       "prompt_number": 18,
       "text": [
        "[Person: Bob Smith, 0]"
       ]
      }
     ],
     "prompt_number": 18
    },
    {
     "cell_type": "heading",
     "level": 1,
     "metadata": {},
     "source": [
      "Chapter 29: Class Coding Details"
     ]
    },
    {
     "cell_type": "code",
     "collapsed": false,
     "input": [
      "class SharedData:\n",
      "    spam = 42 # Generates a class data attribute"
     ],
     "language": "python",
     "metadata": {},
     "outputs": [],
     "prompt_number": 1
    },
    {
     "cell_type": "code",
     "collapsed": false,
     "input": [
      "x = SharedData() # Make two instances"
     ],
     "language": "python",
     "metadata": {},
     "outputs": [],
     "prompt_number": 2
    },
    {
     "cell_type": "code",
     "collapsed": false,
     "input": [
      "y = SharedData()"
     ],
     "language": "python",
     "metadata": {},
     "outputs": [],
     "prompt_number": 3
    },
    {
     "cell_type": "code",
     "collapsed": false,
     "input": [
      "x.spam, y.spam # They inherit and share 'spam'"
     ],
     "language": "python",
     "metadata": {},
     "outputs": [
      {
       "metadata": {},
       "output_type": "pyout",
       "prompt_number": 4,
       "text": [
        "(42, 42)"
       ]
      }
     ],
     "prompt_number": 4
    },
    {
     "cell_type": "markdown",
     "metadata": {},
     "source": [
      "We can change it by going through the class name, and we can refer to it through either instances or the class."
     ]
    },
    {
     "cell_type": "code",
     "collapsed": false,
     "input": [
      "SharedData.spam = 99"
     ],
     "language": "python",
     "metadata": {},
     "outputs": [],
     "prompt_number": 7
    },
    {
     "cell_type": "code",
     "collapsed": false,
     "input": [
      "x.spam, y.spam, SharedData.spam"
     ],
     "language": "python",
     "metadata": {},
     "outputs": [
      {
       "metadata": {},
       "output_type": "pyout",
       "prompt_number": 8,
       "text": [
        "(99, 99, 99)"
       ]
      }
     ],
     "prompt_number": 8
    },
    {
     "cell_type": "markdown",
     "metadata": {},
     "source": [
      "Now, watch what happens if we assign the name spam through an instance instead of the class:"
     ]
    },
    {
     "cell_type": "code",
     "collapsed": false,
     "input": [
      "x.spam = 88"
     ],
     "language": "python",
     "metadata": {},
     "outputs": [],
     "prompt_number": 9
    },
    {
     "cell_type": "code",
     "collapsed": false,
     "input": [
      "x.spam, y.spam, SharedData.spam"
     ],
     "language": "python",
     "metadata": {},
     "outputs": [
      {
       "metadata": {},
       "output_type": "pyout",
       "prompt_number": 10,
       "text": [
        "(88, 99, 99)"
       ]
      }
     ],
     "prompt_number": 10
    },
    {
     "cell_type": "markdown",
     "metadata": {},
     "source": [
      "More comprehensive example of this behavior"
     ]
    },
    {
     "cell_type": "code",
     "collapsed": false,
     "input": [
      "class MixedNames: # Define class\n",
      "    data = 'spam' # Assign a class attribute\n",
      "    def __init__(self, value): # Assign method name\n",
      "        self.data = value   # Assign instance attr\n",
      "    def display(self):\n",
      "        print self.data, MixedNames.data # Instance attr, class attr"
     ],
     "language": "python",
     "metadata": {},
     "outputs": [],
     "prompt_number": 11
    },
    {
     "cell_type": "code",
     "collapsed": false,
     "input": [
      "x = MixedNames(1) # Make two instance objects"
     ],
     "language": "python",
     "metadata": {},
     "outputs": [],
     "prompt_number": 12
    },
    {
     "cell_type": "code",
     "collapsed": false,
     "input": [
      "y = MixedNames(2) # Each has its own data"
     ],
     "language": "python",
     "metadata": {},
     "outputs": [],
     "prompt_number": 13
    },
    {
     "cell_type": "code",
     "collapsed": false,
     "input": [
      "x.display(); y.display() # self.data differs, MizedNames.data is the same"
     ],
     "language": "python",
     "metadata": {},
     "outputs": [
      {
       "output_type": "stream",
       "stream": "stdout",
       "text": [
        "1 spam\n",
        "2 spam\n"
       ]
      }
     ],
     "prompt_number": 16
    },
    {
     "cell_type": "heading",
     "level": 5,
     "metadata": {},
     "source": [
      "Method Example"
     ]
    },
    {
     "cell_type": "code",
     "collapsed": false,
     "input": [
      "class NextClass: # Define class\n",
      "    def printer(self, text): # Define method\n",
      "        self.message = text # Change instance\n",
      "        print self.message # Access instance"
     ],
     "language": "python",
     "metadata": {},
     "outputs": [],
     "prompt_number": 23
    },
    {
     "cell_type": "code",
     "collapsed": false,
     "input": [
      "x = NextClass() # Make instance"
     ],
     "language": "python",
     "metadata": {},
     "outputs": [],
     "prompt_number": 24
    },
    {
     "cell_type": "code",
     "collapsed": false,
     "input": [
      "x.printer('instance call') # call its method"
     ],
     "language": "python",
     "metadata": {},
     "outputs": [
      {
       "output_type": "stream",
       "stream": "stdout",
       "text": [
        "instance call\n"
       ]
      }
     ],
     "prompt_number": 25
    },
    {
     "cell_type": "code",
     "collapsed": false,
     "input": [
      "x.message # instance changed"
     ],
     "language": "python",
     "metadata": {},
     "outputs": [
      {
       "metadata": {},
       "output_type": "pyout",
       "prompt_number": 26,
       "text": [
        "'instance call'"
       ]
      }
     ],
     "prompt_number": 26
    },
    {
     "cell_type": "markdown",
     "metadata": {},
     "source": [
      "We can also call printer by going through the class name, provided we pass an instance to the self argument explicitly:"
     ]
    },
    {
     "cell_type": "code",
     "collapsed": false,
     "input": [
      "NextClass.printer(x, 'class call') # Direct class call"
     ],
     "language": "python",
     "metadata": {},
     "outputs": [
      {
       "output_type": "stream",
       "stream": "stdout",
       "text": [
        "class call\n"
       ]
      }
     ],
     "prompt_number": 27
    },
    {
     "cell_type": "code",
     "collapsed": false,
     "input": [
      "x.message # Instance changed again"
     ],
     "language": "python",
     "metadata": {},
     "outputs": [
      {
       "metadata": {},
       "output_type": "pyout",
       "prompt_number": 28,
       "text": [
        "'class call'"
       ]
      }
     ],
     "prompt_number": 28
    },
    {
     "cell_type": "markdown",
     "metadata": {},
     "source": [
      "By default, in fact, you get an error message if you try to call a method without any instance:"
     ]
    },
    {
     "cell_type": "code",
     "collapsed": false,
     "input": [
      "NextClass.printer('bad call')"
     ],
     "language": "python",
     "metadata": {},
     "outputs": [
      {
       "ename": "TypeError",
       "evalue": "unbound method printer() must be called with NextClass instance as first argument (got str instance instead)",
       "output_type": "pyerr",
       "traceback": [
        "\u001b[0;31m---------------------------------------------------------------------------\u001b[0m\n\u001b[0;31mTypeError\u001b[0m                                 Traceback (most recent call last)",
        "\u001b[0;32m<ipython-input-45-de7676183ba5>\u001b[0m in \u001b[0;36m<module>\u001b[0;34m()\u001b[0m\n\u001b[0;32m----> 1\u001b[0;31m \u001b[0mNextClass\u001b[0m\u001b[0;34m.\u001b[0m\u001b[0mprinter\u001b[0m\u001b[0;34m(\u001b[0m\u001b[0;34m'bad call'\u001b[0m\u001b[0;34m)\u001b[0m\u001b[0;34m\u001b[0m\u001b[0m\n\u001b[0m",
        "\u001b[0;31mTypeError\u001b[0m: unbound method printer() must be called with NextClass instance as first argument (got str instance instead)"
       ]
      }
     ],
     "prompt_number": 45
    },
    {
     "cell_type": "heading",
     "level": 5,
     "metadata": {},
     "source": [
      "Specializing Inherited Methods"
     ]
    },
    {
     "cell_type": "code",
     "collapsed": false,
     "input": [
      "class Super:\n",
      "    def method(self):\n",
      "        print 'in Super.method'"
     ],
     "language": "python",
     "metadata": {},
     "outputs": [],
     "prompt_number": 31
    },
    {
     "cell_type": "code",
     "collapsed": false,
     "input": [
      "class Sub(Super):\n",
      "    def method(self): # Override method\n",
      "        print ('starting Sub.method') # Add actions here\n",
      "        Super.method(self) # Run default action\n",
      "        print 'ending Sub.method'"
     ],
     "language": "python",
     "metadata": {},
     "outputs": [],
     "prompt_number": 32
    },
    {
     "cell_type": "code",
     "collapsed": false,
     "input": [
      "x = Super() # Make a Super instance"
     ],
     "language": "python",
     "metadata": {},
     "outputs": [],
     "prompt_number": 33
    },
    {
     "cell_type": "code",
     "collapsed": false,
     "input": [
      "x.method() # Runs Super.method"
     ],
     "language": "python",
     "metadata": {},
     "outputs": [
      {
       "output_type": "stream",
       "stream": "stdout",
       "text": [
        "in Super.method\n"
       ]
      }
     ],
     "prompt_number": 34
    },
    {
     "cell_type": "code",
     "collapsed": false,
     "input": [
      "x = Sub() # Make a Sub instance"
     ],
     "language": "python",
     "metadata": {},
     "outputs": [],
     "prompt_number": 35
    },
    {
     "cell_type": "code",
     "collapsed": false,
     "input": [
      "x.method() # Runs Sub.method, calls Super.method"
     ],
     "language": "python",
     "metadata": {},
     "outputs": [
      {
       "output_type": "stream",
       "stream": "stdout",
       "text": [
        "starting Sub.method\n",
        "in Super.method\n",
        "ending Sub.method\n"
       ]
      }
     ],
     "prompt_number": 36
    },
    {
     "cell_type": "heading",
     "level": 5,
     "metadata": {},
     "source": [
      "Class Interface Techniques"
     ]
    },
    {
     "cell_type": "code",
     "collapsed": false,
     "input": [
      "class Super:\n",
      "    def method(self):\n",
      "        print 'in Super.method' # Default behavior\n",
      "    def delegate(self):\n",
      "        self.action() # Expected to be defined\n",
      "        \n",
      "class Inheritor(Super): # Inherit method verbatim\n",
      "    pass\n",
      "\n",
      "class Replacer(Super): # Replace method completely\n",
      "    def method(self):\n",
      "        print 'in Replacer.method'\n",
      "        \n",
      "class Extender(Super): # Extend methid behavior\n",
      "    def method(self):\n",
      "        print 'starting Extender.method'\n",
      "        Super.method(self)\n",
      "        print 'ending Extender.method'\n",
      "        \n",
      "class Provider(Super): # Fill in a required method\n",
      "    def action(self):\n",
      "        print 'in Provider.action'"
     ],
     "language": "python",
     "metadata": {},
     "outputs": [],
     "prompt_number": 37
    },
    {
     "cell_type": "code",
     "collapsed": false,
     "input": [
      "for klass in (Inheritor, Replacer, Extender):\n",
      "    print '\\n' + klass.__name__ + '...'\n",
      "    klass().method()"
     ],
     "language": "python",
     "metadata": {},
     "outputs": [
      {
       "output_type": "stream",
       "stream": "stdout",
       "text": [
        "\n",
        "Inheritor...\n",
        "in Super.method\n",
        "\n",
        "Replacer...\n",
        "in Replacer.method\n",
        "\n",
        "Extender...\n",
        "starting Extender.method\n",
        "in Super.method\n",
        "ending Extender.method\n"
       ]
      }
     ],
     "prompt_number": 43
    },
    {
     "cell_type": "code",
     "collapsed": false,
     "input": [
      "print '\\nProvider ...'\n",
      "x = Provider()\n",
      "x.delegate()"
     ],
     "language": "python",
     "metadata": {},
     "outputs": [
      {
       "output_type": "stream",
       "stream": "stdout",
       "text": [
        "\n",
        "Provider ...\n",
        "in Provider.action\n"
       ]
      }
     ],
     "prompt_number": 47
    },
    {
     "cell_type": "heading",
     "level": 5,
     "metadata": {},
     "source": [
      "Namespace Dictionaries: Review"
     ]
    },
    {
     "cell_type": "code",
     "collapsed": false,
     "input": [
      "class Super:\n",
      "    def hello(self):\n",
      "        self.data1 = 'spam'"
     ],
     "language": "python",
     "metadata": {},
     "outputs": [],
     "prompt_number": 49
    },
    {
     "cell_type": "code",
     "collapsed": false,
     "input": [
      "class Sub(Super):\n",
      "    def hola(self):\n",
      "        self.data2 = 'eggs'"
     ],
     "language": "python",
     "metadata": {},
     "outputs": [],
     "prompt_number": 50
    },
    {
     "cell_type": "code",
     "collapsed": false,
     "input": [
      "X = Sub()"
     ],
     "language": "python",
     "metadata": {},
     "outputs": [],
     "prompt_number": 51
    },
    {
     "cell_type": "code",
     "collapsed": false,
     "input": [
      "X.__dict__ # Instance namespece dict"
     ],
     "language": "python",
     "metadata": {},
     "outputs": [
      {
       "metadata": {},
       "output_type": "pyout",
       "prompt_number": 52,
       "text": [
        "{}"
       ]
      }
     ],
     "prompt_number": 52
    },
    {
     "cell_type": "code",
     "collapsed": false,
     "input": [
      "X.__class__ # Class of instance"
     ],
     "language": "python",
     "metadata": {},
     "outputs": [
      {
       "metadata": {},
       "output_type": "pyout",
       "prompt_number": 53,
       "text": [
        "__main__.Sub"
       ]
      }
     ],
     "prompt_number": 53
    },
    {
     "cell_type": "code",
     "collapsed": false,
     "input": [
      "Sub.__bases__ # Superclasses of class"
     ],
     "language": "python",
     "metadata": {},
     "outputs": [
      {
       "metadata": {},
       "output_type": "pyout",
       "prompt_number": 54,
       "text": [
        "(__main__.Super,)"
       ]
      }
     ],
     "prompt_number": 54
    },
    {
     "cell_type": "code",
     "collapsed": false,
     "input": [
      "Super.__bases__"
     ],
     "language": "python",
     "metadata": {},
     "outputs": [
      {
       "metadata": {},
       "output_type": "pyout",
       "prompt_number": 55,
       "text": [
        "()"
       ]
      }
     ],
     "prompt_number": 55
    },
    {
     "cell_type": "code",
     "collapsed": false,
     "input": [
      "Y = Sub()"
     ],
     "language": "python",
     "metadata": {},
     "outputs": [],
     "prompt_number": 56
    },
    {
     "cell_type": "code",
     "collapsed": false,
     "input": [
      "X.hello()"
     ],
     "language": "python",
     "metadata": {},
     "outputs": [],
     "prompt_number": 57
    },
    {
     "cell_type": "code",
     "collapsed": false,
     "input": [
      "X.__dict__"
     ],
     "language": "python",
     "metadata": {},
     "outputs": [
      {
       "metadata": {},
       "output_type": "pyout",
       "prompt_number": 59,
       "text": [
        "{'data1': 'spam'}"
       ]
      }
     ],
     "prompt_number": 59
    },
    {
     "cell_type": "code",
     "collapsed": false,
     "input": [
      "X.hola()"
     ],
     "language": "python",
     "metadata": {},
     "outputs": [],
     "prompt_number": 60
    },
    {
     "cell_type": "code",
     "collapsed": false,
     "input": [
      "X.__dict__"
     ],
     "language": "python",
     "metadata": {},
     "outputs": [
      {
       "metadata": {},
       "output_type": "pyout",
       "prompt_number": 61,
       "text": [
        "{'data1': 'spam', 'data2': 'eggs'}"
       ]
      }
     ],
     "prompt_number": 61
    },
    {
     "cell_type": "code",
     "collapsed": false,
     "input": [
      "Sub.__dict__.keys()"
     ],
     "language": "python",
     "metadata": {},
     "outputs": [
      {
       "metadata": {},
       "output_type": "pyout",
       "prompt_number": 62,
       "text": [
        "['__module__', '__doc__', 'hola']"
       ]
      }
     ],
     "prompt_number": 62
    },
    {
     "cell_type": "code",
     "collapsed": false,
     "input": [
      "Super.__dict__.keys()"
     ],
     "language": "python",
     "metadata": {},
     "outputs": [
      {
       "metadata": {},
       "output_type": "pyout",
       "prompt_number": 63,
       "text": [
        "['__module__', 'hello', '__doc__']"
       ]
      }
     ],
     "prompt_number": 63
    },
    {
     "cell_type": "code",
     "collapsed": false,
     "input": [
      "Y.__dict__"
     ],
     "language": "python",
     "metadata": {},
     "outputs": [
      {
       "metadata": {},
       "output_type": "pyout",
       "prompt_number": 64,
       "text": [
        "{}"
       ]
      }
     ],
     "prompt_number": 64
    },
    {
     "cell_type": "code",
     "collapsed": false,
     "input": [
      "X.data1, X.__dict__['data1']"
     ],
     "language": "python",
     "metadata": {},
     "outputs": [
      {
       "metadata": {},
       "output_type": "pyout",
       "prompt_number": 65,
       "text": [
        "('spam', 'spam')"
       ]
      }
     ],
     "prompt_number": 65
    },
    {
     "cell_type": "code",
     "collapsed": false,
     "input": [
      "X.data3 = 'toast'"
     ],
     "language": "python",
     "metadata": {},
     "outputs": [],
     "prompt_number": 66
    },
    {
     "cell_type": "code",
     "collapsed": false,
     "input": [
      "X.__dict__"
     ],
     "language": "python",
     "metadata": {},
     "outputs": [
      {
       "metadata": {},
       "output_type": "pyout",
       "prompt_number": 67,
       "text": [
        "{'data1': 'spam', 'data2': 'eggs', 'data3': 'toast'}"
       ]
      }
     ],
     "prompt_number": 67
    },
    {
     "cell_type": "code",
     "collapsed": false,
     "input": [
      "X.__dict__['data3'] = 'ham'"
     ],
     "language": "python",
     "metadata": {},
     "outputs": [],
     "prompt_number": 68
    },
    {
     "cell_type": "code",
     "collapsed": false,
     "input": [
      "X.data3"
     ],
     "language": "python",
     "metadata": {},
     "outputs": [
      {
       "metadata": {},
       "output_type": "pyout",
       "prompt_number": 69,
       "text": [
        "'ham'"
       ]
      }
     ],
     "prompt_number": 69
    },
    {
     "cell_type": "code",
     "collapsed": false,
     "input": [
      "dir(X)"
     ],
     "language": "python",
     "metadata": {},
     "outputs": [
      {
       "metadata": {},
       "output_type": "pyout",
       "prompt_number": 70,
       "text": [
        "['__doc__', '__module__', 'data1', 'data2', 'data3', 'hello', 'hola']"
       ]
      }
     ],
     "prompt_number": 70
    },
    {
     "cell_type": "code",
     "collapsed": false,
     "input": [],
     "language": "python",
     "metadata": {},
     "outputs": []
    }
   ],
   "metadata": {}
  }
 ]
}