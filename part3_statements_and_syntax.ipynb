{
 "metadata": {
  "name": "",
  "signature": "sha256:9436bc0b0c5ae0711b47e334dd1f4b47c59c3e63c6b811bb4b44a179b9977dbd"
 },
 "nbformat": 3,
 "nbformat_minor": 0,
 "worksheets": [
  {
   "cells": [
    {
     "cell_type": "heading",
     "level": 1,
     "metadata": {},
     "source": [
      "Chapter 10 -  Introducing Python Statements"
     ]
    },
    {
     "cell_type": "code",
     "collapsed": false,
     "input": [
      "a=1; b=2; print a+b # Three statements on one line"
     ],
     "language": "python",
     "metadata": {},
     "outputs": [
      {
       "output_type": "stream",
       "stream": "stdout",
       "text": [
        "3\n"
       ]
      }
     ],
     "prompt_number": 1
    },
    {
     "cell_type": "code",
     "collapsed": false,
     "input": [
      "mylist=[111,\n",
      "        222,\n",
      "        333]"
     ],
     "language": "python",
     "metadata": {},
     "outputs": [],
     "prompt_number": 2
    },
    {
     "cell_type": "code",
     "collapsed": false,
     "input": [
      "X=(A+B+\n",
      "   C+D)"
     ],
     "language": "python",
     "metadata": {},
     "outputs": []
    },
    {
     "cell_type": "code",
     "collapsed": false,
     "input": [
      "if (A==1 and\n",
      "    B==2 and\n",
      "    C==3):\n",
      "        print 'spam'*3"
     ],
     "language": "python",
     "metadata": {},
     "outputs": []
    },
    {
     "cell_type": "heading",
     "level": 3,
     "metadata": {},
     "source": [
      "A simple interactive loop"
     ]
    },
    {
     "cell_type": "code",
     "collapsed": false,
     "input": [
      "while True:\n",
      "    reply = raw_input('Enter text:')\n",
      "    if reply=='stop': break\n",
      "    print reply.upper()"
     ],
     "language": "python",
     "metadata": {},
     "outputs": [
      {
       "name": "stdout",
       "output_type": "stream",
       "stream": "stdout",
       "text": [
        "Enter text:hell\n"
       ]
      },
      {
       "output_type": "stream",
       "stream": "stdout",
       "text": [
        "HELL\n"
       ]
      },
      {
       "name": "stdout",
       "output_type": "stream",
       "stream": "stdout",
       "text": [
        "Enter text:wtf\n"
       ]
      },
      {
       "output_type": "stream",
       "stream": "stdout",
       "text": [
        "WTF\n"
       ]
      },
      {
       "name": "stdout",
       "output_type": "stream",
       "stream": "stdout",
       "text": [
        "Enter text:stop\n"
       ]
      }
     ],
     "prompt_number": 8
    },
    {
     "cell_type": "code",
     "collapsed": false,
     "input": [
      "while True:\n",
      "    reply = raw_input('Enter text:')\n",
      "    if reply == 'stop': break\n",
      "    print int(reply)**2\n",
      "print 'Bye'    "
     ],
     "language": "python",
     "metadata": {},
     "outputs": [
      {
       "name": "stdout",
       "output_type": "stream",
       "stream": "stdout",
       "text": [
        "Enter text:6\n"
       ]
      },
      {
       "output_type": "stream",
       "stream": "stdout",
       "text": [
        "36\n"
       ]
      },
      {
       "name": "stdout",
       "output_type": "stream",
       "stream": "stdout",
       "text": [
        "Enter text:7\n"
       ]
      },
      {
       "output_type": "stream",
       "stream": "stdout",
       "text": [
        "49\n"
       ]
      },
      {
       "name": "stdout",
       "output_type": "stream",
       "stream": "stdout",
       "text": [
        "Enter text:stop\n"
       ]
      },
      {
       "output_type": "stream",
       "stream": "stdout",
       "text": [
        "Bye\n"
       ]
      }
     ],
     "prompt_number": 10
    },
    {
     "cell_type": "code",
     "collapsed": false,
     "input": [
      "S='123'"
     ],
     "language": "python",
     "metadata": {},
     "outputs": [],
     "prompt_number": 11
    },
    {
     "cell_type": "code",
     "collapsed": false,
     "input": [
      "T='xxx'"
     ],
     "language": "python",
     "metadata": {},
     "outputs": [],
     "prompt_number": 12
    },
    {
     "cell_type": "code",
     "collapsed": false,
     "input": [
      "S.isdigit(), T.isdigit()"
     ],
     "language": "python",
     "metadata": {},
     "outputs": [
      {
       "metadata": {},
       "output_type": "pyout",
       "prompt_number": 13,
       "text": [
        "(True, False)"
       ]
      }
     ],
     "prompt_number": 13
    },
    {
     "cell_type": "code",
     "collapsed": false,
     "input": [
      "while True:\n",
      "    reply = raw_input('Enter text:')\n",
      "    if reply == 'stop':\n",
      "        break\n",
      "    elif not reply.isdigit():\n",
      "        print 'Bad!'*8\n",
      "    else:\n",
      "        print int(reply)**2\n",
      "print 'Bye'"
     ],
     "language": "python",
     "metadata": {},
     "outputs": [
      {
       "name": "stdout",
       "output_type": "stream",
       "stream": "stdout",
       "text": [
        "Enter text:3\n"
       ]
      },
      {
       "output_type": "stream",
       "stream": "stdout",
       "text": [
        "9\n",
        "Bye\n"
       ]
      },
      {
       "name": "stdout",
       "output_type": "stream",
       "stream": "stdout",
       "text": [
        "Enter text:tyh\n"
       ]
      },
      {
       "output_type": "stream",
       "stream": "stdout",
       "text": [
        "Bad!Bad!Bad!Bad!Bad!Bad!Bad!Bad!\n",
        "Bye\n"
       ]
      },
      {
       "name": "stdout",
       "output_type": "stream",
       "stream": "stdout",
       "text": [
        "Enter text:stop\n"
       ]
      }
     ],
     "prompt_number": 14
    },
    {
     "cell_type": "heading",
     "level": 3,
     "metadata": {},
     "source": [
      "Handling errors with try statements"
     ]
    },
    {
     "cell_type": "code",
     "collapsed": false,
     "input": [
      "while True:\n",
      "    reply = raw_input('Enter text:')\n",
      "    if reply == 'stop': break\n",
      "    try:\n",
      "        num = int(reply)\n",
      "    except:\n",
      "        print('Bad!'*8)\n",
      "    else:\n",
      "        print num**2\n",
      "print 'Bye'        "
     ],
     "language": "python",
     "metadata": {},
     "outputs": [
      {
       "name": "stdout",
       "output_type": "stream",
       "stream": "stdout",
       "text": [
        "Enter text:3\n"
       ]
      },
      {
       "output_type": "stream",
       "stream": "stdout",
       "text": [
        "9\n"
       ]
      },
      {
       "name": "stdout",
       "output_type": "stream",
       "stream": "stdout",
       "text": [
        "Enter text:ere\n"
       ]
      },
      {
       "output_type": "stream",
       "stream": "stdout",
       "text": [
        "Bad!Bad!Bad!Bad!Bad!Bad!Bad!Bad!\n"
       ]
      },
      {
       "name": "stdout",
       "output_type": "stream",
       "stream": "stdout",
       "text": [
        "Enter text:stop\n"
       ]
      },
      {
       "output_type": "stream",
       "stream": "stdout",
       "text": [
        "Bye\n"
       ]
      }
     ],
     "prompt_number": 16
    },
    {
     "cell_type": "heading",
     "level": 5,
     "metadata": {},
     "source": [
      "this is more precise"
     ]
    },
    {
     "cell_type": "code",
     "collapsed": false,
     "input": [
      "while True:\n",
      "    reply = raw_input('Enter text')\n",
      "    if reply == 'stop': break\n",
      "    try:\n",
      "        print(int(reply)**2)\n",
      "    except:\n",
      "        print 'Bad!'*8\n",
      "print 'Bye'        "
     ],
     "language": "python",
     "metadata": {},
     "outputs": [
      {
       "name": "stdout",
       "output_type": "stream",
       "stream": "stdout",
       "text": [
        "Enter text5\n"
       ]
      },
      {
       "output_type": "stream",
       "stream": "stdout",
       "text": [
        "25\n"
       ]
      },
      {
       "name": "stdout",
       "output_type": "stream",
       "stream": "stdout",
       "text": [
        "Enter textstop\n"
       ]
      },
      {
       "output_type": "stream",
       "stream": "stdout",
       "text": [
        "Bye\n"
       ]
      }
     ],
     "prompt_number": 17
    },
    {
     "cell_type": "heading",
     "level": 1,
     "metadata": {},
     "source": [
      "Chapter 11 - Assignments, Expressions, and Prints"
     ]
    },
    {
     "cell_type": "code",
     "collapsed": false,
     "input": [
      "a=b=c='spam'"
     ],
     "language": "python",
     "metadata": {},
     "outputs": [],
     "prompt_number": 1
    },
    {
     "cell_type": "code",
     "collapsed": false,
     "input": [
      "a,b,c"
     ],
     "language": "python",
     "metadata": {},
     "outputs": [
      {
       "metadata": {},
       "output_type": "pyout",
       "prompt_number": 2,
       "text": [
        "('spam', 'spam', 'spam')"
       ]
      }
     ],
     "prompt_number": 2
    },
    {
     "cell_type": "code",
     "collapsed": false,
     "input": [
      "a=b=0"
     ],
     "language": "python",
     "metadata": {},
     "outputs": [],
     "prompt_number": 3
    },
    {
     "cell_type": "code",
     "collapsed": false,
     "input": [
      "b= b+1"
     ],
     "language": "python",
     "metadata": {},
     "outputs": [],
     "prompt_number": 4
    },
    {
     "cell_type": "code",
     "collapsed": false,
     "input": [
      "a,b"
     ],
     "language": "python",
     "metadata": {},
     "outputs": [
      {
       "metadata": {},
       "output_type": "pyout",
       "prompt_number": 5,
       "text": [
        "(0, 1)"
       ]
      }
     ],
     "prompt_number": 5
    },
    {
     "cell_type": "code",
     "collapsed": false,
     "input": [
      "a=b=[]"
     ],
     "language": "python",
     "metadata": {},
     "outputs": [],
     "prompt_number": 6
    },
    {
     "cell_type": "code",
     "collapsed": false,
     "input": [
      "b.append(42)"
     ],
     "language": "python",
     "metadata": {},
     "outputs": [],
     "prompt_number": 7
    },
    {
     "cell_type": "code",
     "collapsed": false,
     "input": [
      "a,b"
     ],
     "language": "python",
     "metadata": {},
     "outputs": [
      {
       "metadata": {},
       "output_type": "pyout",
       "prompt_number": 8,
       "text": [
        "([42], [42])"
       ]
      }
     ],
     "prompt_number": 8
    },
    {
     "cell_type": "code",
     "collapsed": false,
     "input": [
      "a,b = [], []"
     ],
     "language": "python",
     "metadata": {},
     "outputs": [],
     "prompt_number": 9
    },
    {
     "cell_type": "code",
     "collapsed": false,
     "input": [
      "b.append(42)"
     ],
     "language": "python",
     "metadata": {},
     "outputs": [],
     "prompt_number": 10
    },
    {
     "cell_type": "code",
     "collapsed": false,
     "input": [
      "a,b"
     ],
     "language": "python",
     "metadata": {},
     "outputs": [
      {
       "metadata": {},
       "output_type": "pyout",
       "prompt_number": 11,
       "text": [
        "([], [42])"
       ]
      }
     ],
     "prompt_number": 11
    },
    {
     "cell_type": "heading",
     "level": 4,
     "metadata": {},
     "source": [
      "Augmented assignment and shared references"
     ]
    },
    {
     "cell_type": "code",
     "collapsed": false,
     "input": [
      "L=[1,2]\n",
      "M=L # M and L reference the same object\n",
      "L=L+[3,4] # concatenation creates a new object\n",
      "L,M # changes L but not M"
     ],
     "language": "python",
     "metadata": {},
     "outputs": [
      {
       "metadata": {},
       "output_type": "pyout",
       "prompt_number": 12,
       "text": [
        "([1, 2, 3, 4], [1, 2])"
       ]
      }
     ],
     "prompt_number": 12
    },
    {
     "cell_type": "code",
     "collapsed": false,
     "input": [
      "L=[1,2]\n",
      "M=L\n",
      "L+=[3,4] # But += really means extend\n",
      "L,M # M sees the in-place change too!"
     ],
     "language": "python",
     "metadata": {},
     "outputs": [
      {
       "metadata": {},
       "output_type": "pyout",
       "prompt_number": 13,
       "text": [
        "([1, 2, 3, 4], [1, 2, 3, 4])"
       ]
      }
     ],
     "prompt_number": 13
    },
    {
     "cell_type": "heading",
     "level": 4,
     "metadata": {},
     "source": [
      "Python's semi-official style guide, known as PEP 8 https://www.python.org/dev/peps/pep-0008/"
     ]
    },
    {
     "cell_type": "code",
     "collapsed": false,
     "input": [
      "L=[1,2]"
     ],
     "language": "python",
     "metadata": {},
     "outputs": [],
     "prompt_number": 14
    },
    {
     "cell_type": "code",
     "collapsed": false,
     "input": [
      "L=L.append(4)"
     ],
     "language": "python",
     "metadata": {},
     "outputs": [],
     "prompt_number": 15
    },
    {
     "cell_type": "code",
     "collapsed": false,
     "input": [
      "print L"
     ],
     "language": "python",
     "metadata": {},
     "outputs": [
      {
       "output_type": "stream",
       "stream": "stdout",
       "text": [
        "None\n"
       ]
      }
     ],
     "prompt_number": 16
    },
    {
     "cell_type": "markdown",
     "metadata": {},
     "source": [
      "Calling an in-place change operation such as append, sort, or reverse on a list always changes the list in place, but these methods do not return the list they have changed; instead, they return the None object."
     ]
    },
    {
     "cell_type": "code",
     "collapsed": false,
     "input": [
      "import sys # printing the hard way\n",
      "sys.stdout.write('hello world \\n')"
     ],
     "language": "python",
     "metadata": {},
     "outputs": [
      {
       "output_type": "stream",
       "stream": "stdout",
       "text": [
        "hello world \n"
       ]
      }
     ],
     "prompt_number": 17
    },
    {
     "cell_type": "code",
     "collapsed": false,
     "input": [
      "sys.stdout"
     ],
     "language": "python",
     "metadata": {},
     "outputs": [
      {
       "metadata": {},
       "output_type": "pyout",
       "prompt_number": 18,
       "text": [
        "<IPython.kernel.zmq.iostream.OutStream at 0x103904110>"
       ]
      }
     ],
     "prompt_number": 18
    },
    {
     "cell_type": "code",
     "collapsed": false,
     "input": [
      "temp = sys.stdout"
     ],
     "language": "python",
     "metadata": {},
     "outputs": [],
     "prompt_number": 19
    },
    {
     "cell_type": "code",
     "collapsed": false,
     "input": [
      "sys.stdout = open('log.txt','a') # redirect prints to a file"
     ],
     "language": "python",
     "metadata": {},
     "outputs": [],
     "prompt_number": 20
    },
    {
     "cell_type": "code",
     "collapsed": false,
     "input": [
      "print('spam') # prints got to a file, not here"
     ],
     "language": "python",
     "metadata": {},
     "outputs": [],
     "prompt_number": 21
    },
    {
     "cell_type": "code",
     "collapsed": false,
     "input": [
      "print(1,2,3)"
     ],
     "language": "python",
     "metadata": {},
     "outputs": [],
     "prompt_number": 22
    },
    {
     "cell_type": "code",
     "collapsed": false,
     "input": [
      "sys.stdout.close() # flush output to disk"
     ],
     "language": "python",
     "metadata": {},
     "outputs": []
    },
    {
     "cell_type": "code",
     "collapsed": false,
     "input": [
      "sys.stdout=temp"
     ],
     "language": "python",
     "metadata": {},
     "outputs": [],
     "prompt_number": 24
    },
    {
     "cell_type": "code",
     "collapsed": false,
     "input": [
      "print('back here')"
     ],
     "language": "python",
     "metadata": {},
     "outputs": [
      {
       "output_type": "stream",
       "stream": "stdout",
       "text": [
        "back here\n"
       ]
      }
     ],
     "prompt_number": 25
    },
    {
     "cell_type": "code",
     "collapsed": false,
     "input": [
      "print(open(log.txt).read())"
     ],
     "language": "python",
     "metadata": {},
     "outputs": [
      {
       "ename": "NameError",
       "evalue": "name 'log' is not defined",
       "output_type": "pyerr",
       "traceback": [
        "\u001b[0;31m---------------------------------------------------------------------------\u001b[0m\n\u001b[0;31mNameError\u001b[0m                                 Traceback (most recent call last)",
        "\u001b[0;32m<ipython-input-26-0d466ee78f0f>\u001b[0m in \u001b[0;36m<module>\u001b[0;34m()\u001b[0m\n\u001b[0;32m----> 1\u001b[0;31m \u001b[0;32mprint\u001b[0m\u001b[0;34m(\u001b[0m\u001b[0mopen\u001b[0m\u001b[0;34m(\u001b[0m\u001b[0mlog\u001b[0m\u001b[0;34m.\u001b[0m\u001b[0mtxt\u001b[0m\u001b[0;34m)\u001b[0m\u001b[0;34m.\u001b[0m\u001b[0mread\u001b[0m\u001b[0;34m(\u001b[0m\u001b[0;34m)\u001b[0m\u001b[0;34m)\u001b[0m\u001b[0;34m\u001b[0m\u001b[0m\n\u001b[0m",
        "\u001b[0;31mNameError\u001b[0m: name 'log' is not defined"
       ]
      }
     ],
     "prompt_number": 26
    },
    {
     "cell_type": "code",
     "collapsed": false,
     "input": [
      "sys.stderr.write(('Bad!'*8)+'\\n')"
     ],
     "language": "python",
     "metadata": {},
     "outputs": [
      {
       "output_type": "stream",
       "stream": "stderr",
       "text": [
        "Bad!Bad!Bad!Bad!Bad!Bad!Bad!Bad!\n"
       ]
      }
     ],
     "prompt_number": 27
    },
    {
     "cell_type": "code",
     "collapsed": false,
     "input": [
      "print >> sys.stderr,'Bad!'*8"
     ],
     "language": "python",
     "metadata": {},
     "outputs": [
      {
       "output_type": "stream",
       "stream": "stderr",
       "text": [
        "Bad!Bad!Bad!Bad!Bad!Bad!Bad!Bad!\n"
       ]
      }
     ],
     "prompt_number": 28
    },
    {
     "cell_type": "heading",
     "level": 1,
     "metadata": {},
     "source": [
      "Chapter 12: if Tests and Syntax rules"
     ]
    },
    {
     "cell_type": "code",
     "collapsed": false,
     "input": [
      "x = 'killer rabbit'"
     ],
     "language": "python",
     "metadata": {},
     "outputs": [],
     "prompt_number": 1
    },
    {
     "cell_type": "code",
     "collapsed": false,
     "input": [
      "if x=='roger':\n",
      "    print 'shave and a haricut'\n",
      "elif x=='bugs':\n",
      "    print 'what\"s up doc?'\n",
      "else:\n",
      "    print 'Run away!'"
     ],
     "language": "python",
     "metadata": {},
     "outputs": [
      {
       "output_type": "stream",
       "stream": "stdout",
       "text": [
        "Run away!\n"
       ]
      }
     ],
     "prompt_number": 2
    },
    {
     "cell_type": "heading",
     "level": 5,
     "metadata": {},
     "source": [
      "A dictionary based switch"
     ]
    },
    {
     "cell_type": "code",
     "collapsed": false,
     "input": [
      "choice = 'ham'"
     ],
     "language": "python",
     "metadata": {},
     "outputs": [],
     "prompt_number": 3
    },
    {
     "cell_type": "code",
     "collapsed": false,
     "input": [
      "print({'spam': 1.25,\n",
      "       'ham': 1.99,\n",
      "       'eggs': 0.99,\n",
      "       'bacon':1.10})[choice]"
     ],
     "language": "python",
     "metadata": {},
     "outputs": [
      {
       "output_type": "stream",
       "stream": "stdout",
       "text": [
        "1.99\n"
       ]
      }
     ],
     "prompt_number": 4
    },
    {
     "cell_type": "heading",
     "level": 5,
     "metadata": {},
     "source": [
      "handling switch defaults"
     ]
    },
    {
     "cell_type": "code",
     "collapsed": false,
     "input": [
      "branch = {'spam':1.25,\n",
      "          'ham': 1.99,\n",
      "          'eggs': 0.99}"
     ],
     "language": "python",
     "metadata": {},
     "outputs": [],
     "prompt_number": 5
    },
    {
     "cell_type": "code",
     "collapsed": false,
     "input": [
      "print(branch.get('spam','Bad choice'))"
     ],
     "language": "python",
     "metadata": {},
     "outputs": [
      {
       "output_type": "stream",
       "stream": "stdout",
       "text": [
        "1.25\n"
       ]
      }
     ],
     "prompt_number": 6
    },
    {
     "cell_type": "code",
     "collapsed": false,
     "input": [
      "print(branch.get('wtf','Bad choice'))"
     ],
     "language": "python",
     "metadata": {},
     "outputs": [
      {
       "output_type": "stream",
       "stream": "stdout",
       "text": [
        "Bad choice\n"
       ]
      }
     ],
     "prompt_number": 7
    },
    {
     "cell_type": "code",
     "collapsed": false,
     "input": [
      "try:\n",
      "    print branch[choice]\n",
      "except KeyError:\n",
      "    print 'Bad choice'"
     ],
     "language": "python",
     "metadata": {},
     "outputs": [
      {
       "output_type": "stream",
       "stream": "stdout",
       "text": [
        "1.99\n"
       ]
      }
     ],
     "prompt_number": 8
    },
    {
     "cell_type": "heading",
     "level": 5,
     "metadata": {},
     "source": [
      "The if/else ternary expression"
     ]
    },
    {
     "cell_type": "code",
     "collapsed": false,
     "input": [
      "A = 't' if 'spam' else 'f'"
     ],
     "language": "python",
     "metadata": {},
     "outputs": [],
     "prompt_number": 9
    },
    {
     "cell_type": "code",
     "collapsed": false,
     "input": [
      "A"
     ],
     "language": "python",
     "metadata": {},
     "outputs": [
      {
       "metadata": {},
       "output_type": "pyout",
       "prompt_number": 10,
       "text": [
        "'t'"
       ]
      }
     ],
     "prompt_number": 10
    },
    {
     "cell_type": "code",
     "collapsed": false,
     "input": [
      "A = 't' if '' else 'f'"
     ],
     "language": "python",
     "metadata": {},
     "outputs": [],
     "prompt_number": 11
    },
    {
     "cell_type": "code",
     "collapsed": false,
     "input": [
      "A"
     ],
     "language": "python",
     "metadata": {},
     "outputs": [
      {
       "metadata": {},
       "output_type": "pyout",
       "prompt_number": 12,
       "text": [
        "'f'"
       ]
      }
     ],
     "prompt_number": 12
    },
    {
     "cell_type": "heading",
     "level": 1,
     "metadata": {},
     "source": [
      "Chapter 13: while and for loops"
     ]
    },
    {
     "cell_type": "code",
     "collapsed": false,
     "input": [
      "x = 'spam'\n",
      "while x:\n",
      "    print x,\n",
      "    x = x[1:]"
     ],
     "language": "python",
     "metadata": {},
     "outputs": [
      {
       "output_type": "stream",
       "stream": "stdout",
       "text": [
        "spam pam am m\n"
       ]
      }
     ],
     "prompt_number": 14
    },
    {
     "cell_type": "heading",
     "level": 2,
     "metadata": {},
     "source": [
      "pass "
     ]
    },
    {
     "cell_type": "code",
     "collapsed": false,
     "input": [
      "def func1():\n",
      "    pass"
     ],
     "language": "python",
     "metadata": {},
     "outputs": [],
     "prompt_number": 15
    },
    {
     "cell_type": "heading",
     "level": 2,
     "metadata": {},
     "source": [
      "continue"
     ]
    },
    {
     "cell_type": "code",
     "collapsed": false,
     "input": [
      "x = 10\n",
      "while x:\n",
      "    x = x-1\n",
      "    if x% 2 !=0: continue\n",
      "    print x,    "
     ],
     "language": "python",
     "metadata": {},
     "outputs": [
      {
       "output_type": "stream",
       "stream": "stdout",
       "text": [
        "8 6 4 2 0\n"
       ]
      }
     ],
     "prompt_number": 16
    },
    {
     "cell_type": "heading",
     "level": 2,
     "metadata": {},
     "source": [
      "break"
     ]
    },
    {
     "cell_type": "code",
     "collapsed": false,
     "input": [
      "while True:\n",
      "    name = raw_input('Enter name: ')\n",
      "    if name == 'stop': break\n",
      "    age = raw_input('Enter age: ')\n",
      "    print 'Hello,' + name + '=>', int(age)**2"
     ],
     "language": "python",
     "metadata": {},
     "outputs": [
      {
       "name": "stdout",
       "output_type": "stream",
       "stream": "stdout",
       "text": [
        "Enter name: sergul\n"
       ]
      },
      {
       "name": "stdout",
       "output_type": "stream",
       "stream": "stdout",
       "text": [
        "Enter age: 30\n"
       ]
      },
      {
       "output_type": "stream",
       "stream": "stdout",
       "text": [
        "Hello,sergul=> 900\n"
       ]
      },
      {
       "name": "stdout",
       "output_type": "stream",
       "stream": "stdout",
       "text": [
        "Enter name: paul\n"
       ]
      },
      {
       "name": "stdout",
       "output_type": "stream",
       "stream": "stdout",
       "text": [
        "Enter age: 99\n"
       ]
      },
      {
       "output_type": "stream",
       "stream": "stdout",
       "text": [
        "Hello,paul=> 9801\n"
       ]
      },
      {
       "name": "stdout",
       "output_type": "stream",
       "stream": "stdout",
       "text": [
        "Enter name: stop\n"
       ]
      }
     ],
     "prompt_number": 24
    },
    {
     "cell_type": "heading",
     "level": 2,
     "metadata": {},
     "source": [
      "Loop else"
     ]
    },
    {
     "cell_type": "code",
     "collapsed": false,
     "input": [
      "x = y // 2\n",
      "while y // 2:\n",
      "    if y % x == 0:\n",
      "        print(y, 'has factor', x)\n",
      "        break\n",
      "    x -= 1\n",
      "else:\n",
      "    print(y, 'is prime')"
     ],
     "language": "python",
     "metadata": {},
     "outputs": []
    },
    {
     "cell_type": "code",
     "collapsed": false,
     "input": [
      "x =!ls"
     ],
     "language": "python",
     "metadata": {},
     "outputs": [],
     "prompt_number": 27
    },
    {
     "cell_type": "code",
     "collapsed": false,
     "input": [
      "x"
     ],
     "language": "python",
     "metadata": {},
     "outputs": [
      {
       "metadata": {},
       "output_type": "pyout",
       "prompt_number": 30,
       "text": [
        "['Python-basics.ipynb',\n",
        " 'README.md',\n",
        " 'log.txt',\n",
        " 'part2_exercises.ipynb',\n",
        " 'part3_statements_and_syntax.ipynb']"
       ]
      }
     ],
     "prompt_number": 30
    },
    {
     "cell_type": "heading",
     "level": 2,
     "metadata": {},
     "source": [
      "for loops"
     ]
    },
    {
     "cell_type": "code",
     "collapsed": false,
     "input": [
      "T = [(1,2),(3,4),(5,6)]"
     ],
     "language": "python",
     "metadata": {},
     "outputs": [],
     "prompt_number": 31
    },
    {
     "cell_type": "code",
     "collapsed": false,
     "input": [
      "for (a,b) in T:\n",
      "    print a,b,"
     ],
     "language": "python",
     "metadata": {},
     "outputs": [
      {
       "output_type": "stream",
       "stream": "stdout",
       "text": [
        "1 2 3 4 5 6\n"
       ]
      }
     ],
     "prompt_number": 33
    },
    {
     "cell_type": "code",
     "collapsed": false,
     "input": [
      "list(xrange(4))"
     ],
     "language": "python",
     "metadata": {},
     "outputs": [
      {
       "metadata": {},
       "output_type": "pyout",
       "prompt_number": 36,
       "text": [
        "[0, 1, 2, 3]"
       ]
      }
     ],
     "prompt_number": 36
    },
    {
     "cell_type": "markdown",
     "metadata": {},
     "source": [
      "As a general rule, use for instead of while whenever possible, and don't use range calls in for loops except as a last resort."
     ]
    },
    {
     "cell_type": "code",
     "collapsed": false,
     "input": [
      "S = 'abcdefghijk'"
     ],
     "language": "python",
     "metadata": {},
     "outputs": [],
     "prompt_number": 40
    },
    {
     "cell_type": "code",
     "collapsed": false,
     "input": [
      "for i in list(xrange(0,len(S), 2)): print S[i],"
     ],
     "language": "python",
     "metadata": {},
     "outputs": [
      {
       "output_type": "stream",
       "stream": "stdout",
       "text": [
        "a c e g i k\n"
       ]
      }
     ],
     "prompt_number": 41
    },
    {
     "cell_type": "code",
     "collapsed": false,
     "input": [
      "for c in S[::2]: print c,"
     ],
     "language": "python",
     "metadata": {},
     "outputs": [
      {
       "output_type": "stream",
       "stream": "stdout",
       "text": [
        "a c e g i k\n"
       ]
      }
     ],
     "prompt_number": 42
    },
    {
     "cell_type": "markdown",
     "metadata": {},
     "source": [
      "easy to read but slicing makes a copy in memory"
     ]
    },
    {
     "cell_type": "heading",
     "level": 2,
     "metadata": {},
     "source": [
      "Parallel Traversals: zip and map"
     ]
    },
    {
     "cell_type": "code",
     "collapsed": false,
     "input": [
      "L1 = [1,2,3,4]\n",
      "L2 = [5,6,7,8]"
     ],
     "language": "python",
     "metadata": {},
     "outputs": [],
     "prompt_number": 43
    },
    {
     "cell_type": "code",
     "collapsed": false,
     "input": [
      "zip(L1,L2)"
     ],
     "language": "python",
     "metadata": {},
     "outputs": [
      {
       "metadata": {},
       "output_type": "pyout",
       "prompt_number": 44,
       "text": [
        "[(1, 5), (2, 6), (3, 7), (4, 8)]"
       ]
      }
     ],
     "prompt_number": 44
    },
    {
     "cell_type": "code",
     "collapsed": false,
     "input": [
      "for (x,y) in zip(L1, L2):\n",
      "    print x, y, '--', x+y"
     ],
     "language": "python",
     "metadata": {},
     "outputs": [
      {
       "output_type": "stream",
       "stream": "stdout",
       "text": [
        "1 5 -- 6\n",
        "2 6 -- 8\n",
        "3 7 -- 10\n",
        "4 8 -- 12\n"
       ]
      }
     ],
     "prompt_number": 45
    },
    {
     "cell_type": "heading",
     "level": 5,
     "metadata": {},
     "source": [
      "zip truncates at len(shortest)"
     ]
    },
    {
     "cell_type": "code",
     "collapsed": false,
     "input": [
      "S1 = 'abc'\n",
      "S2 = 'xyz123'"
     ],
     "language": "python",
     "metadata": {},
     "outputs": [],
     "prompt_number": 46
    },
    {
     "cell_type": "code",
     "collapsed": false,
     "input": [
      "list(zip(S1, S2))"
     ],
     "language": "python",
     "metadata": {},
     "outputs": [
      {
       "metadata": {},
       "output_type": "pyout",
       "prompt_number": 47,
       "text": [
        "[('a', 'x'), ('b', 'y'), ('c', 'z')]"
       ]
      }
     ],
     "prompt_number": 47
    },
    {
     "cell_type": "code",
     "collapsed": false,
     "input": [
      "S1 = 'abc'\n",
      "S2 = 'xyz123'"
     ],
     "language": "python",
     "metadata": {},
     "outputs": [],
     "prompt_number": 48
    },
    {
     "cell_type": "code",
     "collapsed": false,
     "input": [
      "map(None, S1, S2)"
     ],
     "language": "python",
     "metadata": {},
     "outputs": [
      {
       "metadata": {},
       "output_type": "pyout",
       "prompt_number": 49,
       "text": [
        "[('a', 'x'), ('b', 'y'), ('c', 'z'), (None, '1'), (None, '2'), (None, '3')]"
       ]
      }
     ],
     "prompt_number": 49
    },
    {
     "cell_type": "code",
     "collapsed": false,
     "input": [
      "map(ord, 'spam')"
     ],
     "language": "python",
     "metadata": {},
     "outputs": [
      {
       "metadata": {},
       "output_type": "pyout",
       "prompt_number": 50,
       "text": [
        "[115, 112, 97, 109]"
       ]
      }
     ],
     "prompt_number": 50
    },
    {
     "cell_type": "code",
     "collapsed": false,
     "input": [
      "keys = ['spam', 'eggs', 'toast']\n",
      "vals = [1, 3, 5]"
     ],
     "language": "python",
     "metadata": {},
     "outputs": [],
     "prompt_number": 51
    },
    {
     "cell_type": "code",
     "collapsed": false,
     "input": [
      "D = dict(zip(keys, vals))"
     ],
     "language": "python",
     "metadata": {},
     "outputs": [],
     "prompt_number": 52
    },
    {
     "cell_type": "code",
     "collapsed": false,
     "input": [
      "D"
     ],
     "language": "python",
     "metadata": {},
     "outputs": [
      {
       "metadata": {},
       "output_type": "pyout",
       "prompt_number": 53,
       "text": [
        "{'eggs': 3, 'spam': 1, 'toast': 5}"
       ]
      }
     ],
     "prompt_number": 53
    },
    {
     "cell_type": "code",
     "collapsed": false,
     "input": [
      "{k: v for (k, v) in zip(keys, vals)}"
     ],
     "language": "python",
     "metadata": {},
     "outputs": [
      {
       "metadata": {},
       "output_type": "pyout",
       "prompt_number": 54,
       "text": [
        "{'eggs': 3, 'spam': 1, 'toast': 5}"
       ]
      }
     ],
     "prompt_number": 54
    },
    {
     "cell_type": "heading",
     "level": 5,
     "metadata": {},
     "source": [
      "enumerate"
     ]
    },
    {
     "cell_type": "code",
     "collapsed": false,
     "input": [
      "S = 'spam'\n",
      "offset = 0\n",
      "for item in S:\n",
      "    print item, 'appears at offset', offset\n",
      "    offset += 1"
     ],
     "language": "python",
     "metadata": {},
     "outputs": [
      {
       "output_type": "stream",
       "stream": "stdout",
       "text": [
        "s appears at offset 0\n",
        "p appears at offset 1\n",
        "a appears at offset 2\n",
        "m appears at offset 3\n"
       ]
      }
     ],
     "prompt_number": 55
    },
    {
     "cell_type": "code",
     "collapsed": false,
     "input": [
      "S = 'spam'\n",
      "for (offset, item) in enumerate(S):\n",
      "    print item, 'appears at offset', offset"
     ],
     "language": "python",
     "metadata": {},
     "outputs": [
      {
       "output_type": "stream",
       "stream": "stdout",
       "text": [
        "s appears at offset 0\n",
        "p appears at offset 1\n",
        "a appears at offset 2\n",
        "m appears at offset 3\n"
       ]
      }
     ],
     "prompt_number": 56
    },
    {
     "cell_type": "code",
     "collapsed": false,
     "input": [
      "E = enumerate(S)"
     ],
     "language": "python",
     "metadata": {},
     "outputs": [],
     "prompt_number": 57
    },
    {
     "cell_type": "code",
     "collapsed": false,
     "input": [
      "E"
     ],
     "language": "python",
     "metadata": {},
     "outputs": [
      {
       "metadata": {},
       "output_type": "pyout",
       "prompt_number": 58,
       "text": [
        "<enumerate at 0x104958b90>"
       ]
      }
     ],
     "prompt_number": 58
    },
    {
     "cell_type": "code",
     "collapsed": false,
     "input": [
      "next(E)"
     ],
     "language": "python",
     "metadata": {},
     "outputs": [
      {
       "metadata": {},
       "output_type": "pyout",
       "prompt_number": 59,
       "text": [
        "(0, 's')"
       ]
      }
     ],
     "prompt_number": 59
    },
    {
     "cell_type": "code",
     "collapsed": false,
     "input": [
      "next(E)"
     ],
     "language": "python",
     "metadata": {},
     "outputs": [
      {
       "metadata": {},
       "output_type": "pyout",
       "prompt_number": 60,
       "text": [
        "(1, 'p')"
       ]
      }
     ],
     "prompt_number": 60
    },
    {
     "cell_type": "code",
     "collapsed": false,
     "input": [
      "[c*i for (i, c) in enumerate(S)]"
     ],
     "language": "python",
     "metadata": {},
     "outputs": [
      {
       "metadata": {},
       "output_type": "pyout",
       "prompt_number": 61,
       "text": [
        "['', 'p', 'aa', 'mmm']"
       ]
      }
     ],
     "prompt_number": 61
    },
    {
     "cell_type": "heading",
     "level": 5,
     "metadata": {},
     "source": [
      "Shell Commands and more"
     ]
    },
    {
     "cell_type": "code",
     "collapsed": false,
     "input": [
      "import os"
     ],
     "language": "python",
     "metadata": {},
     "outputs": [],
     "prompt_number": 62
    },
    {
     "cell_type": "code",
     "collapsed": false,
     "input": [
      "F = os.popen('ls') # read line by line"
     ],
     "language": "python",
     "metadata": {},
     "outputs": [],
     "prompt_number": 67
    },
    {
     "cell_type": "code",
     "collapsed": false,
     "input": [
      "F.readline()"
     ],
     "language": "python",
     "metadata": {},
     "outputs": [
      {
       "metadata": {},
       "output_type": "pyout",
       "prompt_number": 68,
       "text": [
        "'Python-basics.ipynb\\n'"
       ]
      }
     ],
     "prompt_number": 68
    },
    {
     "cell_type": "code",
     "collapsed": false,
     "input": [
      "F.read(50)"
     ],
     "language": "python",
     "metadata": {},
     "outputs": [
      {
       "metadata": {},
       "output_type": "pyout",
       "prompt_number": 69,
       "text": [
        "'README.md\\nlog.txt\\npart2_exercises.ipynb\\npart3_stat'"
       ]
      }
     ],
     "prompt_number": 69
    },
    {
     "cell_type": "code",
     "collapsed": true,
     "input": [
      "os.system('systeminfo')"
     ],
     "language": "python",
     "metadata": {},
     "outputs": [
      {
       "metadata": {},
       "output_type": "pyout",
       "prompt_number": 70,
       "text": [
        "32512"
       ]
      }
     ],
     "prompt_number": 70
    },
    {
     "cell_type": "heading",
     "level": 1,
     "metadata": {},
     "source": [
      "Chapter 14 -  Iterations and Comprehensions"
     ]
    },
    {
     "cell_type": "code",
     "collapsed": false,
     "input": [
      "for line in open('log.txt'): # use file iterators to read by lines\n",
      "    print line.upper() # calls next, catches StopIteration"
     ],
     "language": "python",
     "metadata": {},
     "outputs": [
      {
       "output_type": "stream",
       "stream": "stdout",
       "text": [
        "SPAM\n",
        "\n",
        "(1, 2, 3)\n",
        "\n"
       ]
      }
     ],
     "prompt_number": 1
    },
    {
     "cell_type": "heading",
     "level": 5,
     "metadata": {},
     "source": [
      "The older way"
     ]
    },
    {
     "cell_type": "code",
     "collapsed": false,
     "input": [
      "for line in open('log.txt').readlines():\n",
      "    print line.upper()"
     ],
     "language": "python",
     "metadata": {},
     "outputs": [
      {
       "output_type": "stream",
       "stream": "stdout",
       "text": [
        "SPAM\n",
        "\n",
        "(1, 2, 3)\n",
        "\n"
       ]
      }
     ],
     "prompt_number": 2
    },
    {
     "cell_type": "heading",
     "level": 5,
     "metadata": {},
     "source": [
      "Manual iteration: iter or next"
     ]
    },
    {
     "cell_type": "code",
     "collapsed": false,
     "input": [
      "f = open('log.txt')"
     ],
     "language": "python",
     "metadata": {},
     "outputs": [],
     "prompt_number": 3
    },
    {
     "cell_type": "code",
     "collapsed": false,
     "input": [
      "f.next()"
     ],
     "language": "python",
     "metadata": {},
     "outputs": [
      {
       "metadata": {},
       "output_type": "pyout",
       "prompt_number": 4,
       "text": [
        "'spam\\n'"
       ]
      }
     ],
     "prompt_number": 4
    },
    {
     "cell_type": "code",
     "collapsed": false,
     "input": [
      "f.next()"
     ],
     "language": "python",
     "metadata": {},
     "outputs": [
      {
       "metadata": {},
       "output_type": "pyout",
       "prompt_number": 5,
       "text": [
        "'(1, 2, 3)\\n'"
       ]
      }
     ],
     "prompt_number": 5
    },
    {
     "cell_type": "code",
     "collapsed": false,
     "input": [
      "f = open('log.txt')"
     ],
     "language": "python",
     "metadata": {},
     "outputs": [],
     "prompt_number": 6
    },
    {
     "cell_type": "code",
     "collapsed": false,
     "input": [
      "next(f)"
     ],
     "language": "python",
     "metadata": {},
     "outputs": [
      {
       "metadata": {},
       "output_type": "pyout",
       "prompt_number": 7,
       "text": [
        "'spam\\n'"
       ]
      }
     ],
     "prompt_number": 7
    },
    {
     "cell_type": "code",
     "collapsed": false,
     "input": [
      "next(f)"
     ],
     "language": "python",
     "metadata": {},
     "outputs": [
      {
       "metadata": {},
       "output_type": "pyout",
       "prompt_number": 8,
       "text": [
        "'(1, 2, 3)\\n'"
       ]
      }
     ],
     "prompt_number": 8
    },
    {
     "cell_type": "heading",
     "level": 5,
     "metadata": {},
     "source": [
      "How for loops internally process built in sequence types as lists:"
     ]
    },
    {
     "cell_type": "code",
     "collapsed": false,
     "input": [
      "L = [1,2,3]\n",
      "I = iter(L) # obtain an iterator object from an iterable\n",
      "I.next() # call iterator's next to advance to next item"
     ],
     "language": "python",
     "metadata": {},
     "outputs": [
      {
       "metadata": {},
       "output_type": "pyout",
       "prompt_number": 10,
       "text": [
        "1"
       ]
      }
     ],
     "prompt_number": 10
    },
    {
     "cell_type": "code",
     "collapsed": false,
     "input": [
      "I.next()"
     ],
     "language": "python",
     "metadata": {},
     "outputs": [
      {
       "metadata": {},
       "output_type": "pyout",
       "prompt_number": 11,
       "text": [
        "2"
       ]
      }
     ],
     "prompt_number": 11
    },
    {
     "cell_type": "heading",
     "level": 5,
     "metadata": {},
     "source": [
      "This initial step is not required for files, because a file object is its own iterator"
     ]
    },
    {
     "cell_type": "code",
     "collapsed": false,
     "input": [
      "f = open('log.txt')"
     ],
     "language": "python",
     "metadata": {},
     "outputs": [],
     "prompt_number": 12
    },
    {
     "cell_type": "code",
     "collapsed": false,
     "input": [
      "iter(f) is f"
     ],
     "language": "python",
     "metadata": {},
     "outputs": [
      {
       "metadata": {},
       "output_type": "pyout",
       "prompt_number": 13,
       "text": [
        "True"
       ]
      }
     ],
     "prompt_number": 13
    },
    {
     "cell_type": "heading",
     "level": 5,
     "metadata": {},
     "source": [
      "The results from os.popen (a tool for reading the output of shell commands) are iterable as well"
     ]
    },
    {
     "cell_type": "code",
     "collapsed": false,
     "input": [
      "import os"
     ],
     "language": "python",
     "metadata": {},
     "outputs": [],
     "prompt_number": 14
    },
    {
     "cell_type": "code",
     "collapsed": false,
     "input": [
      "P = os.popen('ls ~')"
     ],
     "language": "python",
     "metadata": {},
     "outputs": [],
     "prompt_number": 20
    },
    {
     "cell_type": "code",
     "collapsed": false,
     "input": [
      "P.next()"
     ],
     "language": "python",
     "metadata": {},
     "outputs": [
      {
       "metadata": {},
       "output_type": "pyout",
       "prompt_number": 22,
       "text": [
        "'Applications\\n'"
       ]
      }
     ],
     "prompt_number": 22
    },
    {
     "cell_type": "code",
     "collapsed": false,
     "input": [
      "next(P)"
     ],
     "language": "python",
     "metadata": {},
     "outputs": [
      {
       "metadata": {},
       "output_type": "pyout",
       "prompt_number": 23,
       "text": [
        "'Challenge - Q2.ipynb\\n'"
       ]
      }
     ],
     "prompt_number": 23
    },
    {
     "cell_type": "heading",
     "level": 5,
     "metadata": {},
     "source": [
      "why enumerate tool works the way it does"
     ]
    },
    {
     "cell_type": "code",
     "collapsed": false,
     "input": [
      "E = enumerate('spam') # enumerate is an iterable too"
     ],
     "language": "python",
     "metadata": {},
     "outputs": [],
     "prompt_number": 24
    },
    {
     "cell_type": "code",
     "collapsed": false,
     "input": [
      "E"
     ],
     "language": "python",
     "metadata": {},
     "outputs": [
      {
       "metadata": {},
       "output_type": "pyout",
       "prompt_number": 25,
       "text": [
        "<enumerate at 0x10482b5a0>"
       ]
      }
     ],
     "prompt_number": 25
    },
    {
     "cell_type": "code",
     "collapsed": false,
     "input": [
      "I = iter(E) \n",
      "next(I) # generate results with iteration protocol"
     ],
     "language": "python",
     "metadata": {},
     "outputs": [
      {
       "metadata": {},
       "output_type": "pyout",
       "prompt_number": 26,
       "text": [
        "(0, 's')"
       ]
      }
     ],
     "prompt_number": 26
    },
    {
     "cell_type": "code",
     "collapsed": false,
     "input": [
      "next(I)"
     ],
     "language": "python",
     "metadata": {},
     "outputs": [
      {
       "metadata": {},
       "output_type": "pyout",
       "prompt_number": 27,
       "text": [
        "(1, 'p')"
       ]
      }
     ],
     "prompt_number": 27
    },
    {
     "cell_type": "code",
     "collapsed": false,
     "input": [
      "list(enumerate('spam'))"
     ],
     "language": "python",
     "metadata": {},
     "outputs": [
      {
       "metadata": {},
       "output_type": "pyout",
       "prompt_number": 28,
       "text": [
        "[(0, 's'), (1, 'p'), (2, 'a'), (3, 'm')]"
       ]
      }
     ],
     "prompt_number": 28
    },
    {
     "cell_type": "heading",
     "level": 2,
     "metadata": {},
     "source": [
      "List Comprehensions"
     ]
    },
    {
     "cell_type": "code",
     "collapsed": false,
     "input": [
      "L = [1,2,3,4,5]"
     ],
     "language": "python",
     "metadata": {},
     "outputs": [],
     "prompt_number": 29
    },
    {
     "cell_type": "code",
     "collapsed": false,
     "input": [
      "L = [x + 10 for x in L]"
     ],
     "language": "python",
     "metadata": {},
     "outputs": [],
     "prompt_number": 30
    },
    {
     "cell_type": "code",
     "collapsed": false,
     "input": [
      "L"
     ],
     "language": "python",
     "metadata": {},
     "outputs": [
      {
       "metadata": {},
       "output_type": "pyout",
       "prompt_number": 31,
       "text": [
        "[11, 12, 13, 14, 15]"
       ]
      }
     ],
     "prompt_number": 31
    },
    {
     "cell_type": "markdown",
     "metadata": {},
     "source": [
      "The list comprehension is not exactly the same as the for loop statement version because it makes a new list object."
     ]
    },
    {
     "cell_type": "heading",
     "level": 4,
     "metadata": {},
     "source": [
      "Using List comprehensions on Files"
     ]
    },
    {
     "cell_type": "code",
     "collapsed": false,
     "input": [
      "f = open('log.txt')\n",
      "lines = f.readlines()\n",
      "lines"
     ],
     "language": "python",
     "metadata": {},
     "outputs": [
      {
       "metadata": {},
       "output_type": "pyout",
       "prompt_number": 32,
       "text": [
        "['spam\\n', '(1, 2, 3)\\n']"
       ]
      }
     ],
     "prompt_number": 32
    },
    {
     "cell_type": "code",
     "collapsed": false,
     "input": [
      "lines = [line.rstrip() for line in lines]"
     ],
     "language": "python",
     "metadata": {},
     "outputs": [],
     "prompt_number": 34
    },
    {
     "cell_type": "code",
     "collapsed": false,
     "input": [
      "lines"
     ],
     "language": "python",
     "metadata": {},
     "outputs": [
      {
       "metadata": {},
       "output_type": "pyout",
       "prompt_number": 35,
       "text": [
        "['spam', '(1, 2, 3)']"
       ]
      }
     ],
     "prompt_number": 35
    },
    {
     "cell_type": "code",
     "collapsed": false,
     "input": [
      "lines = [line.rstrip() for line in open('log.txt')]"
     ],
     "language": "python",
     "metadata": {},
     "outputs": [],
     "prompt_number": 36
    },
    {
     "cell_type": "code",
     "collapsed": false,
     "input": [
      "lines"
     ],
     "language": "python",
     "metadata": {},
     "outputs": [
      {
       "metadata": {},
       "output_type": "pyout",
       "prompt_number": 37,
       "text": [
        "['spam', '(1, 2, 3)']"
       ]
      }
     ],
     "prompt_number": 37
    },
    {
     "cell_type": "heading",
     "level": 5,
     "metadata": {},
     "source": [
      "filter clauses: if"
     ]
    },
    {
     "cell_type": "code",
     "collapsed": false,
     "input": [
      "lines = [line.rstrip() for line in open('log.txt') if line[0]=='s']"
     ],
     "language": "python",
     "metadata": {},
     "outputs": [],
     "prompt_number": 39
    },
    {
     "cell_type": "code",
     "collapsed": false,
     "input": [
      "lines"
     ],
     "language": "python",
     "metadata": {},
     "outputs": [
      {
       "metadata": {},
       "output_type": "pyout",
       "prompt_number": 40,
       "text": [
        "['spam']"
       ]
      }
     ],
     "prompt_number": 40
    },
    {
     "cell_type": "heading",
     "level": 5,
     "metadata": {},
     "source": [
      "nested loops: for "
     ]
    },
    {
     "cell_type": "code",
     "collapsed": false,
     "input": [
      "[x + y for x in 'abc' for y in 'lmn']"
     ],
     "language": "python",
     "metadata": {},
     "outputs": [
      {
       "metadata": {},
       "output_type": "pyout",
       "prompt_number": 41,
       "text": [
        "['al', 'am', 'an', 'bl', 'bm', 'bn', 'cl', 'cm', 'cn']"
       ]
      }
     ],
     "prompt_number": 41
    },
    {
     "cell_type": "heading",
     "level": 5,
     "metadata": {},
     "source": [
      "list comprehensions and the map built-in function use the same protocol as their for loop cousin."
     ]
    },
    {
     "cell_type": "code",
     "collapsed": false,
     "input": [
      "uppers = [line.upper() for line in open('log.txt')]"
     ],
     "language": "python",
     "metadata": {},
     "outputs": [],
     "prompt_number": 42
    },
    {
     "cell_type": "code",
     "collapsed": false,
     "input": [
      "uppers"
     ],
     "language": "python",
     "metadata": {},
     "outputs": [
      {
       "metadata": {},
       "output_type": "pyout",
       "prompt_number": 43,
       "text": [
        "['SPAM\\n', '(1, 2, 3)\\n']"
       ]
      }
     ],
     "prompt_number": 43
    },
    {
     "cell_type": "code",
     "collapsed": false,
     "input": [
      "map(str.upper, open('log.txt'))"
     ],
     "language": "python",
     "metadata": {},
     "outputs": [
      {
       "metadata": {},
       "output_type": "pyout",
       "prompt_number": 45,
       "text": [
        "['SPAM\\n', '(1, 2, 3)\\n']"
       ]
      }
     ],
     "prompt_number": 45
    },
    {
     "cell_type": "heading",
     "level": 5,
     "metadata": {},
     "source": [
      "unpack a collection of values into individual arguments"
     ]
    },
    {
     "cell_type": "code",
     "collapsed": false,
     "input": [
      "def f(a,b,c,d): print \"&\".join([str(a), str(b), str(c), str(d)]) "
     ],
     "language": "python",
     "metadata": {},
     "outputs": [],
     "prompt_number": 49
    },
    {
     "cell_type": "code",
     "collapsed": false,
     "input": [
      "f(1,2,3,4)"
     ],
     "language": "python",
     "metadata": {},
     "outputs": [
      {
       "output_type": "stream",
       "stream": "stdout",
       "text": [
        "1&2&3&4\n"
       ]
      }
     ],
     "prompt_number": 50
    },
    {
     "cell_type": "code",
     "collapsed": false,
     "input": [
      "f(*[1,2,3,4]) # unpacks into arguments"
     ],
     "language": "python",
     "metadata": {},
     "outputs": [
      {
       "output_type": "stream",
       "stream": "stdout",
       "text": [
        "1&2&3&4\n"
       ]
      }
     ],
     "prompt_number": 51
    },
    {
     "cell_type": "heading",
     "level": 5,
     "metadata": {},
     "source": [
      "unzip zipped tuples"
     ]
    },
    {
     "cell_type": "code",
     "collapsed": false,
     "input": [
      "X = (1,2)\n",
      "Y = (3,4)"
     ],
     "language": "python",
     "metadata": {},
     "outputs": [],
     "prompt_number": 52
    },
    {
     "cell_type": "code",
     "collapsed": false,
     "input": [
      "list(zip(X,Y))"
     ],
     "language": "python",
     "metadata": {},
     "outputs": [
      {
       "metadata": {},
       "output_type": "pyout",
       "prompt_number": 53,
       "text": [
        "[(1, 3), (2, 4)]"
       ]
      }
     ],
     "prompt_number": 53
    },
    {
     "cell_type": "code",
     "collapsed": false,
     "input": [
      "A, B = zip(*(X,Y))"
     ],
     "language": "python",
     "metadata": {},
     "outputs": [],
     "prompt_number": 54
    },
    {
     "cell_type": "code",
     "collapsed": false,
     "input": [
      "A"
     ],
     "language": "python",
     "metadata": {},
     "outputs": [
      {
       "metadata": {},
       "output_type": "pyout",
       "prompt_number": 55,
       "text": [
        "(1, 3)"
       ]
      }
     ],
     "prompt_number": 55
    },
    {
     "cell_type": "code",
     "collapsed": false,
     "input": [
      "B"
     ],
     "language": "python",
     "metadata": {},
     "outputs": [
      {
       "metadata": {},
       "output_type": "pyout",
       "prompt_number": 56,
       "text": [
        "(2, 4)"
       ]
      }
     ],
     "prompt_number": 56
    },
    {
     "cell_type": "heading",
     "level": 1,
     "metadata": {},
     "source": [
      "Chapter 15 -  The Documentation Interlude"
     ]
    },
    {
     "cell_type": "markdown",
     "metadata": {},
     "source": [
      "How do I find information on all the built-in tools?"
     ]
    },
    {
     "cell_type": "heading",
     "level": 5,
     "metadata": {},
     "source": [
      "# Comments"
     ]
    },
    {
     "cell_type": "heading",
     "level": 5,
     "metadata": {},
     "source": [
      "The dir function"
     ]
    },
    {
     "cell_type": "markdown",
     "metadata": {},
     "source": [
      "to find out what's available in a module such as the standard library's sys, import it to dir"
     ]
    },
    {
     "cell_type": "code",
     "collapsed": false,
     "input": [
      "import sys"
     ],
     "language": "python",
     "metadata": {},
     "outputs": [],
     "prompt_number": 1
    },
    {
     "cell_type": "code",
     "collapsed": false,
     "input": [
      "dir(sys)"
     ],
     "language": "python",
     "metadata": {},
     "outputs": [
      {
       "metadata": {},
       "output_type": "pyout",
       "prompt_number": 4,
       "text": [
        "['__displayhook__',\n",
        " '__doc__',\n",
        " '__excepthook__',\n",
        " '__name__',\n",
        " '__package__',\n",
        " '__stderr__',\n",
        " '__stdin__',\n",
        " '__stdout__',\n",
        " '_clear_type_cache',\n",
        " '_current_frames',\n",
        " '_getframe',\n",
        " '_mercurial',\n",
        " 'api_version',\n",
        " 'argv',\n",
        " 'builtin_module_names',\n",
        " 'byteorder',\n",
        " 'call_tracing',\n",
        " 'callstats',\n",
        " 'copyright',\n",
        " 'displayhook',\n",
        " 'dont_write_bytecode',\n",
        " 'exc_clear',\n",
        " 'exc_info',\n",
        " 'exc_type',\n",
        " 'excepthook',\n",
        " 'exec_prefix',\n",
        " 'executable',\n",
        " 'exit',\n",
        " 'exitfunc',\n",
        " 'flags',\n",
        " 'float_info',\n",
        " 'float_repr_style',\n",
        " 'getcheckinterval',\n",
        " 'getdefaultencoding',\n",
        " 'getdlopenflags',\n",
        " 'getfilesystemencoding',\n",
        " 'getprofile',\n",
        " 'getrecursionlimit',\n",
        " 'getrefcount',\n",
        " 'getsizeof',\n",
        " 'gettrace',\n",
        " 'hexversion',\n",
        " 'long_info',\n",
        " 'maxint',\n",
        " 'maxsize',\n",
        " 'maxunicode',\n",
        " 'meta_path',\n",
        " 'modules',\n",
        " 'path',\n",
        " 'path_hooks',\n",
        " 'path_importer_cache',\n",
        " 'platform',\n",
        " 'prefix',\n",
        " 'ps1',\n",
        " 'ps2',\n",
        " 'ps3',\n",
        " 'py3kwarning',\n",
        " 'setcheckinterval',\n",
        " 'setdlopenflags',\n",
        " 'setprofile',\n",
        " 'setrecursionlimit',\n",
        " 'settrace',\n",
        " 'stderr',\n",
        " 'stdin',\n",
        " 'stdout',\n",
        " 'subversion',\n",
        " 'version',\n",
        " 'version_info',\n",
        " 'warnoptions']"
       ]
      }
     ],
     "prompt_number": 4
    },
    {
     "cell_type": "code",
     "collapsed": false,
     "input": [
      "len(dir(sys))"
     ],
     "language": "python",
     "metadata": {},
     "outputs": [
      {
       "metadata": {},
       "output_type": "pyout",
       "prompt_number": 5,
       "text": [
        "69"
       ]
      }
     ],
     "prompt_number": 5
    },
    {
     "cell_type": "code",
     "collapsed": false,
     "input": [
      "len([x for x in dir(sys) if not x.startswith('__')])"
     ],
     "language": "python",
     "metadata": {},
     "outputs": [
      {
       "metadata": {},
       "output_type": "pyout",
       "prompt_number": 7,
       "text": [
        "64"
       ]
      }
     ],
     "prompt_number": 7
    },
    {
     "cell_type": "code",
     "collapsed": false,
     "input": [
      "len([x for x in dir(sys) if not x.startswith('_')])"
     ],
     "language": "python",
     "metadata": {},
     "outputs": [
      {
       "metadata": {},
       "output_type": "pyout",
       "prompt_number": 8,
       "text": [
        "60"
       ]
      }
     ],
     "prompt_number": 8
    },
    {
     "cell_type": "markdown",
     "metadata": {},
     "source": [
      "TO find out what attributes are provided in objects of built-in types, run dir on a literal or an existing instance of the desired type."
     ]
    },
    {
     "cell_type": "code",
     "collapsed": false,
     "input": [
      "dir([]) # list attirubtes"
     ],
     "language": "python",
     "metadata": {},
     "outputs": [
      {
       "metadata": {},
       "output_type": "pyout",
       "prompt_number": 9,
       "text": [
        "['__add__',\n",
        " '__class__',\n",
        " '__contains__',\n",
        " '__delattr__',\n",
        " '__delitem__',\n",
        " '__delslice__',\n",
        " '__doc__',\n",
        " '__eq__',\n",
        " '__format__',\n",
        " '__ge__',\n",
        " '__getattribute__',\n",
        " '__getitem__',\n",
        " '__getslice__',\n",
        " '__gt__',\n",
        " '__hash__',\n",
        " '__iadd__',\n",
        " '__imul__',\n",
        " '__init__',\n",
        " '__iter__',\n",
        " '__le__',\n",
        " '__len__',\n",
        " '__lt__',\n",
        " '__mul__',\n",
        " '__ne__',\n",
        " '__new__',\n",
        " '__reduce__',\n",
        " '__reduce_ex__',\n",
        " '__repr__',\n",
        " '__reversed__',\n",
        " '__rmul__',\n",
        " '__setattr__',\n",
        " '__setitem__',\n",
        " '__setslice__',\n",
        " '__sizeof__',\n",
        " '__str__',\n",
        " '__subclasshook__',\n",
        " 'append',\n",
        " 'count',\n",
        " 'extend',\n",
        " 'index',\n",
        " 'insert',\n",
        " 'pop',\n",
        " 'remove',\n",
        " 'reverse',\n",
        " 'sort']"
       ]
      }
     ],
     "prompt_number": 9
    },
    {
     "cell_type": "code",
     "collapsed": false,
     "input": [
      "dir('') # str attributes"
     ],
     "language": "python",
     "metadata": {},
     "outputs": [
      {
       "metadata": {},
       "output_type": "pyout",
       "prompt_number": 10,
       "text": [
        "['__add__',\n",
        " '__class__',\n",
        " '__contains__',\n",
        " '__delattr__',\n",
        " '__doc__',\n",
        " '__eq__',\n",
        " '__format__',\n",
        " '__ge__',\n",
        " '__getattribute__',\n",
        " '__getitem__',\n",
        " '__getnewargs__',\n",
        " '__getslice__',\n",
        " '__gt__',\n",
        " '__hash__',\n",
        " '__init__',\n",
        " '__le__',\n",
        " '__len__',\n",
        " '__lt__',\n",
        " '__mod__',\n",
        " '__mul__',\n",
        " '__ne__',\n",
        " '__new__',\n",
        " '__reduce__',\n",
        " '__reduce_ex__',\n",
        " '__repr__',\n",
        " '__rmod__',\n",
        " '__rmul__',\n",
        " '__setattr__',\n",
        " '__sizeof__',\n",
        " '__str__',\n",
        " '__subclasshook__',\n",
        " '_formatter_field_name_split',\n",
        " '_formatter_parser',\n",
        " 'capitalize',\n",
        " 'center',\n",
        " 'count',\n",
        " 'decode',\n",
        " 'encode',\n",
        " 'endswith',\n",
        " 'expandtabs',\n",
        " 'find',\n",
        " 'format',\n",
        " 'index',\n",
        " 'isalnum',\n",
        " 'isalpha',\n",
        " 'isdigit',\n",
        " 'islower',\n",
        " 'isspace',\n",
        " 'istitle',\n",
        " 'isupper',\n",
        " 'join',\n",
        " 'ljust',\n",
        " 'lower',\n",
        " 'lstrip',\n",
        " 'partition',\n",
        " 'replace',\n",
        " 'rfind',\n",
        " 'rindex',\n",
        " 'rjust',\n",
        " 'rpartition',\n",
        " 'rsplit',\n",
        " 'rstrip',\n",
        " 'split',\n",
        " 'splitlines',\n",
        " 'startswith',\n",
        " 'strip',\n",
        " 'swapcase',\n",
        " 'title',\n",
        " 'translate',\n",
        " 'upper',\n",
        " 'zfill']"
       ]
      }
     ],
     "prompt_number": 10
    },
    {
     "cell_type": "code",
     "collapsed": false,
     "input": [
      "dir(str)==dir('')"
     ],
     "language": "python",
     "metadata": {},
     "outputs": [
      {
       "metadata": {},
       "output_type": "pyout",
       "prompt_number": 11,
       "text": [
        "True"
       ]
      }
     ],
     "prompt_number": 11
    },
    {
     "cell_type": "code",
     "collapsed": false,
     "input": [
      "dir( list ) == dir( [] )"
     ],
     "language": "python",
     "metadata": {},
     "outputs": [
      {
       "metadata": {},
       "output_type": "pyout",
       "prompt_number": 13,
       "text": [
        "True"
       ]
      }
     ],
     "prompt_number": 13
    },
    {
     "cell_type": "heading",
     "level": 4,
     "metadata": {},
     "source": [
      "Docstrings: __doc__"
     ]
    },
    {
     "cell_type": "code",
     "collapsed": false,
     "input": [
      "import some_python_file.py\n",
      "print some_python_file.__doc__\n",
      "print some_python_file.some_function.__doc__"
     ],
     "language": "python",
     "metadata": {},
     "outputs": []
    },
    {
     "cell_type": "code",
     "collapsed": false,
     "input": [
      "import sys"
     ],
     "language": "python",
     "metadata": {},
     "outputs": [],
     "prompt_number": 14
    },
    {
     "cell_type": "code",
     "collapsed": false,
     "input": [
      "print sys.__doc__"
     ],
     "language": "python",
     "metadata": {},
     "outputs": [
      {
       "output_type": "stream",
       "stream": "stdout",
       "text": [
        "This module provides access to some objects used or maintained by the\n",
        "interpreter and to functions that interact strongly with the interpreter.\n",
        "\n",
        "Dynamic objects:\n",
        "\n",
        "argv -- command line arguments; argv[0] is the script pathname if known\n",
        "path -- module search path; path[0] is the script directory, else ''\n",
        "modules -- dictionary of loaded modules\n",
        "\n",
        "displayhook -- called to show results in an interactive session\n",
        "excepthook -- called to handle any uncaught exception other than SystemExit\n",
        "  To customize printing in an interactive session or to install a custom\n",
        "  top-level exception handler, assign other functions to replace these.\n",
        "\n",
        "exitfunc -- if sys.exitfunc exists, this routine is called when Python exits\n",
        "  Assigning to sys.exitfunc is deprecated; use the atexit module instead.\n",
        "\n",
        "stdin -- standard input file object; used by raw_input() and input()\n",
        "stdout -- standard output file object; used by the print statement\n",
        "stderr -- standard error object; used for error messages\n",
        "  By assigning other file objects (or objects that behave like files)\n",
        "  to these, it is possible to redirect all of the interpreter's I/O.\n",
        "\n",
        "last_type -- type of last uncaught exception\n",
        "last_value -- value of last uncaught exception\n",
        "last_traceback -- traceback of last uncaught exception\n",
        "  These three are only available in an interactive session after a\n",
        "  traceback has been printed.\n",
        "\n",
        "exc_type -- type of exception currently being handled\n",
        "exc_value -- value of exception currently being handled\n",
        "exc_traceback -- traceback of exception currently being handled\n",
        "  The function exc_info() should be used instead of these three,\n",
        "  because it is thread-safe.\n",
        "\n",
        "Static objects:\n",
        "\n",
        "float_info -- a dict with information about the float inplementation.\n",
        "long_info -- a struct sequence with information about the long implementation.\n",
        "maxint -- the largest supported integer (the smallest is -maxint-1)\n",
        "maxsize -- the largest supported length of containers.\n",
        "maxunicode -- the largest supported character\n",
        "builtin_module_names -- tuple of module names built into this interpreter\n",
        "version -- the version of this interpreter as a string\n",
        "version_info -- version information as a named tuple\n",
        "hexversion -- version information encoded as a single integer\n",
        "copyright -- copyright notice pertaining to this interpreter\n",
        "platform -- platform identifier\n",
        "executable -- absolute path of the executable binary of the Python interpreter\n",
        "prefix -- prefix used to find the Python library\n",
        "exec_prefix -- prefix used to find the machine-specific Python library\n",
        "float_repr_style -- string indicating the style of repr() output for floats\n",
        "__stdin__ -- the original stdin; don't touch!\n",
        "__stdout__ -- the original stdout; don't touch!\n",
        "__stderr__ -- the original stderr; don't touch!\n",
        "__displayhook__ -- the original displayhook; don't touch!\n",
        "__excepthook__ -- the original excepthook; don't touch!\n",
        "\n",
        "Functions:\n",
        "\n",
        "displayhook() -- print an object to the screen, and save it in __builtin__._\n",
        "excepthook() -- print an exception and its traceback to sys.stderr\n",
        "exc_info() -- return thread-safe information about the current exception\n",
        "exc_clear() -- clear the exception state for the current thread\n",
        "exit() -- exit the interpreter by raising SystemExit\n",
        "getdlopenflags() -- returns flags to be used for dlopen() calls\n",
        "getprofile() -- get the global profiling function\n",
        "getrefcount() -- return the reference count for an object (plus one :-)\n",
        "getrecursionlimit() -- return the max recursion depth for the interpreter\n",
        "getsizeof() -- return the size of an object in bytes\n",
        "gettrace() -- get the global debug tracing function\n",
        "setcheckinterval() -- control how often the interpreter checks for events\n",
        "setdlopenflags() -- set the flags to be used for dlopen() calls\n",
        "setprofile() -- set the global profiling function\n",
        "setrecursionlimit() -- set the max recursion depth for the interpreter\n",
        "settrace() -- set the global debug tracing function\n",
        "\n"
       ]
      }
     ],
     "prompt_number": 15
    },
    {
     "cell_type": "code",
     "collapsed": false,
     "input": [
      "print sys.getrefcount.__doc__"
     ],
     "language": "python",
     "metadata": {},
     "outputs": [
      {
       "output_type": "stream",
       "stream": "stdout",
       "text": [
        "getrefcount(object) -> integer\n",
        "\n",
        "Return the reference count of object.  The count returned is generally\n",
        "one higher than you might expect, because it includes the (temporary)\n",
        "reference as an argument to getrefcount().\n"
       ]
      }
     ],
     "prompt_number": 16
    },
    {
     "cell_type": "code",
     "collapsed": false,
     "input": [
      "print int.__doc__"
     ],
     "language": "python",
     "metadata": {},
     "outputs": [
      {
       "output_type": "stream",
       "stream": "stdout",
       "text": [
        "int(x=0) -> int or long\n",
        "int(x, base=10) -> int or long\n",
        "\n",
        "Convert a number or string to an integer, or return 0 if no arguments\n",
        "are given.  If x is floating point, the conversion truncates towards zero.\n",
        "If x is outside the integer range, the function returns a long instead.\n",
        "\n",
        "If x is not a number or if base is given, then x must be a string or\n",
        "Unicode object representing an integer literal in the given base.  The\n",
        "literal can be preceded by '+' or '-' and be surrounded by whitespace.\n",
        "The base defaults to 10.  Valid bases are 0 and 2-36.  Base 0 means to\n",
        "interpret the base from the string as an integer literal.\n",
        ">>> int('0b100', base=0)\n",
        "4\n"
       ]
      }
     ],
     "prompt_number": 17
    },
    {
     "cell_type": "code",
     "collapsed": false,
     "input": [
      "print map.__doc__"
     ],
     "language": "python",
     "metadata": {},
     "outputs": [
      {
       "output_type": "stream",
       "stream": "stdout",
       "text": [
        "map(function, sequence[, sequence, ...]) -> list\n",
        "\n",
        "Return a list of the results of applying the function to the items of\n",
        "the argument sequence(s).  If more than one sequence is given, the\n",
        "function is called with an argument list consisting of the corresponding\n",
        "item of each sequence, substituting None for missing values when not all\n",
        "sequences have the same length.  If the function is None, return a list of\n",
        "the items of the sequence (or a list of tuples if more than one sequence).\n"
       ]
      }
     ],
     "prompt_number": 18
    },
    {
     "cell_type": "heading",
     "level": 4,
     "metadata": {},
     "source": [
      "PyDoc: The help Function"
     ]
    },
    {
     "cell_type": "code",
     "collapsed": false,
     "input": [
      "help(sys.getrefcount)"
     ],
     "language": "python",
     "metadata": {},
     "outputs": [
      {
       "output_type": "stream",
       "stream": "stdout",
       "text": [
        "Help on built-in function getrefcount in module sys:\n",
        "\n",
        "getrefcount(...)\n",
        "    getrefcount(object) -> integer\n",
        "    \n",
        "    Return the reference count of object.  The count returned is generally\n",
        "    one higher than you might expect, because it includes the (temporary)\n",
        "    reference as an argument to getrefcount().\n",
        "\n"
       ]
      }
     ],
     "prompt_number": 19
    },
    {
     "cell_type": "code",
     "collapsed": false,
     "input": [
      "help(sys)"
     ],
     "language": "python",
     "metadata": {},
     "outputs": [
      {
       "output_type": "stream",
       "stream": "stdout",
       "text": [
        "Help on built-in module sys:\n",
        "\n",
        "NAME\n",
        "    sys\n",
        "\n",
        "FILE\n",
        "    (built-in)\n",
        "\n",
        "MODULE DOCS\n",
        "    http://docs.python.org/library/sys\n",
        "\n",
        "DESCRIPTION\n",
        "    This module provides access to some objects used or maintained by the\n",
        "    interpreter and to functions that interact strongly with the interpreter.\n",
        "    \n",
        "    Dynamic objects:\n",
        "    \n",
        "    argv -- command line arguments; argv[0] is the script pathname if known\n",
        "    path -- module search path; path[0] is the script directory, else ''\n",
        "    modules -- dictionary of loaded modules\n",
        "    \n",
        "    displayhook -- called to show results in an interactive session\n",
        "    excepthook -- called to handle any uncaught exception other than SystemExit\n",
        "      To customize printing in an interactive session or to install a custom\n",
        "      top-level exception handler, assign other functions to replace these.\n",
        "    \n",
        "    exitfunc -- if sys.exitfunc exists, this routine is called when Python exits\n",
        "      Assigning to sys.exitfunc is deprecated; use the atexit module instead.\n",
        "    \n",
        "    stdin -- standard input file object; used by raw_input() and input()\n",
        "    stdout -- standard output file object; used by the print statement\n",
        "    stderr -- standard error object; used for error messages\n",
        "      By assigning other file objects (or objects that behave like files)\n",
        "      to these, it is possible to redirect all of the interpreter's I/O.\n",
        "    \n",
        "    last_type -- type of last uncaught exception\n",
        "    last_value -- value of last uncaught exception\n",
        "    last_traceback -- traceback of last uncaught exception\n",
        "      These three are only available in an interactive session after a\n",
        "      traceback has been printed.\n",
        "    \n",
        "    exc_type -- type of exception currently being handled\n",
        "    exc_value -- value of exception currently being handled\n",
        "    exc_traceback -- traceback of exception currently being handled\n",
        "      The function exc_info() should be used instead of these three,\n",
        "      because it is thread-safe.\n",
        "    \n",
        "    Static objects:\n",
        "    \n",
        "    float_info -- a dict with information about the float inplementation.\n",
        "    long_info -- a struct sequence with information about the long implementation.\n",
        "    maxint -- the largest supported integer (the smallest is -maxint-1)\n",
        "    maxsize -- the largest supported length of containers.\n",
        "    maxunicode -- the largest supported character\n",
        "    builtin_module_names -- tuple of module names built into this interpreter\n",
        "    version -- the version of this interpreter as a string\n",
        "    version_info -- version information as a named tuple\n",
        "    hexversion -- version information encoded as a single integer\n",
        "    copyright -- copyright notice pertaining to this interpreter\n",
        "    platform -- platform identifier\n",
        "    executable -- absolute path of the executable binary of the Python interpreter\n",
        "    prefix -- prefix used to find the Python library\n",
        "    exec_prefix -- prefix used to find the machine-specific Python library\n",
        "    float_repr_style -- string indicating the style of repr() output for floats\n",
        "    __stdin__ -- the original stdin; don't touch!\n",
        "    __stdout__ -- the original stdout; don't touch!\n",
        "    __stderr__ -- the original stderr; don't touch!\n",
        "    __displayhook__ -- the original displayhook; don't touch!\n",
        "    __excepthook__ -- the original excepthook; don't touch!\n",
        "    \n",
        "    Functions:\n",
        "    \n",
        "    displayhook() -- print an object to the screen, and save it in __builtin__._\n",
        "    excepthook() -- print an exception and its traceback to sys.stderr\n",
        "    exc_info() -- return thread-safe information about the current exception\n",
        "    exc_clear() -- clear the exception state for the current thread\n",
        "    exit() -- exit the interpreter by raising SystemExit\n",
        "    getdlopenflags() -- returns flags to be used for dlopen() calls\n",
        "    getprofile() -- get the global profiling function\n",
        "    getrefcount() -- return the reference count for an object (plus one :-)\n",
        "    getrecursionlimit() -- return the max recursion depth for the interpreter\n",
        "    getsizeof() -- return the size of an object in bytes\n",
        "    gettrace() -- get the global debug tracing function\n",
        "    setcheckinterval() -- control how often the interpreter checks for events\n",
        "    setdlopenflags() -- set the flags to be used for dlopen() calls\n",
        "    setprofile() -- set the global profiling function\n",
        "    setrecursionlimit() -- set the max recursion depth for the interpreter\n",
        "    settrace() -- set the global debug tracing function\n",
        "\n",
        "FUNCTIONS\n",
        "    __displayhook__ = displayhook(...)\n",
        "        displayhook(object) -> None\n",
        "        \n",
        "        Print an object to sys.stdout and also save it in __builtin__._\n",
        "    \n",
        "    __excepthook__ = excepthook(...)\n",
        "        excepthook(exctype, value, traceback) -> None\n",
        "        \n",
        "        Handle an exception by displaying it with a traceback on sys.stderr.\n",
        "    \n",
        "    call_tracing(...)\n",
        "        call_tracing(func, args) -> object\n",
        "        \n",
        "        Call func(*args), while tracing is enabled.  The tracing state is\n",
        "        saved, and restored afterwards.  This is intended to be called from\n",
        "        a debugger from a checkpoint, to recursively debug some other code.\n",
        "    \n",
        "    callstats(...)\n",
        "        callstats() -> tuple of integers\n",
        "        \n",
        "        Return a tuple of function call statistics, if CALL_PROFILE was defined\n",
        "        when Python was built.  Otherwise, return None.\n",
        "        \n",
        "        When enabled, this function returns detailed, implementation-specific\n",
        "        details about the number of function calls executed. The return value is\n",
        "        a 11-tuple where the entries in the tuple are counts of:\n",
        "        0. all function calls\n",
        "        1. calls to PyFunction_Type objects\n",
        "        2. PyFunction calls that do not create an argument tuple\n",
        "        3. PyFunction calls that do not create an argument tuple\n",
        "           and bypass PyEval_EvalCodeEx()\n",
        "        4. PyMethod calls\n",
        "        5. PyMethod calls on bound methods\n",
        "        6. PyType calls\n",
        "        7. PyCFunction calls\n",
        "        8. generator calls\n",
        "        9. All other calls\n",
        "        10. Number of stack pops performed by call_function()\n",
        "    \n",
        "    exc_clear(...)\n",
        "        exc_clear() -> None\n",
        "        \n",
        "        Clear global information on the current exception.  Subsequent calls to\n",
        "        exc_info() will return (None,None,None) until another exception is raised\n",
        "        in the current thread or the execution stack returns to a frame where\n",
        "        another exception is being handled.\n",
        "    \n",
        "    exc_info(...)\n",
        "        exc_info() -> (type, value, traceback)\n",
        "        \n",
        "        Return information about the most recent exception caught by an except\n",
        "        clause in the current stack frame or in an older stack frame.\n",
        "    \n",
        "    exit(...)\n",
        "        exit([status])\n",
        "        \n",
        "        Exit the interpreter by raising SystemExit(status).\n",
        "        If the status is omitted or None, it defaults to zero (i.e., success).\n",
        "        If the status is an integer, it will be used as the system exit status.\n",
        "        If it is another kind of object, it will be printed and the system\n",
        "        exit status will be one (i.e., failure).\n",
        "    \n",
        "    getcheckinterval(...)\n",
        "        getcheckinterval() -> current check interval; see setcheckinterval().\n",
        "    \n",
        "    getdefaultencoding(...)\n",
        "        getdefaultencoding() -> string\n",
        "        \n",
        "        Return the current default string encoding used by the Unicode \n",
        "        implementation.\n",
        "    \n",
        "    getdlopenflags(...)\n",
        "        getdlopenflags() -> int\n",
        "        \n",
        "        Return the current value of the flags that are used for dlopen calls.\n",
        "        The flag constants are defined in the ctypes and DLFCN modules.\n",
        "    \n",
        "    getfilesystemencoding(...)\n",
        "        getfilesystemencoding() -> string\n",
        "        \n",
        "        Return the encoding used to convert Unicode filenames in\n",
        "        operating system filenames.\n",
        "    \n",
        "    getprofile(...)\n",
        "        getprofile()\n",
        "        \n",
        "        Return the profiling function set with sys.setprofile.\n",
        "        See the profiler chapter in the library manual.\n",
        "    \n",
        "    getrecursionlimit(...)\n",
        "        getrecursionlimit()\n",
        "        \n",
        "        Return the current value of the recursion limit, the maximum depth\n",
        "        of the Python interpreter stack.  This limit prevents infinite\n",
        "        recursion from causing an overflow of the C stack and crashing Python.\n",
        "    \n",
        "    getrefcount(...)\n",
        "        getrefcount(object) -> integer\n",
        "        \n",
        "        Return the reference count of object.  The count returned is generally\n",
        "        one higher than you might expect, because it includes the (temporary)\n",
        "        reference as an argument to getrefcount().\n",
        "    \n",
        "    getsizeof(...)\n",
        "        getsizeof(object, default) -> int\n",
        "        \n",
        "        Return the size of object in bytes.\n",
        "    \n",
        "    gettrace(...)\n",
        "        gettrace()\n",
        "        \n",
        "        Return the global debug tracing function set with sys.settrace.\n",
        "        See the debugger chapter in the library manual.\n",
        "    \n",
        "    setcheckinterval(...)\n",
        "        setcheckinterval(n)\n",
        "        \n",
        "        Tell the Python interpreter to check for asynchronous events every\n",
        "        n instructions.  This also affects how often thread switches occur.\n",
        "    \n",
        "    setdlopenflags(...)\n",
        "        setdlopenflags(n) -> None\n",
        "        \n",
        "        Set the flags used by the interpreter for dlopen calls, such as when the\n",
        "        interpreter loads extension modules.  Among other things, this will enable\n",
        "        a lazy resolving of symbols when importing a module, if called as\n",
        "        sys.setdlopenflags(0).  To share symbols across extension modules, call as\n",
        "        sys.setdlopenflags(ctypes.RTLD_GLOBAL).  Symbolic names for the flag modules\n",
        "        can be either found in the ctypes module, or in the DLFCN module. If DLFCN\n",
        "        is not available, it can be generated from /usr/include/dlfcn.h using the\n",
        "        h2py script.\n",
        "    \n",
        "    setprofile(...)\n",
        "        setprofile(function)\n",
        "        \n",
        "        Set the profiling function.  It will be called on each function call\n",
        "        and return.  See the profiler chapter in the library manual.\n",
        "    \n",
        "    setrecursionlimit(...)\n",
        "        setrecursionlimit(n)\n",
        "        \n",
        "        Set the maximum depth of the Python interpreter stack to n.  This\n",
        "        limit prevents infinite recursion from causing an overflow of the C\n",
        "        stack and crashing Python.  The highest possible limit is platform-\n",
        "        dependent.\n",
        "    \n",
        "    settrace(...)\n",
        "        settrace(function)\n",
        "        \n",
        "        Set the global debug tracing function.  It will be called on each\n",
        "        function call.  See the debugger chapter in the library manual.\n",
        "\n",
        "DATA\n",
        "    __stderr__ = <open file '<stderr>', mode 'w'>\n",
        "    __stdin__ = <open file '<stdin>', mode 'r'>\n",
        "    __stdout__ = <open file '<stdout>', mode 'w'>\n",
        "    api_version = 1013\n",
        "    argv = ['-c', '-f', '/Users/sergulaydore/.ipython/profile_default/sec....\n",
        "    builtin_module_names = ('__builtin__', '__main__', '_ast', '_codecs', ...\n",
        "    byteorder = 'little'\n",
        "    copyright = 'Copyright (c) 2001-2014 Python Software Foundati...ematis...\n",
        "    displayhook = <IPython.kernel.zmq.displayhook.ZMQShellDisplayHook obje...\n",
        "    dont_write_bytecode = False\n",
        "    exc_value = TypeError(\"<module 'sys' (built-in)> is a built-in module\"...\n",
        "    exec_prefix = '/Users/sergulaydore/anaconda'\n",
        "    executable = '/Users/sergulaydore/anaconda/bin/python'\n",
        "    flags = sys.flags(debug=0, py3k_warning=0, division_warn...unicode=0, ...\n",
        "    float_info = sys.float_info(max=1.7976931348623157e+308, max_...epsilo...\n",
        "    float_repr_style = 'short'\n",
        "    hexversion = 34015472\n",
        "    last_value = SyntaxError(\"can't assign to function call\", ('<ipython-i...\n",
        "    long_info = sys.long_info(bits_per_digit=30, sizeof_digit=4)\n",
        "    maxint = 9223372036854775807\n",
        "    maxsize = 9223372036854775807\n",
        "    maxunicode = 65535\n",
        "    meta_path = []\n",
        "    modules = {'ConfigParser': <module 'ConfigParser' from '/Users/sergula...\n",
        "    path = ['', '/Users/sergulaydore/anaconda/lib/python27.zip', '/Users/s...\n",
        "    path_hooks = [<type 'zipimport.zipimporter'>]\n",
        "    path_importer_cache = {'': None, '/Users/sergulaydore/.ipython/extensi...\n",
        "    platform = 'darwin'\n",
        "    prefix = '/Users/sergulaydore/anaconda'\n",
        "    ps1 = 'In : '\n",
        "    ps2 = '...: '\n",
        "    ps3 = 'Out: '\n",
        "    py3kwarning = False\n",
        "    stderr = <IPython.kernel.zmq.iostream.OutStream object>\n",
        "    stdin = <open file '<stdin>', mode 'r'>\n",
        "    stdout = <IPython.kernel.zmq.iostream.OutStream object>\n",
        "    subversion = ('CPython', '', '')\n",
        "    version = '2.7.8 |Anaconda 2.1.0 (x86_64)| (default, Aug 21...4, 15:21...\n",
        "    version_info = sys.version_info(major=2, minor=7, micro=8, releaseleve...\n",
        "    warnoptions = []\n",
        "\n",
        "\n"
       ]
      }
     ],
     "prompt_number": 20
    },
    {
     "cell_type": "code",
     "collapsed": false,
     "input": [
      "help(dict)"
     ],
     "language": "python",
     "metadata": {},
     "outputs": [
      {
       "output_type": "stream",
       "stream": "stdout",
       "text": [
        "Help on class dict in module __builtin__:\n",
        "\n",
        "class dict(object)\n",
        " |  dict() -> new empty dictionary\n",
        " |  dict(mapping) -> new dictionary initialized from a mapping object's\n",
        " |      (key, value) pairs\n",
        " |  dict(iterable) -> new dictionary initialized as if via:\n",
        " |      d = {}\n",
        " |      for k, v in iterable:\n",
        " |          d[k] = v\n",
        " |  dict(**kwargs) -> new dictionary initialized with the name=value pairs\n",
        " |      in the keyword argument list.  For example:  dict(one=1, two=2)\n",
        " |  \n",
        " |  Methods defined here:\n",
        " |  \n",
        " |  __cmp__(...)\n",
        " |      x.__cmp__(y) <==> cmp(x,y)\n",
        " |  \n",
        " |  __contains__(...)\n",
        " |      D.__contains__(k) -> True if D has a key k, else False\n",
        " |  \n",
        " |  __delitem__(...)\n",
        " |      x.__delitem__(y) <==> del x[y]\n",
        " |  \n",
        " |  __eq__(...)\n",
        " |      x.__eq__(y) <==> x==y\n",
        " |  \n",
        " |  __ge__(...)\n",
        " |      x.__ge__(y) <==> x>=y\n",
        " |  \n",
        " |  __getattribute__(...)\n",
        " |      x.__getattribute__('name') <==> x.name\n",
        " |  \n",
        " |  __getitem__(...)\n",
        " |      x.__getitem__(y) <==> x[y]\n",
        " |  \n",
        " |  __gt__(...)\n",
        " |      x.__gt__(y) <==> x>y\n",
        " |  \n",
        " |  __init__(...)\n",
        " |      x.__init__(...) initializes x; see help(type(x)) for signature\n",
        " |  \n",
        " |  __iter__(...)\n",
        " |      x.__iter__() <==> iter(x)\n",
        " |  \n",
        " |  __le__(...)\n",
        " |      x.__le__(y) <==> x<=y\n",
        " |  \n",
        " |  __len__(...)\n",
        " |      x.__len__() <==> len(x)\n",
        " |  \n",
        " |  __lt__(...)\n",
        " |      x.__lt__(y) <==> x<y\n",
        " |  \n",
        " |  __ne__(...)\n",
        " |      x.__ne__(y) <==> x!=y\n",
        " |  \n",
        " |  __repr__(...)\n",
        " |      x.__repr__() <==> repr(x)\n",
        " |  \n",
        " |  __setitem__(...)\n",
        " |      x.__setitem__(i, y) <==> x[i]=y\n",
        " |  \n",
        " |  __sizeof__(...)\n",
        " |      D.__sizeof__() -> size of D in memory, in bytes\n",
        " |  \n",
        " |  clear(...)\n",
        " |      D.clear() -> None.  Remove all items from D.\n",
        " |  \n",
        " |  copy(...)\n",
        " |      D.copy() -> a shallow copy of D\n",
        " |  \n",
        " |  fromkeys(...)\n",
        " |      dict.fromkeys(S[,v]) -> New dict with keys from S and values equal to v.\n",
        " |      v defaults to None.\n",
        " |  \n",
        " |  get(...)\n",
        " |      D.get(k[,d]) -> D[k] if k in D, else d.  d defaults to None.\n",
        " |  \n",
        " |  has_key(...)\n",
        " |      D.has_key(k) -> True if D has a key k, else False\n",
        " |  \n",
        " |  items(...)\n",
        " |      D.items() -> list of D's (key, value) pairs, as 2-tuples\n",
        " |  \n",
        " |  iteritems(...)\n",
        " |      D.iteritems() -> an iterator over the (key, value) items of D\n",
        " |  \n",
        " |  iterkeys(...)\n",
        " |      D.iterkeys() -> an iterator over the keys of D\n",
        " |  \n",
        " |  itervalues(...)\n",
        " |      D.itervalues() -> an iterator over the values of D\n",
        " |  \n",
        " |  keys(...)\n",
        " |      D.keys() -> list of D's keys\n",
        " |  \n",
        " |  pop(...)\n",
        " |      D.pop(k[,d]) -> v, remove specified key and return the corresponding value.\n",
        " |      If key is not found, d is returned if given, otherwise KeyError is raised\n",
        " |  \n",
        " |  popitem(...)\n",
        " |      D.popitem() -> (k, v), remove and return some (key, value) pair as a\n",
        " |      2-tuple; but raise KeyError if D is empty.\n",
        " |  \n",
        " |  setdefault(...)\n",
        " |      D.setdefault(k[,d]) -> D.get(k,d), also set D[k]=d if k not in D\n",
        " |  \n",
        " |  update(...)\n",
        " |      D.update([E, ]**F) -> None.  Update D from dict/iterable E and F.\n",
        " |      If E present and has a .keys() method, does:     for k in E: D[k] = E[k]\n",
        " |      If E present and lacks .keys() method, does:     for (k, v) in E: D[k] = v\n",
        " |      In either case, this is followed by: for k in F: D[k] = F[k]\n",
        " |  \n",
        " |  values(...)\n",
        " |      D.values() -> list of D's values\n",
        " |  \n",
        " |  viewitems(...)\n",
        " |      D.viewitems() -> a set-like object providing a view on D's items\n",
        " |  \n",
        " |  viewkeys(...)\n",
        " |      D.viewkeys() -> a set-like object providing a view on D's keys\n",
        " |  \n",
        " |  viewvalues(...)\n",
        " |      D.viewvalues() -> an object providing a view on D's values\n",
        " |  \n",
        " |  ----------------------------------------------------------------------\n",
        " |  Data and other attributes defined here:\n",
        " |  \n",
        " |  __hash__ = None\n",
        " |  \n",
        " |  __new__ = <built-in method __new__ of type object>\n",
        " |      T.__new__(S, ...) -> a new object with type S, a subtype of T\n",
        "\n"
       ]
      }
     ],
     "prompt_number": 21
    },
    {
     "cell_type": "code",
     "collapsed": false,
     "input": [
      "help(str.replace)"
     ],
     "language": "python",
     "metadata": {},
     "outputs": [
      {
       "output_type": "stream",
       "stream": "stdout",
       "text": [
        "Help on method_descriptor:\n",
        "\n",
        "replace(...)\n",
        "    S.replace(old, new[, count]) -> string\n",
        "    \n",
        "    Return a copy of string S with all occurrences of substring\n",
        "    old replaced by new.  If the optional argument count is\n",
        "    given, only the first count occurrences are replaced.\n",
        "\n"
       ]
      }
     ],
     "prompt_number": 22
    }
   ],
   "metadata": {}
  }
 ]
}