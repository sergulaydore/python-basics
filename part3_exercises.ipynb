{
 "metadata": {
  "name": "",
  "signature": "sha256:eab0ed767d181eb6b29db6d142e12b36f31a07eed21f60fb49d44205d31a9ec9"
 },
 "nbformat": 3,
 "nbformat_minor": 0,
 "worksheets": [
  {
   "cells": [
    {
     "cell_type": "heading",
     "level": 1,
     "metadata": {},
     "source": [
      "1. Coding basic loops"
     ]
    },
    {
     "cell_type": "code",
     "collapsed": false,
     "input": [
      "S = 'abcd'\n",
      "for s in S:\n",
      "    print ord(s)"
     ],
     "language": "python",
     "metadata": {},
     "outputs": [
      {
       "output_type": "stream",
       "stream": "stdout",
       "text": [
        "97\n",
        "98\n",
        "99\n",
        "100\n"
       ]
      }
     ],
     "prompt_number": 1
    },
    {
     "cell_type": "code",
     "collapsed": false,
     "input": [
      "[ord(s) for s in S]"
     ],
     "language": "python",
     "metadata": {},
     "outputs": [
      {
       "metadata": {},
       "output_type": "pyout",
       "prompt_number": 3,
       "text": [
        "[97, 98, 99, 100]"
       ]
      }
     ],
     "prompt_number": 3
    },
    {
     "cell_type": "code",
     "collapsed": false,
     "input": [
      "sum([ord(s) for s in S])"
     ],
     "language": "python",
     "metadata": {},
     "outputs": [
      {
       "metadata": {},
       "output_type": "pyout",
       "prompt_number": 4,
       "text": [
        "394"
       ]
      }
     ],
     "prompt_number": 4
    },
    {
     "cell_type": "code",
     "collapsed": false,
     "input": [
      "map(ord, S)"
     ],
     "language": "python",
     "metadata": {},
     "outputs": [
      {
       "metadata": {},
       "output_type": "pyout",
       "prompt_number": 5,
       "text": [
        "[97, 98, 99, 100]"
       ]
      }
     ],
     "prompt_number": 5
    },
    {
     "cell_type": "heading",
     "level": 1,
     "metadata": {},
     "source": [
      "2. Backslash Characters"
     ]
    },
    {
     "cell_type": "code",
     "collapsed": false,
     "input": [
      "for i in range(5): print 'hello %d \\n\\a' %i"
     ],
     "language": "python",
     "metadata": {},
     "outputs": [
      {
       "output_type": "stream",
       "stream": "stdout",
       "text": [
        "hello 0 \n",
        "\u0007\n",
        "hello 1 \n",
        "\u0007\n",
        "hello 2 \n",
        "\u0007\n",
        "hello 3 \n",
        "\u0007\n",
        "hello 4 \n",
        "\u0007\n"
       ]
      }
     ],
     "prompt_number": 6
    },
    {
     "cell_type": "heading",
     "level": 1,
     "metadata": {},
     "source": [
      "3. Sorting Dictionaries"
     ]
    },
    {
     "cell_type": "code",
     "collapsed": false,
     "input": [
      "d = {'a': 12, 'b': 14,'c': 27}"
     ],
     "language": "python",
     "metadata": {},
     "outputs": [],
     "prompt_number": 7
    },
    {
     "cell_type": "code",
     "collapsed": false,
     "input": [
      "sorted(d.keys())"
     ],
     "language": "python",
     "metadata": {},
     "outputs": [
      {
       "metadata": {},
       "output_type": "pyout",
       "prompt_number": 9,
       "text": [
        "['a', 'b', 'c']"
       ]
      }
     ],
     "prompt_number": 9
    },
    {
     "cell_type": "heading",
     "level": 1,
     "metadata": {},
     "source": [
      "4. Program Logic Alternatives"
     ]
    },
    {
     "cell_type": "code",
     "collapsed": false,
     "input": [
      "L = [1, 2, 4, 8, 16, 32, 64]\n",
      "X = 5\n",
      "\n",
      "found = False\n",
      "i = 0\n",
      "while not found and i < len(L):\n",
      "    if 2**X == L[i]:\n",
      "        found = True\n",
      "    else:\n",
      "        i = i+1\n",
      "if found:\n",
      "    print 'at index', i\n",
      "else:\n",
      "    print X, 'not found'"
     ],
     "language": "python",
     "metadata": {},
     "outputs": [
      {
       "output_type": "stream",
       "stream": "stdout",
       "text": [
        "at index 5\n"
       ]
      }
     ],
     "prompt_number": 11
    },
    {
     "cell_type": "code",
     "collapsed": false,
     "input": [
      "L = [1, 2, 4, 8, 16, 32, 64]\n",
      "X = 5\n",
      "\n",
      "found = False\n",
      "while i < len(L):\n",
      "    if 2**X == L[i]:\n",
      "        found = True\n",
      "        print 'at index', i\n",
      "        break\n",
      "    else:\n",
      "        i = i+1\n",
      "else:\n",
      "    print X, 'not found'"
     ],
     "language": "python",
     "metadata": {},
     "outputs": [
      {
       "output_type": "stream",
       "stream": "stdout",
       "text": [
        "at index 5\n"
       ]
      }
     ],
     "prompt_number": 17
    },
    {
     "cell_type": "code",
     "collapsed": false,
     "input": [
      "L = [1, 2, 4, 8, 16, 32, 64]\n",
      "X = 5\n",
      "\n",
      "for l in L:\n",
      "    if 2**X == l:\n",
      "        index = L.index(l)\n",
      "        print 'at index', index\n",
      "        break\n",
      "    else:\n",
      "        continue\n",
      "else:\n",
      "    print X, 'not found'"
     ],
     "language": "python",
     "metadata": {},
     "outputs": [
      {
       "output_type": "stream",
       "stream": "stdout",
       "text": [
        "at index 5\n"
       ]
      }
     ],
     "prompt_number": 27
    },
    {
     "cell_type": "code",
     "collapsed": false,
     "input": [
      "L = [1, 2, 4, 8, 16, 32, 64]\n",
      "X = 5\n",
      "\n",
      "if 2**X in L:\n",
      "    print (2**X), 'was found at', L.index(2**X)\n",
      "else:\n",
      "    print X, 'not found'"
     ],
     "language": "python",
     "metadata": {},
     "outputs": [
      {
       "output_type": "stream",
       "stream": "stdout",
       "text": [
        "32 was found at 5\n"
       ]
      }
     ],
     "prompt_number": 29
    },
    {
     "cell_type": "code",
     "collapsed": false,
     "input": [
      "L = []\n",
      "for i in range(7):\n",
      "    L.append(2**i)"
     ],
     "language": "python",
     "metadata": {},
     "outputs": [],
     "prompt_number": 30
    },
    {
     "cell_type": "code",
     "collapsed": false,
     "input": [
      "L"
     ],
     "language": "python",
     "metadata": {},
     "outputs": [
      {
       "metadata": {},
       "output_type": "pyout",
       "prompt_number": 31,
       "text": [
        "[1, 2, 4, 8, 16, 32, 64]"
       ]
      }
     ],
     "prompt_number": 31
    },
    {
     "cell_type": "code",
     "collapsed": false,
     "input": [
      " L = map(lambda x: 2**x, range(7))"
     ],
     "language": "python",
     "metadata": {},
     "outputs": [],
     "prompt_number": 32
    },
    {
     "cell_type": "code",
     "collapsed": false,
     "input": [
      "L"
     ],
     "language": "python",
     "metadata": {},
     "outputs": [
      {
       "metadata": {},
       "output_type": "pyout",
       "prompt_number": 33,
       "text": [
        "[1, 2, 4, 8, 16, 32, 64]"
       ]
      }
     ],
     "prompt_number": 33
    },
    {
     "cell_type": "code",
     "collapsed": false,
     "input": [],
     "language": "python",
     "metadata": {},
     "outputs": []
    }
   ],
   "metadata": {}
  }
 ]
}