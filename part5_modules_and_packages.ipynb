{
 "metadata": {
  "name": "",
  "signature": "sha256:6f33de1b65b4cc93c48265b2110426f0248114d61c764d848347e3471f8c1e5d"
 },
 "nbformat": 3,
 "nbformat_minor": 0,
 "worksheets": [
  {
   "cells": [
    {
     "cell_type": "heading",
     "level": 1,
     "metadata": {},
     "source": [
      "Chapter 22: Modules: The Big Picture"
     ]
    },
    {
     "cell_type": "markdown",
     "metadata": {},
     "source": [
      "Modules are processed with two statements and one important function:\n",
      "    \n",
      "import:\n",
      "\n",
      "   Let's a client (importer) fetch a module as a whole\n",
      "   \n",
      "from:\n",
      "\n",
      "   Allows clients to fetch particular names from a module\n",
      "   "
     ]
    },
    {
     "cell_type": "code",
     "collapsed": false,
     "input": [
      "def spam(text): # File b.py\n",
      "\tprint(text, 'spam')"
     ],
     "language": "python",
     "metadata": {},
     "outputs": [],
     "prompt_number": 1
    },
    {
     "cell_type": "code",
     "collapsed": false,
     "input": [
      "import b # File a.py\n",
      "b.spam('gumby') # prints \"gumby spam\""
     ],
     "language": "python",
     "metadata": {},
     "outputs": [
      {
       "output_type": "stream",
       "stream": "stdout",
       "text": [
        "('gumby', 'spam')\n"
       ]
      }
     ],
     "prompt_number": 2
    },
    {
     "cell_type": "markdown",
     "metadata": {},
     "source": [
      "How imports work?\n",
      "\n",
      "1. Find the module's file.\n",
      "\n",
      "2. Compile it to byte code (if needed)\n",
      "\n",
      "3. Run the module's code to build the objects it defines"
     ]
    },
    {
     "cell_type": "heading",
     "level": 2,
     "metadata": {},
     "source": [
      "1. Find it"
     ]
    },
    {
     "cell_type": "markdown",
     "metadata": {},
     "source": [
      "Notice that the import statement names the file without a .py extension and without its directory path."
     ]
    },
    {
     "cell_type": "heading",
     "level": 2,
     "metadata": {},
     "source": [
      "2.Compile it (Maybe)"
     ]
    },
    {
     "cell_type": "markdown",
     "metadata": {},
     "source": [
      "by traversing the module search path, Python next compiles it to a byte code, if necessary. During an import operation Python checks both file modification times and the byte code's Python version number to decide how to proceed."
     ]
    },
    {
     "cell_type": "heading",
     "level": 3,
     "metadata": {},
     "source": [
      "Compile:"
     ]
    },
    {
     "cell_type": "markdown",
     "metadata": {},
     "source": [
      "If the byte code file is older than the source file (i.e., if you'ce changed the source) or was created by a different python version, Python automatically regenerates the byte code when the program is run."
     ]
    },
    {
     "cell_type": "heading",
     "level": 3,
     "metadata": {},
     "source": [
      "DOn't compile:"
     ]
    },
    {
     "cell_type": "markdown",
     "metadata": {},
     "source": [
      "If Python finds a .pyc byte code file that is not older than the corresponding .py source file and was created by the same Python version, it skips the source-to-byte-code compile step."
     ]
    },
    {
     "cell_type": "heading",
     "level": 2,
     "metadata": {},
     "source": [
      "3. Run it"
     ]
    },
    {
     "cell_type": "markdown",
     "metadata": {},
     "source": [
      "THe final step of an import opeation executes the byte code of the module."
     ]
    },
    {
     "cell_type": "heading",
     "level": 2,
     "metadata": {},
     "source": [
      "The Module Search Path"
     ]
    },
    {
     "cell_type": "markdown",
     "metadata": {},
     "source": [
      "Python's module search path is composed of the concatenation of these major components:"
     ]
    },
    {
     "cell_type": "markdown",
     "metadata": {},
     "source": [
      "1. Home directory of the program\n",
      "\n",
      "2. PYTHONPATH directories (if set)\n",
      "\n",
      "3. Standard library directories\n",
      "\n",
      "4. The contents of any .pth files (if present)\n",
      "\n",
      "5. The site-packages home of third-party extensions"
     ]
    },
    {
     "cell_type": "markdown",
     "metadata": {},
     "source": [
      "Ultimately, the concatenation of these four components becomes sys.path, a mutable list of directory name strings. The first and third elementsnof the search path are defined automatically. The second and fourth elements can be used to extend the path to include your own source code directories."
     ]
    },
    {
     "cell_type": "heading",
     "level": 3,
     "metadata": {},
     "source": [
      "Home directory (Automatic)"
     ]
    },
    {
     "cell_type": "markdown",
     "metadata": {},
     "source": [
      "When you are running a program, this entry is the directory containing your program's top-level script file. When you are working interactively, this entry is the directory in which you are working (i.e., the current working directory)"
     ]
    },
    {
     "cell_type": "heading",
     "level": 3,
     "metadata": {},
     "source": [
      "PYTHONPATH directories (configurable)"
     ]
    },
    {
     "cell_type": "markdown",
     "metadata": {},
     "source": [
      "Next, Python searches all directories listed in your PYTHONPATH environment variable setting, from left to right (assuming you have set this at all: it's not preset for you)"
     ]
    },
    {
     "cell_type": "heading",
     "level": 3,
     "metadata": {},
     "source": [
      "Standard library directories (automatic)"
     ]
    },
    {
     "cell_type": "markdown",
     "metadata": {},
     "source": [
      "Next, Python automatically searches the directories where the standard library nodules are installed on your machine."
     ]
    },
    {
     "cell_type": "heading",
     "level": 3,
     "metadata": {},
     "source": [
      ".pth path file directories"
     ]
    },
    {
     "cell_type": "markdown",
     "metadata": {},
     "source": [
      "Next, a lesser-used feature of python allows users to add directories to the module search path by simply listing them, one per line, in a text file whose name ends with a .pth suffix."
     ]
    },
    {
     "cell_type": "heading",
     "level": 3,
     "metadata": {},
     "source": [
      "The Lib/site-packages directory of third-party extensions (automatic)"
     ]
    },
    {
     "cell_type": "markdown",
     "metadata": {},
     "source": [
      "Finally, Python automatically adds the site-packages subdirectory of its standard library to the module search path."
     ]
    },
    {
     "cell_type": "heading",
     "level": 2,
     "metadata": {},
     "source": [
      "The sys.path List"
     ]
    },
    {
     "cell_type": "markdown",
     "metadata": {},
     "source": [
      "If you want to see how the module search path is truly configured on your machine, you can always inspect the path as Python knows it by printing the built-in sys.path"
     ]
    },
    {
     "cell_type": "code",
     "collapsed": false,
     "input": [
      "import sys\n",
      "sys.path"
     ],
     "language": "python",
     "metadata": {},
     "outputs": [
      {
       "metadata": {},
       "output_type": "pyout",
       "prompt_number": 6,
       "text": [
        "['',\n",
        " '/Users/sergulaydore/anaconda/lib/python27.zip',\n",
        " '/Users/sergulaydore/anaconda/lib/python2.7',\n",
        " '/Users/sergulaydore/anaconda/lib/python2.7/plat-darwin',\n",
        " '/Users/sergulaydore/anaconda/lib/python2.7/plat-mac',\n",
        " '/Users/sergulaydore/anaconda/lib/python2.7/plat-mac/lib-scriptpackages',\n",
        " '/Users/sergulaydore/anaconda/lib/python2.7/lib-tk',\n",
        " '/Users/sergulaydore/anaconda/lib/python2.7/lib-old',\n",
        " '/Users/sergulaydore/anaconda/lib/python2.7/lib-dynload',\n",
        " '/Users/sergulaydore/anaconda/lib/python2.7/site-packages',\n",
        " '/Users/sergulaydore/anaconda/lib/python2.7/site-packages/PIL',\n",
        " '/Users/sergulaydore/anaconda/lib/python2.7/site-packages/Sphinx-1.2.3-py2.7.egg',\n",
        " '/Users/sergulaydore/anaconda/lib/python2.7/site-packages/runipy-0.1.1-py2.7.egg',\n",
        " '/Users/sergulaydore/anaconda/lib/python2.7/site-packages/setuptools-5.8-py2.7.egg',\n",
        " '/Users/sergulaydore/anaconda/lib/python2.7/site-packages/IPython/extensions']"
       ]
      }
     ],
     "prompt_number": 6
    },
    {
     "cell_type": "heading",
     "level": 2,
     "metadata": {},
     "source": [
      "Module File Selection "
     ]
    },
    {
     "cell_type": "markdown",
     "metadata": {},
     "source": [
      "Python automatically selects any type that matches a module's name."
     ]
    },
    {
     "cell_type": "code",
     "collapsed": false,
     "input": [],
     "language": "python",
     "metadata": {},
     "outputs": []
    }
   ],
   "metadata": {}
  }
 ]
}