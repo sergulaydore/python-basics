{
 "metadata": {
  "name": "",
  "signature": "sha256:ef1c8c45aaf7f2edaf7236e6cd17b34c540014883944f7117b259a75708c86af"
 },
 "nbformat": 3,
 "nbformat_minor": 0,
 "worksheets": [
  {
   "cells": [
    {
     "cell_type": "heading",
     "level": 1,
     "metadata": {},
     "source": [
      "Chapter 16 - Function Basics"
     ]
    },
    {
     "cell_type": "heading",
     "level": 3,
     "metadata": {},
     "source": [
      "def Statements"
     ]
    },
    {
     "cell_type": "markdown",
     "metadata": {},
     "source": [
      "creates a function object and assigns it to a name."
     ]
    },
    {
     "cell_type": "code",
     "collapsed": false,
     "input": [
      "def times(x,y):\n",
      "    return x*y"
     ],
     "language": "python",
     "metadata": {},
     "outputs": [],
     "prompt_number": 1
    },
    {
     "cell_type": "code",
     "collapsed": false,
     "input": [
      "times(2,4)"
     ],
     "language": "python",
     "metadata": {},
     "outputs": [
      {
       "metadata": {},
       "output_type": "pyout",
       "prompt_number": 2,
       "text": [
        "8"
       ]
      }
     ],
     "prompt_number": 2
    },
    {
     "cell_type": "code",
     "collapsed": false,
     "input": [
      "times('Ni',4)"
     ],
     "language": "python",
     "metadata": {},
     "outputs": [
      {
       "metadata": {},
       "output_type": "pyout",
       "prompt_number": 3,
       "text": [
        "'NiNiNiNi'"
       ]
      }
     ],
     "prompt_number": 3
    },
    {
     "cell_type": "heading",
     "level": 3,
     "metadata": {},
     "source": [
      "Polymorphism"
     ]
    },
    {
     "cell_type": "markdown",
     "metadata": {},
     "source": [
      "If the objects passes into a function have the expected methods and expression operators, they are plug-and-play compatible with th function's logic."
     ]
    },
    {
     "cell_type": "code",
     "collapsed": false,
     "input": [],
     "language": "python",
     "metadata": {},
     "outputs": []
    }
   ],
   "metadata": {}
  }
 ]
}